{
  "cells": [
    {
      "cell_type": "markdown",
      "metadata": {
        "id": "view-in-github",
        "colab_type": "text"
      },
      "source": [
        "<a href=\"https://colab.research.google.com/github/ElenaTratsevskaya/DA-Python-Project_Solving-a-complex-business-problem/blob/main/DA_Python_Project_Solving_a_complex_business_problem.ipynb\" target=\"_parent\"><img src=\"https://colab.research.google.com/assets/colab-badge.svg\" alt=\"Open In Colab\"/></a>"
      ]
    },
    {
      "cell_type": "markdown",
      "metadata": {
        "id": "RCQ7O2Gf823r"
      },
      "source": [
        "<div id=\"header\" align=\"center\"><h1><span style=\"color:#2F4F4F\">PROJECT: Решение комплексной бизнес-задачи<br> для подготовки рекомендательной системы</p></h1></div>"
      ]
    },
    {
      "cell_type": "markdown",
      "metadata": {
        "id": "YBbzobOl823v"
      },
      "source": [
        "<span style=\"color:#2F4F4F\">**Ц Е Л Ь**:</p>\n",
        "Подготовить основу рекомендательной системы для курсов он-лайн школы, благодаря которой можно будет предлагать клиентам интересные им курсы и тем самым повышать средний чек."
      ]
    },
    {
      "cell_type": "markdown",
      "metadata": {
        "id": "qZrspm5J823v"
      },
      "source": [
        "<span style=\"color:#2F4F4F\">**КОНКРЕТНЫЕ ШАГИ (ФОРМАЛИЗОВАННЫЕ ЗАДАЧИ)**:</p><br>\n",
        "\n",
        "1. Познакомиться с датасетом, подготовить и проанализировать данные с помощью SQL.<br>\n",
        "2. Обработать данные средствами Python.<br>\n",
        "3. Составить итоговую таблицу с рекомендациями, снабдив её необходимыми комментариями, и представить отчёт.<br><br>\n",
        "\n",
        "<span style=\"color:#2F4F4F\">**РЕЗУЛЬТАТ ПРОЕКТА**:</p>\n",
        "Итогом работы является файл, содержащий результаты всех промежуточных этапов: скрипты с комментариями, таблица рекомендаций и выводы."
      ]
    },
    {
      "cell_type": "markdown",
      "metadata": {
        "id": "-0mWh32A823w"
      },
      "source": [
        "<span style=\"color:#2F4F4F\">**ИСХОДНЫЕ ДАННЫЕ**:</p><br>\n",
        "<span style=\"color:#2F4F4F\">Таблица **carts** — данные о пользовательских корзинах:</p>\n",
        "<table>\n",
        "<thead>\n",
        "<tr><th>Название поля</th><th>Описание</th></tr>\n",
        "</thead>\n",
        "<tbody>\n",
        "<tr><td>Promo Code ID</td><td>ID промокода, если он есть</td></tr>\n",
        "<tr><td>Purchased At</td><td>дата оплаты</td></tr>\n",
        "<tr><td>User ID</td><td>ID пользователя</td></tr>\n",
        "<tr><td>Created At</td><td>дата создания корзины</td></tr> \n",
        "<tr><td>Updated At</td><td>дата последнего обновления информации</td></tr>\n",
        "<tr><td>ID</td><td>идентификатор корзины</td></tr>\n",
        "<tr><td>State</td><td>состояние оплаты</td></tr>\n",
        "</tbody>\n",
        "</table>\n",
        "\n",
        "<span style=\"color:#2F4F4F\">Таблица **cart items** — данные о курсах, которые пользователи добавили в корзину:</p>\n",
        "<table>\n",
        "<thead>\n",
        "<tr><th>Название поля</th><th>Описание</th></tr>\n",
        "</thead>\n",
        "<tbody>\n",
        "<tr><td>Created At</td><td>дата создания события</td></tr>\n",
        "<tr><td>Resource Type</td><td>тип продукта</td></tr>\n",
        "<tr><td>Resource ID</td><td>ID курса</td></tr>\n",
        "<tr><td>Cart ID</td><td>идентификатор корзины</td></tr> \n",
        "<tr><td>Updated At</td><td>дата последнего обновления информации</td></tr>\n",
        "<tr><td>ID</td><td>идентификатор операции</td></tr>\n",
        "</tbody>\n",
        "</table>\n"
      ]
    },
    {
      "cell_type": "code",
      "execution_count": null,
      "metadata": {
        "id": "QVK3MPXe823w",
        "outputId": "29004703-6cd6-4a5b-e661-28b955bb7076"
      },
      "outputs": [
        {
          "name": "stdout",
          "output_type": "stream",
          "text": [
            "Requirement already satisfied: pip in c:\\users\\user\\anaconda3\\lib\\site-packages (23.0.1)\n"
          ]
        }
      ],
      "source": [
        "!python -m pip install --upgrade pip"
      ]
    },
    {
      "cell_type": "code",
      "execution_count": null,
      "metadata": {
        "id": "N-EikR6P823y",
        "outputId": "10c34078-6bfb-4448-e151-908b1a4229f1"
      },
      "outputs": [
        {
          "name": "stdout",
          "output_type": "stream",
          "text": [
            "Requirement already satisfied: psycopg2 in c:\\users\\user\\anaconda3\\lib\\site-packages (2.9.5)\n"
          ]
        }
      ],
      "source": [
        "! pip install psycopg2 "
      ]
    },
    {
      "cell_type": "code",
      "execution_count": null,
      "metadata": {
        "id": "5xevryb-823z"
      },
      "outputs": [],
      "source": [
        "#импортируем библиотеки\n",
        "import pandas as pd\n",
        "import numpy as np\n",
        "import psycopg2\n",
        "import psycopg2.extras\n",
        "from itertools import combinations \n",
        "from collections import Counter\n",
        "import json"
      ]
    },
    {
      "cell_type": "markdown",
      "metadata": {
        "id": "727TeMm5823z"
      },
      "source": [
        "<div id=\"header\" align=\"center\"><h1><span style=\"color:#2F4F4F\">Решение формализованных задач 1-2</p></h1></div>"
      ]
    },
    {
      "cell_type": "markdown",
      "metadata": {
        "id": "2ciitCAU823z"
      },
      "source": [
        "**Посмотрим сколько клиентов покупали курсы.**"
      ]
    },
    {
      "cell_type": "code",
      "execution_count": null,
      "metadata": {
        "id": "cGT7mZQR823z",
        "outputId": "3b18b027-9b33-4bc1-8457-c4f171d43445"
      },
      "outputs": [
        {
          "name": "stdout",
          "output_type": "stream",
          "text": [
            "[(49006,)]\n",
            "PostgreSQL connection is closed\n"
          ]
        }
      ],
      "source": [
        "try:\n",
        "    connection = psycopg2.connect(\n",
        "        user=\"skillfactory\",\n",
        "        password=\"cCkxxLVrDE8EbvjueeMedPKt\",\n",
        "        host=\"84.201.134.129\",\n",
        "        port=\"5432\",\n",
        "        database=\"skillfactory\",\n",
        "    )\n",
        "    cursor = connection.cursor()\n",
        "\n",
        "    create_table_query = '''SELECT \n",
        "    COUNT (DISTINCT user_id) AS quantity\n",
        "    FROM final.carts c\n",
        "    JOIN final.cart_items i ON i.cart_id = c.id\n",
        "    WHERE state = 'successful'\n",
        "    AND resource_type = 'Course'\n",
        "    '''.format()\n",
        "\n",
        "    cursor.execute(create_table_query)\n",
        "    users_count = cursor.fetchall() \n",
        "    connection.commit()\n",
        "    print(users_count)\n",
        "\n",
        "except (Exception, psycopg2.DatabaseError) as error:\n",
        "    print(\"Error while creating PostgreSQL table\", error)\n",
        "finally:\n",
        "    if connection:\n",
        "        cursor.close()\n",
        "        connection.close()\n",
        "        print(\"PostgreSQL connection is closed\")"
      ]
    },
    {
      "cell_type": "markdown",
      "metadata": {
        "id": "iVHExF6T8230"
      },
      "source": [
        "**Определим колько всего есть различных курсов в он-лайн школе.**"
      ]
    },
    {
      "cell_type": "code",
      "execution_count": null,
      "metadata": {
        "id": "1kEb8GEZ8230",
        "outputId": "e1feedbc-d8a5-440f-809b-4239e2fe22fd"
      },
      "outputs": [
        {
          "name": "stdout",
          "output_type": "stream",
          "text": [
            "[(127,)]\n",
            "PostgreSQL connection is closed\n"
          ]
        }
      ],
      "source": [
        "try:\n",
        "    connection = psycopg2.connect(\n",
        "        user=\"skillfactory\",\n",
        "        password=\"cCkxxLVrDE8EbvjueeMedPKt\",\n",
        "        host=\"84.201.134.129\",\n",
        "        port=\"5432\",\n",
        "        database=\"skillfactory\",\n",
        "    )\n",
        "    cursor = connection.cursor()\n",
        "\n",
        "    create_table_query = '''SELECT\n",
        "\tCOUNT(DISTINCT resource_id)\n",
        "\tFROM final.cart_items \n",
        "  \tWHERE resource_type = 'Course'\n",
        "    '''.format()\n",
        "\n",
        "    cursor.execute(create_table_query)\n",
        "    n_resource = cursor.fetchall() \n",
        "    connection.commit()\n",
        "    print(n_resource)\n",
        "\n",
        "except (Exception, psycopg2.DatabaseError) as error:\n",
        "    print(\"Error while creating PostgreSQL table\", error)\n",
        "finally:\n",
        "    if connection:\n",
        "        cursor.close()\n",
        "        connection.close()\n",
        "        print(\"PostgreSQL connection is closed\")"
      ]
    },
    {
      "cell_type": "markdown",
      "metadata": {
        "id": "coaj_IUn8230"
      },
      "source": [
        "**Опреленим среднее число купленных курсов на одного клиента.**"
      ]
    },
    {
      "cell_type": "code",
      "execution_count": null,
      "metadata": {
        "id": "PX8192pA8231",
        "outputId": "a36d51c5-521c-498a-979c-fc40abf83cb2"
      },
      "outputs": [
        {
          "name": "stdout",
          "output_type": "stream",
          "text": [
            "[(Decimal('1.4402522140146105'),)]\n",
            "PostgreSQL connection is closed\n"
          ]
        }
      ],
      "source": [
        "try:\n",
        "    connection = psycopg2.connect(\n",
        "        user=\"skillfactory\",\n",
        "        password=\"cCkxxLVrDE8EbvjueeMedPKt\",\n",
        "        host=\"84.201.134.129\",\n",
        "        port=\"5432\",\n",
        "        database=\"skillfactory\",\n",
        "    )\n",
        "    cursor = connection.cursor()\n",
        "\n",
        "    create_table_query = '''WITH select_clients AS\n",
        "    (\n",
        "\tSELECT\n",
        "\t\tDISTINCT user_id,\n",
        "\t\tCOUNT(resource_id) as cr\n",
        "\tFROM final.carts c\n",
        "  \tJOIN final.cart_items i on i.cart_id = c.id\n",
        "  \tWHERE state = 'successful'\n",
        "\tAND resource_type = 'Course'\n",
        "\tGROUP BY 1\n",
        ")\n",
        "\n",
        "SELECT \n",
        "\tAVG(cr)\n",
        "\tFROM select_clients\n",
        "    '''.format()\n",
        "\n",
        "    cursor.execute(create_table_query)\n",
        "    avg_resource = cursor.fetchall() \n",
        "    connection.commit()\n",
        "    print(avg_resource)\n",
        "\n",
        "except (Exception, psycopg2.DatabaseError) as error:\n",
        "    print(\"Error while creating PostgreSQL table\", error)\n",
        "finally:\n",
        "    if connection:\n",
        "        cursor.close()\n",
        "        connection.close()\n",
        "        print(\"PostgreSQL connection is closed\")"
      ]
    },
    {
      "cell_type": "markdown",
      "metadata": {
        "id": "dmmxzB4E8231"
      },
      "source": [
        "**Получим данные солько клиентов купили больше одного курса.**"
      ]
    },
    {
      "cell_type": "code",
      "execution_count": null,
      "metadata": {
        "id": "3AjIbZjt8231",
        "outputId": "9d43eb0b-4098-4b48-faaa-66650f3de606"
      },
      "outputs": [
        {
          "name": "stdout",
          "output_type": "stream",
          "text": [
            "[(12656,)]\n",
            "PostgreSQL connection is closed\n"
          ]
        }
      ],
      "source": [
        "try:\n",
        "    connection = psycopg2.connect(\n",
        "        user=\"skillfactory\",\n",
        "        password=\"cCkxxLVrDE8EbvjueeMedPKt\",\n",
        "        host=\"84.201.134.129\",\n",
        "        port=\"5432\",\n",
        "        database=\"skillfactory\",\n",
        "    )\n",
        "    cursor = connection.cursor()\n",
        "\n",
        "    create_table_query = '''WITH count_more_one AS \n",
        "(\n",
        "SELECT\n",
        "    user_id,\n",
        "    COUNT (DISTINCT resource_id) \n",
        "FROM final.carts c\n",
        "JOIN final.cart_items i on c.id=i.cart_id\n",
        "WHERE resource_type = 'Course' and state = 'successful'\n",
        "GROUP BY 1\n",
        "HAVING COUNT (distinct resource_id) > 1\n",
        ")\n",
        "\n",
        "SELECT\n",
        "    COUNT(user_id)\n",
        "FROM count_more_one\n",
        "    '''.format()\n",
        "\n",
        "    cursor.execute(create_table_query)\n",
        "    count1_resource = cursor.fetchall() \n",
        "    connection.commit()\n",
        "    print(count1_resource)\n",
        "\n",
        "except (Exception, psycopg2.DatabaseError) as error:\n",
        "    print(\"Error while creating PostgreSQL table\", error)\n",
        "finally:\n",
        "    if connection:\n",
        "        cursor.close()\n",
        "        connection.close()\n",
        "        print(\"PostgreSQL connection is closed\")"
      ]
    },
    {
      "cell_type": "markdown",
      "metadata": {
        "id": "AlJwhIYt8232"
      },
      "source": [
        "**Выведем данные, сколько различных пар курсов встречаются вместе в покупках клиентов.**"
      ]
    },
    {
      "cell_type": "code",
      "execution_count": null,
      "metadata": {
        "id": "xI2reyhS8232",
        "outputId": "bf634f6f-9164-468b-adac-c778ea03b372"
      },
      "outputs": [
        {
          "name": "stdout",
          "output_type": "stream",
          "text": [
            "PostgreSQL connection is closed\n"
          ]
        }
      ],
      "source": [
        "try:\n",
        "    connection = psycopg2.connect(\n",
        "        user=\"skillfactory\",\n",
        "        password=\"cCkxxLVrDE8EbvjueeMedPKt\",\n",
        "        host=\"84.201.134.129\",\n",
        "        port=\"5432\",\n",
        "        database=\"skillfactory\",\n",
        "    )\n",
        "    cursor = connection.cursor()\n",
        "\n",
        "    create_table_query = '''WITH interested_clients AS\n",
        "    (\n",
        "    SELECT user_id,\n",
        "    COUNT (DISTINCT resource_id) AS quantity\n",
        "    FROM final.carts c\n",
        "    JOIN final.cart_items i ON i.cart_id = c.id\n",
        "    WHERE state = 'successful'\n",
        "    AND resource_type = 'Course'\n",
        "    GROUP BY 1\n",
        "    HAVING COUNT (DISTINCT resource_id) > 1\n",
        "    )\n",
        "    SELECT DISTINCT c.user_id, \n",
        "    resource_id\n",
        "    FROM final.carts c\n",
        "    JOIN final.cart_items i ON i.cart_id = c.id\n",
        "    JOIN interested_clients ic ON ic.user_id = c.user_id\n",
        "    WHERE state = 'successful'\n",
        "    AND resource_type = 'Course'\n",
        "    ORDER BY 1\n",
        "    '''.format()\n",
        "\n",
        "    cursor.execute(create_table_query)\n",
        "    mobile_table = cursor.fetchall() \n",
        "    connection.commit()\n",
        "    \n",
        "\n",
        "except (Exception, psycopg2.DatabaseError) as error:\n",
        "    print(\"Error while creating PostgreSQL table\", error)\n",
        "finally:\n",
        "    if connection:\n",
        "        cursor.close()\n",
        "        connection.close()\n",
        "        print(\"PostgreSQL connection is closed\")"
      ]
    },
    {
      "cell_type": "code",
      "execution_count": null,
      "metadata": {
        "id": "_kGMfgNF8232",
        "outputId": "272e7d20-2f60-45d4-d673-3ff0303939e2"
      },
      "outputs": [
        {
          "data": {
            "text/html": [
              "<div>\n",
              "<style scoped>\n",
              "    .dataframe tbody tr th:only-of-type {\n",
              "        vertical-align: middle;\n",
              "    }\n",
              "\n",
              "    .dataframe tbody tr th {\n",
              "        vertical-align: top;\n",
              "    }\n",
              "\n",
              "    .dataframe thead th {\n",
              "        text-align: right;\n",
              "    }\n",
              "</style>\n",
              "<table border=\"1\" class=\"dataframe\">\n",
              "  <thead>\n",
              "    <tr style=\"text-align: right;\">\n",
              "      <th></th>\n",
              "      <th>0</th>\n",
              "      <th>1</th>\n",
              "    </tr>\n",
              "  </thead>\n",
              "  <tbody>\n",
              "    <tr>\n",
              "      <th>0</th>\n",
              "      <td>51</td>\n",
              "      <td>516</td>\n",
              "    </tr>\n",
              "    <tr>\n",
              "      <th>1</th>\n",
              "      <td>51</td>\n",
              "      <td>1099</td>\n",
              "    </tr>\n",
              "    <tr>\n",
              "      <th>2</th>\n",
              "      <td>6117</td>\n",
              "      <td>356</td>\n",
              "    </tr>\n",
              "    <tr>\n",
              "      <th>3</th>\n",
              "      <td>6117</td>\n",
              "      <td>357</td>\n",
              "    </tr>\n",
              "    <tr>\n",
              "      <th>4</th>\n",
              "      <td>6117</td>\n",
              "      <td>1125</td>\n",
              "    </tr>\n",
              "    <tr>\n",
              "      <th>...</th>\n",
              "      <td>...</td>\n",
              "      <td>...</td>\n",
              "    </tr>\n",
              "    <tr>\n",
              "      <th>34069</th>\n",
              "      <td>2188926</td>\n",
              "      <td>515</td>\n",
              "    </tr>\n",
              "    <tr>\n",
              "      <th>34070</th>\n",
              "      <td>2188926</td>\n",
              "      <td>743</td>\n",
              "    </tr>\n",
              "    <tr>\n",
              "      <th>34071</th>\n",
              "      <td>2190141</td>\n",
              "      <td>756</td>\n",
              "    </tr>\n",
              "    <tr>\n",
              "      <th>34072</th>\n",
              "      <td>2190141</td>\n",
              "      <td>794</td>\n",
              "    </tr>\n",
              "    <tr>\n",
              "      <th>34073</th>\n",
              "      <td>2190141</td>\n",
              "      <td>1185</td>\n",
              "    </tr>\n",
              "  </tbody>\n",
              "</table>\n",
              "<p>34074 rows × 2 columns</p>\n",
              "</div>"
            ],
            "text/plain": [
              "             0     1\n",
              "0           51   516\n",
              "1           51  1099\n",
              "2         6117   356\n",
              "3         6117   357\n",
              "4         6117  1125\n",
              "...        ...   ...\n",
              "34069  2188926   515\n",
              "34070  2188926   743\n",
              "34071  2190141   756\n",
              "34072  2190141   794\n",
              "34073  2190141  1185\n",
              "\n",
              "[34074 rows x 2 columns]"
            ]
          },
          "execution_count": 9,
          "metadata": {},
          "output_type": "execute_result"
        }
      ],
      "source": [
        "# Далее преобразую список кортежей в датафрейм.\n",
        "select_clients_df = pd.DataFrame(mobile_table)\n",
        "select_clients_df"
      ]
    },
    {
      "cell_type": "code",
      "execution_count": null,
      "metadata": {
        "id": "X2ePBW8_8233",
        "outputId": "a55450bc-0cb9-4430-be35-43fc44723b30"
      },
      "outputs": [
        {
          "data": {
            "text/html": [
              "<div>\n",
              "<style scoped>\n",
              "    .dataframe tbody tr th:only-of-type {\n",
              "        vertical-align: middle;\n",
              "    }\n",
              "\n",
              "    .dataframe tbody tr th {\n",
              "        vertical-align: top;\n",
              "    }\n",
              "\n",
              "    .dataframe thead th {\n",
              "        text-align: right;\n",
              "    }\n",
              "</style>\n",
              "<table border=\"1\" class=\"dataframe\">\n",
              "  <thead>\n",
              "    <tr style=\"text-align: right;\">\n",
              "      <th></th>\n",
              "      <th>user_id</th>\n",
              "      <th>resource_id</th>\n",
              "    </tr>\n",
              "  </thead>\n",
              "  <tbody>\n",
              "    <tr>\n",
              "      <th>0</th>\n",
              "      <td>51</td>\n",
              "      <td>516</td>\n",
              "    </tr>\n",
              "    <tr>\n",
              "      <th>1</th>\n",
              "      <td>51</td>\n",
              "      <td>1099</td>\n",
              "    </tr>\n",
              "    <tr>\n",
              "      <th>2</th>\n",
              "      <td>6117</td>\n",
              "      <td>356</td>\n",
              "    </tr>\n",
              "    <tr>\n",
              "      <th>3</th>\n",
              "      <td>6117</td>\n",
              "      <td>357</td>\n",
              "    </tr>\n",
              "    <tr>\n",
              "      <th>4</th>\n",
              "      <td>6117</td>\n",
              "      <td>1125</td>\n",
              "    </tr>\n",
              "    <tr>\n",
              "      <th>...</th>\n",
              "      <td>...</td>\n",
              "      <td>...</td>\n",
              "    </tr>\n",
              "    <tr>\n",
              "      <th>34069</th>\n",
              "      <td>2188926</td>\n",
              "      <td>515</td>\n",
              "    </tr>\n",
              "    <tr>\n",
              "      <th>34070</th>\n",
              "      <td>2188926</td>\n",
              "      <td>743</td>\n",
              "    </tr>\n",
              "    <tr>\n",
              "      <th>34071</th>\n",
              "      <td>2190141</td>\n",
              "      <td>756</td>\n",
              "    </tr>\n",
              "    <tr>\n",
              "      <th>34072</th>\n",
              "      <td>2190141</td>\n",
              "      <td>794</td>\n",
              "    </tr>\n",
              "    <tr>\n",
              "      <th>34073</th>\n",
              "      <td>2190141</td>\n",
              "      <td>1185</td>\n",
              "    </tr>\n",
              "  </tbody>\n",
              "</table>\n",
              "<p>34074 rows × 2 columns</p>\n",
              "</div>"
            ],
            "text/plain": [
              "       user_id  resource_id\n",
              "0           51          516\n",
              "1           51         1099\n",
              "2         6117          356\n",
              "3         6117          357\n",
              "4         6117         1125\n",
              "...        ...          ...\n",
              "34069  2188926          515\n",
              "34070  2188926          743\n",
              "34071  2190141          756\n",
              "34072  2190141          794\n",
              "34073  2190141         1185\n",
              "\n",
              "[34074 rows x 2 columns]"
            ]
          },
          "execution_count": 10,
          "metadata": {},
          "output_type": "execute_result"
        }
      ],
      "source": [
        "# Необходимо ввести название колонок, для последующего обращения к данным из этих колонок.\n",
        "select_clients_df.columns =['user_id', 'resource_id'] \n",
        "select_clients_df"
      ]
    },
    {
      "cell_type": "code",
      "execution_count": null,
      "metadata": {
        "id": "wqOVY3SK8233",
        "outputId": "8816f666-b780-4055-cf9c-e6f167f3adbe"
      },
      "outputs": [
        {
          "data": {
            "text/html": [
              "<div>\n",
              "<style scoped>\n",
              "    .dataframe tbody tr th:only-of-type {\n",
              "        vertical-align: middle;\n",
              "    }\n",
              "\n",
              "    .dataframe tbody tr th {\n",
              "        vertical-align: top;\n",
              "    }\n",
              "\n",
              "    .dataframe thead th {\n",
              "        text-align: right;\n",
              "    }\n",
              "</style>\n",
              "<table border=\"1\" class=\"dataframe\">\n",
              "  <thead>\n",
              "    <tr style=\"text-align: right;\">\n",
              "      <th></th>\n",
              "      <th>user_id</th>\n",
              "      <th>resource_id</th>\n",
              "    </tr>\n",
              "  </thead>\n",
              "  <tbody>\n",
              "    <tr>\n",
              "      <th>0</th>\n",
              "      <td>51</td>\n",
              "      <td>[516, 1099]</td>\n",
              "    </tr>\n",
              "    <tr>\n",
              "      <th>1</th>\n",
              "      <td>6117</td>\n",
              "      <td>[356, 357, 1125]</td>\n",
              "    </tr>\n",
              "    <tr>\n",
              "      <th>2</th>\n",
              "      <td>10275</td>\n",
              "      <td>[553, 1147]</td>\n",
              "    </tr>\n",
              "    <tr>\n",
              "      <th>3</th>\n",
              "      <td>10457</td>\n",
              "      <td>[361, 1138]</td>\n",
              "    </tr>\n",
              "    <tr>\n",
              "      <th>4</th>\n",
              "      <td>17166</td>\n",
              "      <td>[356, 357]</td>\n",
              "    </tr>\n",
              "    <tr>\n",
              "      <th>...</th>\n",
              "      <td>...</td>\n",
              "      <td>...</td>\n",
              "    </tr>\n",
              "    <tr>\n",
              "      <th>12651</th>\n",
              "      <td>2179430</td>\n",
              "      <td>[566, 750]</td>\n",
              "    </tr>\n",
              "    <tr>\n",
              "      <th>12652</th>\n",
              "      <td>2186581</td>\n",
              "      <td>[794, 864, 1129]</td>\n",
              "    </tr>\n",
              "    <tr>\n",
              "      <th>12653</th>\n",
              "      <td>2187601</td>\n",
              "      <td>[356, 553, 571, 765, 912]</td>\n",
              "    </tr>\n",
              "    <tr>\n",
              "      <th>12654</th>\n",
              "      <td>2188926</td>\n",
              "      <td>[515, 743]</td>\n",
              "    </tr>\n",
              "    <tr>\n",
              "      <th>12655</th>\n",
              "      <td>2190141</td>\n",
              "      <td>[756, 794, 1185]</td>\n",
              "    </tr>\n",
              "  </tbody>\n",
              "</table>\n",
              "<p>12656 rows × 2 columns</p>\n",
              "</div>"
            ],
            "text/plain": [
              "       user_id                resource_id\n",
              "0           51                [516, 1099]\n",
              "1         6117           [356, 357, 1125]\n",
              "2        10275                [553, 1147]\n",
              "3        10457                [361, 1138]\n",
              "4        17166                 [356, 357]\n",
              "...        ...                        ...\n",
              "12651  2179430                 [566, 750]\n",
              "12652  2186581           [794, 864, 1129]\n",
              "12653  2187601  [356, 553, 571, 765, 912]\n",
              "12654  2188926                 [515, 743]\n",
              "12655  2190141           [756, 794, 1185]\n",
              "\n",
              "[12656 rows x 2 columns]"
            ]
          },
          "execution_count": 11,
          "metadata": {},
          "output_type": "execute_result"
        }
      ],
      "source": [
        "# Выполняю группировку данных по user_id.\n",
        "df_course = select_clients_df.groupby('user_id')['resource_id'].unique().reset_index()\n",
        "df_course"
      ]
    },
    {
      "cell_type": "code",
      "execution_count": null,
      "metadata": {
        "id": "1XHU24n_8233",
        "outputId": "2ef43899-f420-48df-9d9b-4065245f3a75"
      },
      "outputs": [
        {
          "data": {
            "text/html": [
              "<div>\n",
              "<style scoped>\n",
              "    .dataframe tbody tr th:only-of-type {\n",
              "        vertical-align: middle;\n",
              "    }\n",
              "\n",
              "    .dataframe tbody tr th {\n",
              "        vertical-align: top;\n",
              "    }\n",
              "\n",
              "    .dataframe thead th {\n",
              "        text-align: right;\n",
              "    }\n",
              "</style>\n",
              "<table border=\"1\" class=\"dataframe\">\n",
              "  <thead>\n",
              "    <tr style=\"text-align: right;\">\n",
              "      <th></th>\n",
              "      <th>user_id</th>\n",
              "      <th>resource_id</th>\n",
              "      <th>combinations</th>\n",
              "    </tr>\n",
              "  </thead>\n",
              "  <tbody>\n",
              "    <tr>\n",
              "      <th>0</th>\n",
              "      <td>51</td>\n",
              "      <td>[516, 1099]</td>\n",
              "      <td>[(516, 1099)]</td>\n",
              "    </tr>\n",
              "    <tr>\n",
              "      <th>1</th>\n",
              "      <td>6117</td>\n",
              "      <td>[356, 357, 1125]</td>\n",
              "      <td>[(356, 357), (356, 1125), (357, 1125)]</td>\n",
              "    </tr>\n",
              "    <tr>\n",
              "      <th>2</th>\n",
              "      <td>10275</td>\n",
              "      <td>[553, 1147]</td>\n",
              "      <td>[(553, 1147)]</td>\n",
              "    </tr>\n",
              "    <tr>\n",
              "      <th>3</th>\n",
              "      <td>10457</td>\n",
              "      <td>[361, 1138]</td>\n",
              "      <td>[(361, 1138)]</td>\n",
              "    </tr>\n",
              "    <tr>\n",
              "      <th>4</th>\n",
              "      <td>17166</td>\n",
              "      <td>[356, 357]</td>\n",
              "      <td>[(356, 357)]</td>\n",
              "    </tr>\n",
              "    <tr>\n",
              "      <th>...</th>\n",
              "      <td>...</td>\n",
              "      <td>...</td>\n",
              "      <td>...</td>\n",
              "    </tr>\n",
              "    <tr>\n",
              "      <th>12651</th>\n",
              "      <td>2179430</td>\n",
              "      <td>[566, 750]</td>\n",
              "      <td>[(566, 750)]</td>\n",
              "    </tr>\n",
              "    <tr>\n",
              "      <th>12652</th>\n",
              "      <td>2186581</td>\n",
              "      <td>[794, 864, 1129]</td>\n",
              "      <td>[(794, 864), (794, 1129), (864, 1129)]</td>\n",
              "    </tr>\n",
              "    <tr>\n",
              "      <th>12653</th>\n",
              "      <td>2187601</td>\n",
              "      <td>[356, 553, 571, 765, 912]</td>\n",
              "      <td>[(356, 553), (356, 571), (356, 765), (356, 912...</td>\n",
              "    </tr>\n",
              "    <tr>\n",
              "      <th>12654</th>\n",
              "      <td>2188926</td>\n",
              "      <td>[515, 743]</td>\n",
              "      <td>[(515, 743)]</td>\n",
              "    </tr>\n",
              "    <tr>\n",
              "      <th>12655</th>\n",
              "      <td>2190141</td>\n",
              "      <td>[756, 794, 1185]</td>\n",
              "      <td>[(756, 794), (756, 1185), (794, 1185)]</td>\n",
              "    </tr>\n",
              "  </tbody>\n",
              "</table>\n",
              "<p>12656 rows × 3 columns</p>\n",
              "</div>"
            ],
            "text/plain": [
              "       user_id                resource_id  \\\n",
              "0           51                [516, 1099]   \n",
              "1         6117           [356, 357, 1125]   \n",
              "2        10275                [553, 1147]   \n",
              "3        10457                [361, 1138]   \n",
              "4        17166                 [356, 357]   \n",
              "...        ...                        ...   \n",
              "12651  2179430                 [566, 750]   \n",
              "12652  2186581           [794, 864, 1129]   \n",
              "12653  2187601  [356, 553, 571, 765, 912]   \n",
              "12654  2188926                 [515, 743]   \n",
              "12655  2190141           [756, 794, 1185]   \n",
              "\n",
              "                                            combinations  \n",
              "0                                          [(516, 1099)]  \n",
              "1                 [(356, 357), (356, 1125), (357, 1125)]  \n",
              "2                                          [(553, 1147)]  \n",
              "3                                          [(361, 1138)]  \n",
              "4                                           [(356, 357)]  \n",
              "...                                                  ...  \n",
              "12651                                       [(566, 750)]  \n",
              "12652             [(794, 864), (794, 1129), (864, 1129)]  \n",
              "12653  [(356, 553), (356, 571), (356, 765), (356, 912...  \n",
              "12654                                       [(515, 743)]  \n",
              "12655             [(756, 794), (756, 1185), (794, 1185)]  \n",
              "\n",
              "[12656 rows x 3 columns]"
            ]
          },
          "execution_count": 12,
          "metadata": {},
          "output_type": "execute_result"
        }
      ],
      "source": [
        "# Применяю функцию combinations() модуля itertools, которая возвращает итератор со всеми возможными комбинациями элементов входной последовательности iterable. \n",
        "# Каждая комбинация заключена в кортеж с длинной r элементов, в которой нет повторяющихся элементов. \n",
        "from itertools import combinations\n",
        "df_course['combinations'] = df_course['resource_id'].apply(lambda r: list(combinations(r, 2)))\n",
        "df_course"
      ]
    },
    {
      "cell_type": "code",
      "execution_count": null,
      "metadata": {
        "id": "jdGuapZn8234",
        "outputId": "55b4cda5-2e08-4a6d-adbe-b8d6f17bc43b"
      },
      "outputs": [
        {
          "name": "stdout",
          "output_type": "stream",
          "text": [
            "Количество  различных пар курсов встречающихся вместе в покупках клиентов: 3989\n"
          ]
        }
      ],
      "source": [
        "# Использую цикл для перебора значений колонки combinations построчно и значений в строках. \n",
        "lst = []\n",
        "for i in df_course['combinations']:\n",
        "    for j in i:\n",
        "        if j not in lst:\n",
        "            lst.append(j)\n",
        "            \n",
        "print(f'Количество  различных пар курсов встречающихся вместе в покупках клиентов: {len(lst)}')"
      ]
    },
    {
      "cell_type": "markdown",
      "metadata": {
        "id": "f9_Ouohg8234"
      },
      "source": [
        "**Найдём самую популярную пару курсов.**"
      ]
    },
    {
      "cell_type": "code",
      "execution_count": null,
      "metadata": {
        "id": "QapwaUQ88234"
      },
      "outputs": [],
      "source": [
        "#56.3.7\n",
        "# Перевожу колонку данных combinations в list.\n",
        "pairs_course = df_course['combinations'].tolist()"
      ]
    },
    {
      "cell_type": "code",
      "execution_count": null,
      "metadata": {
        "id": "Z3dzIHJK8234"
      },
      "outputs": [],
      "source": [
        "# C помощью itertools.Counter() преобразуем данные в словарь, где номера курсов будут ключами итогового словаря, а значениями количество покупок.\n",
        "from collections import Counter\n",
        "from itertools import chain\n",
        "res_dict = Counter(chain(*pairs_course))\n",
        "#print(f'Количество кортежей, присутствующих в списке пар курсов:\\n{res_dict}') "
      ]
    },
    {
      "cell_type": "code",
      "execution_count": null,
      "metadata": {
        "id": "qBK9PoD88235",
        "outputId": "983282ee-99d3-4c33-e090-7c69ebaa97df"
      },
      "outputs": [
        {
          "name": "stdout",
          "output_type": "stream",
          "text": [
            "Две пары курсов с лучшим рейтингом: [((551, 566), 797), ((515, 551), 417)]\n"
          ]
        }
      ],
      "source": [
        "sorted_dictionary = sorted(res_dict.items(), key=lambda x: -x[1])\n",
        "best_pairs = []\n",
        "for i in sorted_dictionary:\n",
        "    if i == sorted_dictionary[0]:\n",
        "        best_pairs.append(i)\n",
        "    elif i == sorted_dictionary[1]:\n",
        "        best_pairs.append(i)\n",
        "        break\n",
        "print(f'Две пары курсов с лучшим рейтингом: {best_pairs}')"
      ]
    },
    {
      "cell_type": "markdown",
      "metadata": {
        "id": "FbsqKPTi8235"
      },
      "source": [
        "<span style=\"color:red\">**В Ы В О Д Ы**<span> <span style=\"color:#000000\">по формализованны задачам 1-2:<span>\n",
        "<blockquote>\n",
        "<p>- Всего 49000 клиентов покупали курсы<br>\n",
        "- В он-лайн школе всего 127 различных курсов.<br>\n",
        "- Среднее число купленных курсов на одного клиента: 1.44<br>\n",
        "- 12656 клиентов купили больше одного курса.<br>\n",
        "- Всего в покупках клиентов встречаются вместе 3989 различных пар курсов.<br>\n",
        "- Самая популярная пара курсов с ID: 551, 566\n",
        "</p>"
      ]
    },
    {
      "cell_type": "markdown",
      "metadata": {
        "id": "E0XNIN-18235"
      },
      "source": [
        "<div id=\"header\" align=\"center\"><h1><span style=\"color:#8B0000\">Определение минимальной границы</span></h1></p>какое количество раз считать слишком малым</div>\n"
      ]
    },
    {
      "cell_type": "markdown",
      "metadata": {
        "id": "ZQpVAsc18235"
      },
      "source": [
        "<span style=\"color:#8B0000\">**Ш А Г 1**</span><br>\n",
        "Для получения общих статичтических данных создадим датафрейм и выведем общие статистические данные по count с помощью describe()."
      ]
    },
    {
      "cell_type": "code",
      "execution_count": null,
      "metadata": {
        "id": "mKNbjD0F8235",
        "outputId": "619c70cb-884a-4c4c-9e4d-d74a94b0943d"
      },
      "outputs": [
        {
          "data": {
            "text/html": [
              "<div>\n",
              "<style scoped>\n",
              "    .dataframe tbody tr th:only-of-type {\n",
              "        vertical-align: middle;\n",
              "    }\n",
              "\n",
              "    .dataframe tbody tr th {\n",
              "        vertical-align: top;\n",
              "    }\n",
              "\n",
              "    .dataframe thead th {\n",
              "        text-align: right;\n",
              "    }\n",
              "</style>\n",
              "<table border=\"1\" class=\"dataframe\">\n",
              "  <thead>\n",
              "    <tr style=\"text-align: right;\">\n",
              "      <th></th>\n",
              "      <th>count</th>\n",
              "    </tr>\n",
              "  </thead>\n",
              "  <tbody>\n",
              "    <tr>\n",
              "      <th>count</th>\n",
              "      <td>3989.000000</td>\n",
              "    </tr>\n",
              "    <tr>\n",
              "      <th>mean</th>\n",
              "      <td>10.031838</td>\n",
              "    </tr>\n",
              "    <tr>\n",
              "      <th>std</th>\n",
              "      <td>26.355998</td>\n",
              "    </tr>\n",
              "    <tr>\n",
              "      <th>min</th>\n",
              "      <td>1.000000</td>\n",
              "    </tr>\n",
              "    <tr>\n",
              "      <th>25%</th>\n",
              "      <td>1.000000</td>\n",
              "    </tr>\n",
              "    <tr>\n",
              "      <th>50%</th>\n",
              "      <td>3.000000</td>\n",
              "    </tr>\n",
              "    <tr>\n",
              "      <th>75%</th>\n",
              "      <td>9.000000</td>\n",
              "    </tr>\n",
              "    <tr>\n",
              "      <th>max</th>\n",
              "      <td>797.000000</td>\n",
              "    </tr>\n",
              "  </tbody>\n",
              "</table>\n",
              "</div>"
            ],
            "text/plain": [
              "             count\n",
              "count  3989.000000\n",
              "mean     10.031838\n",
              "std      26.355998\n",
              "min       1.000000\n",
              "25%       1.000000\n",
              "50%       3.000000\n",
              "75%       9.000000\n",
              "max     797.000000"
            ]
          },
          "execution_count": 17,
          "metadata": {},
          "output_type": "execute_result"
        }
      ],
      "source": [
        "df_course_pairs = pd.DataFrame.from_dict(sorted_dictionary)\n",
        "df_course_pairs.columns =['course_pairs', 'count']\n",
        "df_course_pairs.describe()"
      ]
    },
    {
      "cell_type": "markdown",
      "metadata": {
        "id": "BSFy39IY8236"
      },
      "source": [
        "<blockquote><p>Из полученных данных видно, что значения по count в интервале 1-3 составляют половину таблицы, при этом min=Q(25).</p>"
      ]
    },
    {
      "cell_type": "markdown",
      "metadata": {
        "id": "BqhuRikF8236"
      },
      "source": [
        "<span style=\"color:#8B0000\">**Ш А Г 2**</span><br>\n",
        "Выведем датафрейм с фильтром по count>3 и вновь посмотрим на статистические данные по count."
      ]
    },
    {
      "cell_type": "code",
      "execution_count": null,
      "metadata": {
        "id": "qPInlyIg8236",
        "outputId": "b56adeaf-bf01-4b14-eac4-6bc1288a1bfb"
      },
      "outputs": [
        {
          "data": {
            "text/html": [
              "<div>\n",
              "<style scoped>\n",
              "    .dataframe tbody tr th:only-of-type {\n",
              "        vertical-align: middle;\n",
              "    }\n",
              "\n",
              "    .dataframe tbody tr th {\n",
              "        vertical-align: top;\n",
              "    }\n",
              "\n",
              "    .dataframe thead th {\n",
              "        text-align: right;\n",
              "    }\n",
              "</style>\n",
              "<table border=\"1\" class=\"dataframe\">\n",
              "  <thead>\n",
              "    <tr style=\"text-align: right;\">\n",
              "      <th></th>\n",
              "      <th>count</th>\n",
              "    </tr>\n",
              "  </thead>\n",
              "  <tbody>\n",
              "    <tr>\n",
              "      <th>count</th>\n",
              "      <td>1860.000000</td>\n",
              "    </tr>\n",
              "    <tr>\n",
              "      <th>mean</th>\n",
              "      <td>19.665591</td>\n",
              "    </tr>\n",
              "    <tr>\n",
              "      <th>std</th>\n",
              "      <td>36.270041</td>\n",
              "    </tr>\n",
              "    <tr>\n",
              "      <th>min</th>\n",
              "      <td>4.000000</td>\n",
              "    </tr>\n",
              "    <tr>\n",
              "      <th>25%</th>\n",
              "      <td>6.000000</td>\n",
              "    </tr>\n",
              "    <tr>\n",
              "      <th>50%</th>\n",
              "      <td>9.000000</td>\n",
              "    </tr>\n",
              "    <tr>\n",
              "      <th>75%</th>\n",
              "      <td>19.000000</td>\n",
              "    </tr>\n",
              "    <tr>\n",
              "      <th>max</th>\n",
              "      <td>797.000000</td>\n",
              "    </tr>\n",
              "  </tbody>\n",
              "</table>\n",
              "</div>"
            ],
            "text/plain": [
              "             count\n",
              "count  1860.000000\n",
              "mean     19.665591\n",
              "std      36.270041\n",
              "min       4.000000\n",
              "25%       6.000000\n",
              "50%       9.000000\n",
              "75%      19.000000\n",
              "max     797.000000"
            ]
          },
          "execution_count": 18,
          "metadata": {},
          "output_type": "execute_result"
        }
      ],
      "source": [
        "df1_course_pairs = df_course_pairs.loc[df_course_pairs['count'] > 3]\n",
        "df1_course_pairs.describe()"
      ]
    },
    {
      "cell_type": "markdown",
      "metadata": {
        "id": "8I_M8vtC8236"
      },
      "source": [
        "\n",
        "<span style=\"color:red\">**В Ы В О Д**<span>\n",
        "<blockquote><p>На основе полученных статистических данных датафрейма считаю возможным установить минимальную границу по значению параметра count =6.</p>"
      ]
    },
    {
      "cell_type": "markdown",
      "metadata": {
        "id": "z0KSpSbq8236"
      },
      "source": [
        "<div id=\"header\" align=\"center\"><h1><span style=\"color:#4682B4\">Создание итоговой таблицы</span></h1>\n",
        "\n",
        "решение формализованной задачи 3</p>\n",
        "\n"
      ]
    },
    {
      "cell_type": "markdown",
      "metadata": {
        "id": "a5TN-YAY8237"
      },
      "source": [
        "<span style=\"color:#4682B4\">**Ш А Г 1**</span><br>\n",
        "Получение списка id, к которым будут предложены рекомендации."
      ]
    },
    {
      "cell_type": "markdown",
      "metadata": {
        "id": "JWfoHag68237"
      },
      "source": [
        "Сначала получим список всех id курсов из словаря res_dict, выведенного ранее."
      ]
    },
    {
      "cell_type": "code",
      "execution_count": null,
      "metadata": {
        "id": "qmC56Xed8237",
        "outputId": "e435ae46-7a45-426c-9492-534609e23222"
      },
      "outputs": [
        {
          "name": "stdout",
          "output_type": "stream",
          "text": [
            "Counter({(551, 566): 797, (515, 551): 417, (489, 551): 311, (523, 551): 304, (566, 794): 290, (489, 515): 286, (490, 566): 253, (490, 551): 247, (570, 752): 247, (569, 572): 216, (515, 523): 213, (553, 745): 212, (489, 523): 206, (569, 840): 204, (514, 551): 200, (516, 745): 199, (515, 566): 195, (489, 566): 188, (504, 572): 184, (572, 840): 178, (551, 552): 177, (507, 570): 172, (490, 809): 163, (489, 490): 152, (507, 752): 150, (523, 552): 144, (490, 515): 143, (551, 570): 142, (504, 569): 139, (514, 515): 139, (551, 745): 138, (514, 566): 138, (502, 551): 135, (504, 840): 135, (571, 1125): 122, (502, 566): 120, (523, 566): 120, (570, 809): 119, (752, 809): 115, (490, 523): 114, (357, 571): 112, (523, 564): 110, (551, 749): 109, (516, 553): 107, (551, 777): 107, (551, 679): 104, (356, 571): 103, (551, 564): 103, (515, 749): 103, (568, 745): 102, (356, 357): 100, (363, 511): 99, (551, 571): 98, (551, 809): 96, (502, 514): 95, (551, 794): 95, (490, 514): 94, (566, 764): 92, (490, 564): 92, (566, 570): 92, (551, 764): 91, (489, 552): 89, (502, 515): 89, (515, 552): 88, (519, 551): 86, (489, 564): 86, (515, 764): 84, (507, 551): 84, (553, 568): 83, (571, 765): 83, (514, 523): 83, (564, 566): 83, (566, 809): 79, (489, 514): 78, (507, 809): 78, (363, 562): 77, (489, 679): 77, (551, 1103): 76, (571, 912): 74, (504, 551): 73, (570, 1115): 73, (519, 523): 72, (552, 564): 72, (516, 551): 72, (551, 752): 72, (566, 749): 70, (752, 1115): 69, (507, 566): 68, (745, 1139): 67, (489, 502): 67, (523, 679): 67, (515, 564): 67, (490, 794): 67, (552, 566): 66, (566, 745): 66, (515, 794): 66, (504, 566): 66, (840, 1161): 65, (489, 809): 65, (490, 743): 65, (551, 750): 64, (514, 552): 63, (366, 551): 63, (566, 1103): 62, (523, 570): 62, (489, 519): 61, (514, 764): 61, (551, 572): 61, (507, 508): 61, (514, 570): 60, (503, 551): 60, (509, 745): 59, (502, 523): 59, (523, 764): 59, (523, 572): 59, (551, 840): 59, (507, 514): 58, (523, 571): 57, (566, 679): 57, (489, 764): 57, (809, 1115): 57, (523, 809): 57, (551, 664): 56, (511, 562): 55, (912, 1125): 55, (515, 519): 55, (566, 750): 55, (551, 569): 55, (503, 513): 55, (489, 794): 55, (516, 568): 54, (566, 571): 54, (523, 752): 54, (508, 570): 54, (562, 563): 53, (745, 1099): 53, (568, 1099): 53, (357, 1125): 52, (517, 551): 52, (552, 679): 51, (551, 776): 51, (357, 551): 51, (515, 679): 51, (551, 741): 51, (551, 659): 50, (566, 752): 50, (564, 809): 50, (514, 809): 50, (519, 552): 49, (361, 551): 49, (509, 553): 48, (356, 551): 48, (566, 757): 48, (515, 570): 48, (502, 794): 48, (509, 568): 46, (367, 551): 46, (490, 764): 46, (515, 777): 45, (523, 777): 45, (366, 515): 45, (356, 1125): 44, (569, 1161): 44, (366, 523): 44, (490, 502): 44, (551, 553): 43, (523, 745): 43, (523, 840): 43, (566, 569): 43, (508, 752): 43, (765, 1125): 42, (515, 516): 42, (750, 753): 42, (489, 570): 42, (679, 777): 41, (507, 1115): 41, (551, 562): 41, (566, 572): 41, (361, 1138): 40, (514, 752): 40, (503, 664): 40, (503, 1140): 40, (566, 840): 40, (515, 809): 40, (566, 741): 40, (490, 570): 40, (553, 1099): 39, (551, 1100): 39, (515, 571): 39, (518, 551): 39, (489, 777): 39, (566, 777): 39, (794, 809): 39, (749, 794): 39, (514, 745): 38, (357, 765): 38, (366, 489): 38, (367, 515): 38, (523, 569): 38, (513, 551): 38, (564, 679): 37, (489, 741): 37, (552, 777): 37, (502, 552): 37, (551, 672): 36, (514, 571): 36, (908, 1100): 36, (1100, 1102): 36, (515, 1103): 36, (514, 794): 36, (504, 514): 36, (503, 566): 36, (509, 516): 35, (356, 514): 35, (489, 571): 35, (356, 765): 35, (523, 794): 35, (489, 1103): 35, (523, 1103): 35, (794, 1103): 35, (502, 570): 35, (490, 518): 35, (514, 564): 35, (519, 566): 35, (513, 1141): 34, (517, 750): 34, (356, 912): 34, (765, 912): 34, (551, 829): 34, (523, 750): 34, (745, 794): 34, (551, 791): 34, (551, 757): 34, (490, 757): 34, (742, 1141): 34, (363, 563): 33, (1100, 1103): 33, (502, 764): 33, (523, 741): 33, (552, 572): 33, (570, 755): 33, (552, 750): 33, (514, 572): 33, (363, 551): 33, (490, 1103): 33, (745, 1187): 32, (523, 1100): 32, (552, 764): 32, (515, 745): 32, (361, 502): 32, (515, 750): 32, (566, 756): 32, (809, 908): 32, (551, 756): 32, (509, 1099): 31, (564, 1100): 31, (552, 570): 31, (515, 664): 31, (504, 515): 31, (552, 829): 30, (679, 764): 30, (564, 794): 30, (490, 552): 30, (551, 1115): 30, (566, 829): 30, (750, 829): 30, (516, 566): 30, (566, 776): 29, (519, 745): 29, (489, 752): 29, (564, 764): 29, (840, 1145): 29, (368, 572): 29, (514, 777): 29, (502, 564): 28, (489, 745): 28, (518, 523): 28, (366, 490): 28, (564, 741): 28, (489, 504): 28, (489, 517): 28, (551, 753): 28, (357, 514): 28, (514, 679): 28, (507, 515): 28, (489, 908): 28, (572, 1161): 28, (523, 562): 28, (764, 794): 28, (809, 1100): 28, (562, 777): 28, (504, 523): 28, (553, 1139): 27, (1125, 1186): 27, (571, 1144): 27, (523, 829): 27, (553, 1187): 27, (777, 794): 27, (517, 523): 27, (752, 1184): 27, (514, 757): 27, (368, 569): 27, (504, 794): 27, (743, 757): 27, (356, 489): 26, (745, 1147): 26, (552, 571): 26, (515, 517): 26, (552, 840): 26, (502, 776): 26, (564, 908): 26, (507, 1184): 26, (570, 1184): 26, (515, 569): 26, (570, 794): 26, (566, 908): 26, (502, 809): 26, (366, 566): 26, (551, 1152): 26, (514, 840): 26, (516, 1099): 25, (366, 367): 25, (489, 516): 25, (519, 679): 25, (672, 745): 25, (552, 741): 25, (552, 752): 25, (564, 814): 25, (516, 523): 25, (489, 507): 25, (514, 1103): 25, (515, 741): 25, (664, 791): 25, (515, 518): 25, (515, 752): 25, (358, 570): 25, (566, 791): 25, (562, 566): 25, (490, 1152): 25, (552, 756): 25, (356, 523): 24, (552, 1100): 24, (551, 568): 24, (566, 1100): 24, (564, 571): 24, (523, 776): 24, (551, 1125): 24, (357, 912): 24, (523, 909): 24, (750, 794): 24, (552, 794): 24, (566, 664): 24, (515, 572): 24, (552, 809): 24, (502, 504): 24, (566, 743): 24, (519, 571): 23, (551, 765): 23, (361, 672): 23, (523, 1115): 23, (504, 552): 23, (502, 679): 23, (517, 753): 23, (1100, 1101): 23, (517, 552): 23, (679, 741): 23, (366, 552): 23, (551, 814): 23, (514, 750): 23, (515, 840): 23, (764, 777): 23, (502, 507): 23, (368, 504): 23, (368, 523): 23, (515, 757): 23, (764, 809): 23, (515, 756): 23, (368, 840): 23, (357, 502): 23, (489, 749): 23, (1125, 1144): 22, (571, 745): 22, (568, 1139): 22, (516, 519): 22, (367, 489): 22, (489, 840): 22, (564, 777): 22, (776, 777): 22, (752, 1104): 22, (503, 742): 22, (659, 750): 22, (794, 840): 22, (513, 742): 22, (664, 1140): 22, (571, 794): 22, (489, 757): 22, (752, 755): 22, (508, 514): 22, (570, 1103): 22, (514, 829): 22, (367, 566): 22, (489, 518): 22, (514, 756): 22, (566, 659): 22, (368, 551): 22, (504, 1161): 22, (514, 749): 22, (517, 566): 21, (523, 553): 21, (490, 571): 21, (552, 776): 21, (764, 776): 21, (745, 1103): 21, (672, 1138): 21, (745, 1100): 21, (777, 1103): 21, (564, 829): 21, (357, 516): 21, (356, 515): 21, (489, 750): 21, (514, 664): 21, (490, 750): 21, (508, 809): 21, (514, 516): 21, (517, 519): 21, (840, 1103): 21, (366, 502): 21, (551, 908): 21, (490, 749): 21, (566, 1152): 21, (508, 566): 21, (523, 756): 21, (356, 566): 21, (363, 566): 20, (523, 672): 20, (1099, 1139): 20, (489, 1100): 20, (489, 572): 20, (515, 776): 20, (1102, 1103): 20, (519, 777): 20, (523, 664): 20, (361, 516): 20, (514, 519): 20, (515, 1100): 20, (511, 551): 20, (552, 569): 20, (489, 562): 20, (572, 1103): 20, (752, 1181): 20, (569, 794): 20, (502, 519): 20, (490, 679): 20, (564, 572): 20, (504, 764): 20, (749, 757): 20, (511, 563): 19, (566, 1125): 19, (502, 571): 19, (523, 765): 19, (564, 752): 19, (357, 566): 19, (764, 1103): 19, (357, 515): 19, (489, 569): 19, (502, 745): 19, (552, 664): 19, (358, 752): 19, (570, 764): 19, (502, 569): 19, (502, 572): 19, (566, 909): 19, (503, 791): 19, (566, 1115): 19, (513, 566): 19, (907, 1103): 19, (572, 794): 19, (551, 912): 18, (366, 519): 18, (519, 564): 18, (357, 523): 18, (515, 553): 18, (571, 1103): 18, (516, 1187): 18, (564, 1116): 18, (679, 776): 18, (571, 1186): 18, (659, 671): 18, (750, 777): 18, (551, 1102): 18, (513, 514): 18, (1140, 1185): 18, (672, 813): 18, (357, 361): 18, (362, 363): 18, (508, 551): 18, (752, 777): 18, (679, 1103): 18, (502, 752): 18, (564, 570): 18, (569, 1145): 18, (809, 1104): 18, (514, 562): 18, (564, 1102): 18, (367, 523): 18, (570, 777): 18, (809, 1103): 18, (679, 794): 18, (551, 742): 18, (503, 1185): 18, (504, 564): 18, (368, 515): 18, (507, 794): 18, (840, 1100): 18, (356, 502): 17, (745, 1146): 17, (553, 571): 17, (551, 909): 17, (361, 745): 17, (360, 745): 17, (504, 679): 17, (566, 765): 17, (564, 750): 17, (750, 809): 17, (745, 764): 17, (514, 776): 17, (502, 840): 17, (572, 1145): 17, (752, 1103): 17, (570, 679): 17, (357, 745): 17, (356, 361): 17, (809, 1184): 17, (523, 757): 17, (679, 1102): 17, (363, 514): 17, (502, 741): 17, (745, 765): 17, (490, 777): 17, (756, 764): 17, (570, 757): 17, (553, 1147): 16, (551, 744): 16, (519, 672): 16, (1099, 1187): 16, (519, 1100): 16, (519, 553): 16, (509, 1139): 16, (502, 1100): 16, (515, 829): 16, (679, 745): 16, (523, 1125): 16, (764, 829): 16, (571, 1100): 16, (518, 566): 16, (517, 745): 16, (366, 745): 16, (489, 1115): 16, (551, 743): 16, (571, 750): 16, (361, 571): 16, (659, 753): 16, (357, 553): 16, (829, 908): 16, (829, 1100): 16, (513, 664): 16, (359, 570): 16, (518, 519): 16, (1115, 1184): 16, (489, 664): 16, (552, 1103): 16, (519, 752): 16, (752, 764): 16, (679, 1100): 16, (551, 1140): 16, (502, 777): 16, (566, 744): 16, (764, 840): 16, (502, 503): 16, (356, 516): 16, (361, 515): 16, (523, 749): 16, (809, 829): 16, (358, 551): 16, (562, 794): 16, (489, 909): 16, (743, 809): 16, (776, 794): 16, (511, 566): 16, (809, 1116): 16, (490, 670): 16, (514, 569): 16, (507, 1104): 16, (745, 1125): 15, (509, 551): 15, (523, 753): 15, (356, 366): 15, (571, 679): 15, (553, 566): 15, (366, 571): 15, (489, 1116): 15, (552, 1102): 15, (1100, 1116): 15, (523, 908): 15, (908, 1102): 15, (552, 753): 15, (745, 776): 15, (358, 359): 15, (551, 755): 15, (361, 566): 15, (515, 1125): 15, (515, 791): 15, (570, 1100): 15, (507, 764): 15, (757, 794): 15, (507, 552): 15, (1141, 1188): 15, (489, 756): 15, (564, 840): 15, (523, 907): 15, (566, 670): 15, (514, 741): 15, (743, 749): 15, (551, 1138): 14, (502, 1103): 14, (356, 519): 14, (551, 1144): 14, (489, 829): 14, (515, 765): 14, (552, 745): 14, (552, 659): 14, (515, 568): 14, (566, 568): 14, (489, 765): 14, (489, 814): 14, (552, 1115): 14, (489, 907): 14, (552, 907): 14, (552, 1101): 14, (572, 679): 14, (571, 777): 14, (517, 659): 14, (516, 794): 14, (523, 1102): 14, (1101, 1102): 14, (489, 776): 14, (519, 776): 14, (829, 1103): 14, (503, 515): 14, (489, 1102): 14, (566, 814): 14, (502, 517): 14, (504, 1145): 14, (752, 794): 14, (679, 908): 14, (516, 571): 14, (750, 752): 14, (366, 368): 14, (507, 523): 14, (750, 1103): 14, (551, 1116): 14, (489, 1152): 14, (490, 829): 14, (552, 908): 14, (490, 1100): 14, (659, 794): 14, (566, 907): 14, (570, 743): 14, (564, 1103): 13, (519, 809): 13, (366, 516): 13, (519, 765): 13, (519, 568): 13, (571, 776): 13, (523, 659): 13, (568, 1187): 13, (518, 552): 13, (356, 490): 13, (1103, 1125): 13, (489, 1101): 13, (679, 907): 13, (679, 1101): 13, (566, 912): 13, (551, 810): 13, (1124, 1128): 13, (489, 1125): 13, (1125, 1138): 13, (679, 750): 13, (672, 776): 13, (514, 1115): 13, (908, 1116): 13, (367, 552): 13, (679, 809): 13, (752, 908): 13, (357, 519): 13, (361, 1125): 13, (664, 777): 13, (777, 840): 13, (490, 908): 13, (908, 909): 13, (502, 829): 13, (502, 562): 13, (514, 791): 13, (809, 1152): 13, (794, 1100): 13, (794, 908): 13, (562, 679): 13, (570, 750): 13, (511, 514): 13, (515, 562): 13, (552, 562): 13, (490, 756): 13, (752, 1100): 13, (519, 741): 13, (502, 750): 13, (572, 1100): 13, (515, 659): 13, (564, 569): 13, (490, 907): 13, (502, 908): 13, (503, 514): 13, (514, 1102): 13, (502, 757): 13, (515, 908): 13, (566, 1116): 13, (794, 814): 13, (503, 794): 13, (516, 552): 12, (1099, 1147): 12, (489, 553): 12, (568, 571): 12, (571, 764): 12, (552, 909): 12, (764, 909): 12, (518, 564): 12, (356, 367): 12, (777, 1100): 12, (523, 1116): 12, (679, 840): 12, (564, 776): 12, (745, 750): 12, (517, 564): 12, (514, 553): 12, (523, 1101): 12, (360, 516): 12, (776, 1103): 12, (489, 511): 12, (551, 1185): 12, (553, 1125): 12, (519, 908): 12, (664, 742): 12, (750, 764): 12, (502, 516): 12, (572, 777): 12, (570, 1104): 12, (566, 753): 12, (564, 907): 12, (907, 908): 12, (361, 514): 12, (514, 765): 12, (679, 752): 12, (570, 1181): 12, (564, 757): 12, (1104, 1115): 12, (366, 764): 12, (515, 743): 12, (515, 1152): 12, (1101, 1103): 12, (511, 523): 12, (359, 507): 12, (515, 753): 12, (508, 1115): 12, (1140, 1141): 12, (679, 756): 12, (502, 749): 12, (515, 814): 12, (570, 749): 12, (523, 912): 11, (519, 1125): 11, (357, 366): 11, (571, 829): 11, (552, 553): 11, (357, 552): 11, (829, 909): 11, (516, 1103): 11, (514, 1100): 11, (765, 794): 11, (367, 490): 11, (367, 514): 11, (516, 1139): 11, (515, 909): 11, (523, 743): 11, (671, 750): 11, (745, 1102): 11, (794, 1125): 11, (750, 1125): 11, (679, 829): 11, (777, 829): 11, (569, 764): 11, (569, 1103): 11, (519, 1103): 11, (908, 1103): 11, (741, 764): 11, (514, 909): 11, (745, 791): 11, (489, 753): 11, (515, 1102): 11, (358, 523): 11, (664, 794): 11, (809, 1181): 11, (777, 809): 11, (777, 1115): 11, (569, 777): 11, (572, 764): 11, (809, 1102): 11, (358, 507): 11, (745, 777): 11, (750, 1100): 11, (519, 570): 11, (361, 794): 11, (1181, 1184): 11, (1100, 1125): 11, (507, 755): 11, (809, 909): 11, (502, 659): 11, (551, 1141): 11, (490, 519): 11, (562, 764): 11, (359, 523): 11, (502, 672): 11, (809, 907): 11, (564, 1101): 11, (756, 794): 11, (756, 777): 11, (514, 518): 11, (749, 1103): 11, (489, 670): 11, (569, 1100): 11, (564, 756): 11, (513, 1188): 11, (514, 743): 11, (514, 517): 10, (516, 1125): 10, (671, 753): 10, (764, 1102): 10, (489, 509): 10, (523, 568): 10, (552, 1125): 10, (490, 765): 10, (490, 1125): 10, (571, 659): 10, (777, 1102): 10, (366, 777): 10, (517, 777): 10, (523, 1161): 10, (552, 814): 10, (552, 1116): 10, (752, 829): 10, (361, 523): 10, (357, 750): 10, (523, 1128): 10, (551, 671): 10, (553, 1100): 10, (516, 672): 10, (519, 764): 10, (363, 489): 10, (511, 777): 10, (566, 672): 10, (360, 553): 10, (356, 794): 10, (562, 1100): 10, (562, 750): 10, (564, 664): 10, (664, 1185): 10, (490, 517): 10, (502, 664): 10, (489, 672): 10, (516, 764): 10, (507, 679): 10, (361, 553): 10, (664, 829): 10, (357, 489): 10, (566, 1101): 10, (516, 776): 10, (551, 864): 10, (490, 814): 10, (672, 1100): 10, (502, 909): 10, (863, 908): 10, (515, 1128): 10, (502, 1115): 10, (570, 829): 10, (755, 809): 10, (366, 1103): 10, (511, 552): 10, (502, 511): 10, (1115, 1181): 10, (515, 1115): 10, (571, 908): 10, (502, 513): 10, (809, 814): 10, (908, 1125): 10, (562, 1103): 10, (756, 1100): 10, (361, 776): 10, (741, 777): 10, (562, 741): 10, (1185, 1188): 10, (741, 756): 10, (363, 523): 10, (1100, 1129): 10, (514, 1128): 10, (791, 794): 10, (566, 810): 10, (551, 907): 10, (1100, 1115): 10, (829, 907): 10, (504, 570): 10, (1145, 1161): 10, (564, 749): 10, (513, 745): 10, (504, 1103): 10, (519, 840): 10, (679, 1116): 10, (489, 743): 10, (368, 489): 10, (749, 764): 10, (504, 908): 10, (519, 912): 9, (1139, 1146): 9, (1139, 1187): 9, (517, 571): 9, (551, 1099): 9, (489, 568): 9, (509, 523): 9, (502, 1125): 9, (765, 776): 9, (912, 1186): 9, (523, 814): 9, (502, 765): 9, (360, 568): 9, (523, 744): 9, (551, 1128): 9, (564, 659): 9, (741, 744): 9, (672, 777): 9, (363, 777): 9, (519, 1138): 9, (764, 1100): 9, (513, 523): 9, (513, 1140): 9, (523, 1140): 9, (553, 794): 9, (502, 791): 9, (356, 1144): 9, (552, 1144): 9, (908, 1101): 9, (514, 753): 9, (519, 753): 9, (553, 776): 9, (566, 1185): 9, (489, 1128): 9, (503, 552): 9, (502, 744): 9, (764, 1115): 9, (361, 489): 9, (755, 1115): 9, (367, 745): 9, (508, 523): 9, (503, 764): 9, (363, 502): 9, (551, 563): 9, (519, 794): 9, (363, 515): 9, (490, 1116): 9, (490, 909): 9, (523, 1184): 9, (570, 908): 9, (777, 908): 9, (361, 764): 9, (366, 679): 9, (516, 1146): 9, (908, 1124): 9, (359, 551): 9, (814, 840): 9, (794, 1101): 9, (515, 907): 9, (664, 745): 9, (777, 1101): 9, (366, 569): 9, (504, 777): 9, (517, 569): 9, (757, 1103): 9, (519, 572): 9, (840, 908): 9, (566, 1129): 9, (679, 1129): 9, (515, 1116): 9, (741, 749): 9, (518, 809): 9, (514, 907): 9, (368, 502): 9, (368, 514): 9, (489, 513): 9, (504, 519): 9, (513, 794): 9, (743, 794): 9, (551, 670): 9, (551, 862): 8, (552, 744): 8, (356, 679): 8, (509, 514): 8, (515, 1144): 8, (566, 1144): 8, (514, 568): 8, (764, 1125): 8, (552, 765): 8, (829, 1125): 8, (568, 1147): 8, (361, 1100): 8, (514, 1144): 8, (523, 1144): 8, (552, 1161): 8, (515, 672): 8, (552, 672): 8, (863, 1100): 8, (564, 753): 8, (664, 679): 8, (366, 659): 8, (363, 829): 8, (664, 764): 8, (507, 519): 8, (765, 777): 8, (765, 1144): 8, (664, 1103): 8, (664, 1141): 8, (840, 1102): 8, (361, 519): 8, (516, 1147): 8, (1104, 1184): 8, (519, 664): 8, (551, 1101): 8, (552, 742): 8, (742, 794): 8, (489, 508): 8, (523, 864): 8, (502, 755): 8, (515, 744): 8, (566, 1156): 8, (659, 679): 8, (566, 1102): 8, (753, 777): 8, (356, 764): 8, (519, 562): 8, (513, 515): 8, (366, 572): 8, (523, 791): 8, (909, 1100): 8, (551, 1184): 8, (511, 794): 8, (357, 1103): 8, (357, 1100): 8, (361, 367): 8, (551, 1156): 8, (776, 809): 8, (490, 516): 8, (564, 909): 8, (570, 909): 8, (553, 765): 8, (1102, 1115): 8, (563, 777): 8, (562, 564): 8, (764, 814): 8, (552, 1128): 8, (1100, 1124): 8, (742, 777): 8, (362, 562): 8, (571, 800): 8, (363, 679): 8, (511, 679): 8, (679, 814): 8, (367, 519): 8, (517, 840): 8, (794, 1152): 8, (756, 1103): 8, (357, 1186): 8, (741, 1102): 8, (570, 659): 8, (519, 749): 8, (562, 757): 8, (489, 1124): 8, (749, 777): 8, (794, 1116): 8, (908, 1115): 8, (514, 563): 8, (489, 1129): 8, (563, 566): 8, (368, 552): 8, (489, 659): 8, (757, 809): 8, (356, 745): 8, (564, 743): 8, (514, 670): 8, (356, 552): 7, (357, 1144): 7, (745, 1101): 7, (1139, 1147): 7, (776, 1144): 7, (551, 1139): 7, (551, 1187): 7, (519, 829): 7, (509, 571): 7, (564, 568): 7, (564, 745): 7, (571, 753): 7, (571, 803): 7, (357, 764): 7, (764, 765): 7, (764, 912): 7, (776, 829): 7, (912, 1100): 7, (750, 765): 7, (361, 765): 7, (367, 571): 7, (515, 1099): 7, (829, 1115): 7, (840, 1101): 7, (564, 765): 7, (765, 1186): 7, (360, 523): 7, (517, 741): 7, (741, 810): 7, (741, 1124): 7, (357, 568): 7, (777, 1138): 7, (750, 776): 7, (753, 764): 7, (519, 1102): 7, (1103, 1128): 7, (366, 564): 7, (564, 672): 7, (750, 1115): 7, (776, 1138): 7, (908, 1140): 7, (489, 1156): 7, (515, 1141): 7, (523, 1141): 7, (517, 829): 7, (511, 764): 7, (519, 750): 7, (514, 1101): 7, (664, 1100): 7, (776, 1100): 7, (359, 752): 7, (755, 764): 7, (566, 1140): 7, (503, 829): 7, (503, 1100): 7, (1100, 1140): 7, (551, 1145): 7, (517, 679): 7, (523, 863): 7, (489, 1145): 7, (357, 794): 7, (503, 519): 7, (664, 908): 7, (679, 909): 7, (507, 564): 7, (752, 1102): 7, (829, 1156): 7, (517, 672): 7, (508, 1184): 7, (523, 563): 7, (794, 1115): 7, (1104, 1181): 7, (366, 840): 7, (1103, 1115): 7, (551, 1188): 7, (518, 777): 7, (1100, 1138): 7, (517, 809): 7, (829, 865): 7, (741, 757): 7, (363, 794): 7, (366, 794): 7, (569, 750): 7, (572, 750): 7, (489, 503): 7, (679, 753): 7, (515, 1156): 7, (502, 1152): 7, (776, 1102): 7, (511, 515): 7, (745, 835): 7, (503, 1141): 7, (502, 1138): 7, (366, 570): 7, (566, 1184): 7, (664, 741): 7, (361, 552): 7, (562, 776): 7, (777, 1152): 7, (569, 679): 7, (764, 791): 7, (366, 776): 7, (366, 504): 7, (357, 490): 7, (741, 794): 7, (742, 1188): 7, (359, 566): 7, (363, 552): 7, (517, 794): 7, (359, 809): 7, (664, 750): 7, (908, 1129): 7, (361, 813): 7, (752, 909): 7, (357, 509): 7, (358, 508): 7, (504, 741): 7, (553, 1103): 7, (490, 776): 7, (791, 1103): 7, (562, 1152): 7, (366, 518): 7, (363, 764): 7, (507, 1100): 7, (570, 756): 7, (756, 809): 7, (502, 864): 7, (502, 756): 7, (507, 1181): 7, (909, 1124): 7, (777, 907): 7, (551, 1161): 7, (515, 1101): 7, (552, 749): 7, (679, 749): 7, (564, 670): 7, (809, 1156): 7, (504, 1100): 7, (756, 908): 7, (514, 908): 7, (508, 777): 7, (794, 907): 7, (757, 791): 7, (752, 757): 7, (794, 1156): 7, (511, 1100): 7, (504, 750): 7, (502, 1102): 7, (552, 862): 6, (865, 1103): 6, (1144, 1186): 6, (366, 513): 6, (517, 1100): 6, (1146, 1147): 6, (776, 1125): 6, (509, 519): 6, (519, 1099): 6, (553, 679): 6, (490, 912): 6, (523, 803): 6, (357, 829): 6, (552, 912): 6, (745, 829): 6, (360, 509): 6, (509, 1187): 6, (1103, 1144): 6, (489, 1161): 6, (564, 1115): 6, (564, 1161): 6, (814, 1116): 6, (659, 745): 6, (551, 1147): 6, (572, 907): 6, (366, 553): 6, (553, 1102): 6, (659, 777): 6, (745, 753): 6, (517, 671): 6, (523, 810): 6, (523, 1124): 6, (551, 813): 6, (659, 741): 6, (741, 1128): 6, (502, 509): 6, (523, 742): 6, (571, 1138): 6, (912, 1138): 6, (1103, 1138): 6, (1102, 1116): 6, (367, 564): 6, (777, 1125): 6, (745, 1138): 6, (366, 750): 6, (507, 840): 6, (366, 664): 6, (742, 1140): 6, (367, 672): 6, (569, 1102): 6, (516, 679): 6, (553, 764): 6, (366, 1144): 6, (672, 908): 6, (551, 1181): 6, (519, 1115): 6, (764, 864): 6, (566, 1145): 6, (909, 1103): 6, (564, 1156): 6, (566, 863): 6, (503, 750): 6, (672, 750): 6, (741, 1103): 6, (359, 489): 6, (366, 514): 6, (363, 750): 6, (361, 509): 6, (507, 1103): 6, (745, 864): 6, (518, 1100): 6, (568, 1146): 6, (364, 551): 6, (509, 566): 6, (752, 776): 6, (552, 757): 6, (566, 1128): 6, (570, 1102): 6, (753, 1100): 6, (367, 516): 6, (523, 755): 6, (367, 794): 6, (909, 1115): 6, (515, 1138): 6, (367, 750): 6, (514, 755): 6, (366, 1128): 6, (513, 516): 6, (907, 1102): 6, (502, 863): 6, (679, 755): 6, (366, 517): 6, (516, 765): 6, (519, 756): 6, (502, 508): 6, (366, 809): 6, (553, 1146): 6, (358, 552): 6, (745, 813): 6, (514, 1181): 6, (517, 776): 6, (502, 1128): 6, (489, 791): 6, (507, 750): 6, (517, 764): 6, (489, 810): 6, (1103, 1152): 6, (679, 1152): 6, (514, 659): 6, (517, 752): 6, (357, 1138): 6, (359, 515): 6, (363, 519): 6, (566, 1124): 6, (504, 517): 6, (516, 757): 6, (750, 756): 6, (572, 741): 6, (569, 908): 6, (908, 1128): 6, (368, 566): 6, (511, 519): 6, (764, 907): 6, (368, 1161): 6, (566, 864): 6, (794, 864): 6, (572, 908): 6, (366, 507): 6, (750, 757): 6, (552, 1129): 6, (363, 1103): 6, (741, 908): 6, (507, 777): 6, (358, 514): 6, (552, 671): 6, (490, 659): 6, (514, 1116): 6, (814, 1100): 6, (840, 1124): 6, (507, 829): 6, (1103, 1129): 6, (569, 837): 6, (356, 568): 6, (508, 515): 6, (508, 755): 6, (552, 563): 6, (513, 791): 6, (503, 741): 6, (509, 672): 5, (1146, 1187): 5, (1147, 1187): 5, (366, 1125): 5, (509, 552): 5, (552, 568): 5, (552, 1099): 5, (551, 803): 5, (765, 803): 5, (571, 909): 5, (659, 764): 5, (659, 776): 5, (360, 1099): 5, (360, 1187): 5, (366, 1100): 5, (509, 835): 5, (1099, 1100): 5, (1100, 1187): 5, (912, 1103): 5, (672, 1147): 5, (840, 907): 5, (571, 671): 5, (502, 912): 5, (515, 912): 5, (367, 517): 5, (517, 813): 5, (523, 813): 5, (551, 1124): 5, (564, 810): 5, (571, 741): 5, (741, 753): 5, (744, 1128): 5, (765, 1103): 5, (672, 1139): 5, (516, 564): 5, (745, 1144): 5, (679, 1128): 5, (776, 864): 5, (553, 829): 5, (1101, 1116): 5, (366, 753): 5, (1100, 1185): 5, (357, 367): 5, (516, 835): 5, (829, 1102): 5, (1103, 1116): 5, (519, 1140): 5, (777, 1144): 5, (513, 1185): 5, (679, 1125): 5, (519, 1141): 5, (519, 659): 5, (519, 813): 5, (794, 909): 5, (908, 1184): 5, (519, 1101): 5, (507, 741): 5, (362, 551): 5, (358, 366): 5, (358, 515): 5, (523, 1138): 5, (765, 1138): 5, (679, 862): 5, (523, 862): 5, (829, 1140): 5, (367, 764): 5, (744, 764): 5, (517, 756): 5, (516, 750): 5, (753, 1125): 5, (750, 863): 5, (750, 908): 5, (829, 863): 5, (863, 1125): 5, (863, 1138): 5, (516, 777): 5, (553, 750): 5, (568, 750): 5, (367, 749): 5, (489, 755): 5, (552, 755): 5, (490, 745): 5, (490, 1102): 5, (361, 749): 5, (364, 503): 5, (509, 764): 5, (570, 776): 5, (794, 912): 5, (490, 741): 5, (517, 570): 5, (363, 366): 5, (366, 562): 5, (670, 794): 5, (356, 829): 5, (356, 1100): 5, (562, 864): 5, (794, 1128): 5, (794, 1144): 5, (1103, 1156): 5, (361, 912): 5, (502, 743): 5, (571, 1198): 5, (513, 659): 5, (513, 552): 5, (359, 1115): 5, (907, 1100): 5, (907, 1116): 5, (551, 863): 5, (367, 570): 5, (741, 1100): 5, (752, 907): 5, (366, 829): 5, (519, 1128): 5, (672, 1128): 5, (361, 503): 5, (571, 672): 5, (664, 744): 5, (741, 776): 5, (741, 750): 5, (777, 1161): 5, (356, 756): 5, (764, 1156): 5, (359, 366): 5, (750, 909): 5, (503, 564): 5, (813, 1138): 5, (664, 1128): 5, (1100, 1128): 5, (777, 1116): 5, (511, 750): 5, (508, 552): 5, (764, 1152): 5, (679, 810): 5, (745, 907): 5, (568, 1100): 5, (1100, 1139): 5, (361, 366): 5, (1103, 1124): 5, (519, 742): 5, (742, 1100): 5, (515, 1140): 5, (750, 791): 5, (909, 1102): 5, (367, 368): 5, (756, 829): 5, (364, 664): 5, (504, 791): 5, (504, 757): 5, (515, 671): 5, (569, 1101): 5, (809, 1101): 5, (745, 757): 5, (552, 810): 5, (757, 777): 5, (507, 776): 5, (366, 503): 5, (356, 509): 5, (503, 757): 5, (566, 671): 5, (502, 553): 5, (515, 755): 5, (562, 1160): 5, (356, 553): 5, (829, 1124): 5, (519, 744): 5, (517, 572): 5, (670, 764): 5, (907, 909): 5, (752, 753): 5, (515, 1129): 5, (564, 1129): 5, (566, 1161): 5, (777, 1129): 5, (840, 1129): 5, (741, 809): 5, (358, 1115): 5, (742, 791): 5, (664, 756): 5, (572, 814): 5, (814, 908): 5, (507, 908): 5, (490, 752): 5, (358, 809): 5, (744, 757): 5, (837, 840): 5, (518, 814): 5, (744, 749): 5, (511, 1103): 5, (504, 837): 5, (508, 776): 5, (503, 523): 5, (490, 664): 5, (794, 1185): 5, (513, 764): 5, (753, 794): 5, (514, 1156): 5, (563, 679): 5, (757, 1128): 5, (490, 504): 5, (502, 814): 5, (670, 756): 5, (562, 791): 5, (568, 672): 4, (552, 1138): 4, (800, 1125): 4, (356, 672): 4, (679, 912): 4, (517, 1144): 4, (523, 1187): 4, (523, 671): 4, (489, 1099): 4, (523, 1099): 4, (553, 564): 4, (568, 679): 4, (776, 912): 4, (514, 1125): 4, (803, 1125): 4, (357, 776): 4, (659, 829): 4, (765, 829): 4, (776, 909): 4, (489, 912): 4, (514, 912): 4, (552, 1186): 4, (366, 765): 4, (360, 366): 4, (509, 777): 4, (509, 1100): 4, (835, 1099): 4, (741, 752): 4, (741, 1115): 4, (829, 1116): 4, (1115, 1116): 4, (361, 517): 4, (504, 1101): 4, (553, 907): 4, (572, 1101): 4, (907, 1101): 4, (753, 765): 4, (564, 912): 4, (517, 1128): 4, (564, 671): 4, (564, 744): 4, (514, 672): 4, (553, 672): 4, (519, 1187): 4, (515, 810): 4, (516, 810): 4, (745, 810): 4, (794, 810): 4, (357, 908): 4, (908, 912): 4, (357, 672): 4, (829, 1128): 4, (672, 1103): 4, (568, 829): 4, (765, 908): 4, (504, 745): 4, (363, 507): 4, (511, 829): 4, (1102, 1128): 4, (356, 1103): 4, (366, 1141): 4, (514, 742): 4, (514, 1140): 4, (509, 794): 4, (562, 829): 4, (356, 777): 4, (568, 764): 4, (517, 908): 4, (361, 1187): 4, (908, 1104): 4, (570, 741): 4, (776, 1101): 4, (664, 1102): 4, (509, 1125): 4, (568, 776): 4, (864, 1125): 4, (516, 1100): 4, (671, 777): 4, (672, 764): 4, (862, 1100): 4, (552, 1140): 4, (777, 1140): 4, (367, 1100): 4, (502, 1145): 4, (515, 1145): 4, (552, 1145): 4, (744, 777): 4, (777, 1145): 4, (794, 1104): 4, (551, 1186): 4, (564, 863): 4, (664, 1156): 4, (908, 1156): 4, (750, 1140): 4, (764, 1138): 4, (741, 745): 4, (517, 562): 4, (908, 1138): 4, (366, 749): 4, (566, 755): 4, (755, 777): 4, (490, 753): 4, (743, 1103): 4, (523, 1181): 4, (365, 551): 4, (357, 360): 4, (863, 864): 4, (664, 776): 4, (570, 1152): 4, (794, 1140): 4, (745, 756): 4, (1102, 1125): 4, (507, 659): 4, (659, 752): 4, (777, 1128): 4, (367, 679): 4, (367, 777): 4, (776, 1115): 4, (909, 1152): 4, (1115, 1152): 4, (513, 517): 4, (672, 794): 4, (776, 908): 4, (794, 1102): 4, (515, 862): 4, (514, 814): 4, (1099, 1103): 4, (755, 776): 4, (516, 659): 4, (553, 659): 4, (553, 835): 4, (511, 741): 4, (1141, 1185): 4, (509, 515): 4, (659, 1103): 4, (515, 863): 4, (367, 572): 4, (829, 1184): 4, (515, 1184): 4, (502, 1144): 4, (750, 865): 4, (1100, 1152): 4, (509, 765): 4, (568, 765): 4, (502, 563): 4, (516, 912): 4, (568, 912): 4, (568, 1103): 4, (517, 1115): 4, (756, 776): 4, (515, 742): 4, (829, 1141): 4, (563, 1103): 4, (356, 659): 4, (562, 570): 4, (1128, 1141): 4, (359, 519): 4, (571, 1116): 4, (502, 1140): 4, (489, 1184): 4, (564, 1152): 4, (1100, 1188): 4, (523, 670): 4, (837, 1161): 4, (502, 1116): 4, (367, 503): 4, (364, 515): 4, (679, 1115): 4, (514, 1152): 4, (776, 1128): 4, (553, 912): 4, (1100, 1141): 4, (357, 1099): 4, (1099, 1125): 4, (552, 1156): 4, (745, 909): 4, (518, 679): 4, (489, 742): 4, (357, 803): 4, (566, 1186): 4, (361, 490): 4, (765, 1100): 4, (490, 1129): 4, (514, 1161): 4, (359, 502): 4, (359, 514): 4, (566, 800): 4, (679, 757): 4, (569, 909): 4, (518, 569): 4, (358, 489): 4, (359, 367): 4, (517, 1103): 4, (672, 1101): 4, (753, 809): 4, (813, 1100): 4, (764, 863): 4, (764, 908): 4, (504, 756): 4, (756, 840): 4, (750, 907): 4, (750, 840): 4, (750, 1116): 4, (367, 518): 4, (777, 813): 4, (563, 1160): 4, (503, 745): 4, (523, 1152): 4, (569, 659): 4, (764, 1144): 4, (791, 1140): 4, (490, 1156): 4, (515, 670): 4, (907, 1115): 4, (909, 1116): 4, (777, 791): 4, (791, 829): 4, (572, 1129): 4, (363, 1102): 4, (756, 1124): 4, (562, 809): 4, (523, 1186): 4, (794, 1181): 4, (753, 840): 4, (489, 671): 4, (366, 752): 4, (519, 569): 4, (356, 1186): 4, (1186, 1187): 4, (552, 743): 4, (743, 764): 4, (569, 672): 4, (518, 572): 4, (363, 564): 4, (764, 1101): 4, (794, 1145): 4, (551, 1129): 4, (570, 814): 4, (563, 776): 4, (563, 764): 4, (1100, 1104): 4, (517, 518): 4, (908, 1145): 4, (504, 562): 4, (507, 511): 4, (502, 518): 4, (502, 753): 4, (490, 813): 4, (745, 803): 4, (490, 672): 4, (794, 1186): 4, (490, 508): 4, (756, 1116): 4, (508, 794): 4, (563, 757): 4, (756, 814): 4, (356, 1138): 4, (757, 764): 4, (829, 840): 4, (862, 1138): 3, (564, 865): 3, (367, 513): 3, (672, 679): 3, (672, 912): 3, (1099, 1146): 3, (912, 1099): 3, (509, 679): 3, (357, 659): 3, (357, 909): 3, (659, 1125): 3, (765, 909): 3, (829, 912): 3, (909, 912): 3, (909, 1125): 3, (672, 1099): 3, (1100, 1186): 3, (909, 1186): 3, (571, 907): 3, (514, 862): 3, (517, 553): 3, (367, 765): 3, (360, 1139): 3, (835, 1100): 3, (835, 1187): 3, (509, 517): 3, (515, 1187): 3, (777, 912): 3, (564, 1125): 3, (490, 1144): 3, (741, 829): 3, (741, 1116): 3, (814, 1115): 3, (814, 1161): 3, (489, 863): 3, (523, 1147): 3, (357, 517): 3, (356, 750): 3, (356, 753): 3, (357, 753): 3, (679, 765): 3, (356, 517): 3, (517, 810): 3, (564, 813): 3, (564, 1128): 3, (571, 1128): 3, (744, 753): 3, (813, 1128): 3, (672, 1187): 3, (367, 1103): 3, (571, 1102): 3, (363, 504): 3, (504, 507): 3, (507, 569): 3, (562, 1128): 3, (566, 803): 3, (519, 1116): 3, (829, 1187): 3, (1103, 1187): 3, (551, 1198): 3, (794, 1138): 3, (366, 672): 3, (356, 800): 3, (519, 1144): 3, (361, 864): 3, (514, 1185): 3, (523, 1185): 3, (742, 1185): 3, (1103, 1140): 3, (829, 862): 3, (1102, 1161): 3, (752, 1101): 3, (664, 1101): 3, (363, 1160): 3, (568, 1125): 3, (672, 863): 3, (745, 908): 3, (489, 1181): 3, (516, 517): 3, (515, 1146): 3, (864, 1138): 3, (1138, 1144): 3, (566, 1187): 3, (570, 864): 3, (777, 862): 3, (672, 1102): 3, (745, 862): 3, (764, 862): 3, (679, 863): 3, (514, 1188): 3, (523, 1188): 3, (489, 744): 3, (523, 1145): 3, (502, 1186): 3, (863, 1156): 3, (863, 1185): 3, (519, 757): 3, (862, 1141): 3, (776, 813): 3, (514, 1184): 3, (517, 563): 3, (519, 563): 3, (515, 1147): 3, (750, 1147): 3, (516, 1144): 3, (742, 750): 3, (745, 1186): 3, (552, 1181): 3, (750, 1181): 3, (1103, 1145): 3, (357, 679): 3, (357, 777): 3, (507, 516): 3, (490, 509): 3, (509, 1102): 3, (552, 1188): 3, (489, 864): 3, (553, 864): 3, (564, 1138): 3, (356, 564): 3, (863, 909): 3, (764, 865): 3, (777, 865): 3, (366, 511): 3, (502, 670): 3, (756, 1115): 3, (753, 1102): 3, (1128, 1144): 3, (672, 1156): 3, (356, 908): 3, (366, 908): 3, (513, 1100): 3, (516, 803): 3, (361, 507): 3, (776, 862): 3, (776, 863): 3, (862, 863): 3, (777, 909): 3, (365, 566): 3, (366, 1152): 3, (750, 862): 3, (753, 829): 3, (862, 865): 3, (865, 1100): 3, (552, 1141): 3, (518, 750): 3, (502, 862): 3, (862, 1103): 3, (356, 862): 3, (571, 862): 3, (511, 516): 3, (742, 836): 3, (836, 1141): 3, (912, 1198): 3, (489, 563): 3, (912, 1101): 3, (1101, 1125): 3, (1102, 1104): 3, (562, 1115): 3, (552, 1185): 3, (672, 742): 3, (672, 829): 3, (742, 829): 3, (562, 1101): 3, (515, 813): 3, (517, 1125): 3, (358, 1184): 3, (359, 1181): 3, (359, 1184): 3, (794, 1141): 3, (912, 1102): 3, (1101, 1129): 3, (1128, 1129): 3, (359, 552): 3, (1116, 1124): 3, (356, 909): 3, (517, 909): 3, (659, 756): 3, (361, 756): 3, (489, 813): 3, (1103, 1184): 3, (563, 750): 3, (358, 367): 3, (367, 1125): 3, (519, 909): 3, (679, 744): 3, (744, 750): 3, (515, 1139): 3, (515, 1160): 3, (742, 745): 3, (659, 1115): 3, (670, 777): 3, (671, 745): 3, (552, 670): 3, (363, 367): 3, (504, 810): 3, (502, 1124): 3, (551, 1146): 3, (1103, 1139): 3, (794, 1129): 3, (570, 791): 3, (670, 679): 3, (670, 814): 3, (361, 568): 3, (908, 1161): 3, (356, 1099): 3, (368, 519): 3, (367, 840): 3, (756, 907): 3, (745, 1128): 3, (489, 1144): 3, (679, 1144): 3, (672, 765): 3, (1100, 1144): 3, (1101, 1161): 3, (749, 1102): 3, (513, 776): 3, (744, 1156): 3, (755, 756): 3, (552, 864): 3, (749, 776): 3, (566, 862): 3, (741, 840): 3, (810, 840): 3, (511, 659): 3, (1100, 1147): 3, (511, 564): 3, (777, 1184): 3, (503, 809): 3, (361, 840): 3, (514, 1141): 3, (366, 813): 3, (750, 1101): 3, (756, 1101): 3, (809, 813): 3, (813, 1101): 3, (813, 1103): 3, (572, 776): 3, (814, 907): 3, (814, 1101): 3, (814, 1102): 3, (361, 908): 3, (745, 800): 3, (756, 1102): 3, (504, 752): 3, (566, 1139): 3, (516, 664): 3, (507, 909): 3, (519, 1185): 3, (679, 864): 3, (777, 864): 3, (362, 566): 3, (508, 764): 3, (671, 672): 3, (361, 750): 3, (504, 829): 3, (764, 1124): 3, (777, 1124): 3, (840, 909): 3, (519, 791): 3, (1152, 1160): 3, (764, 1116): 3, (659, 1102): 3, (490, 1115): 3, (670, 809): 3, (670, 907): 3, (670, 909): 3, (670, 1103): 3, (776, 907): 3, (1116, 1156): 3, (749, 829): 3, (809, 864): 3, (362, 777): 3, (569, 1129): 3, (1100, 1161): 3, (1116, 1129): 3, (363, 757): 3, (515, 1124): 3, (809, 1124): 3, (490, 791): 3, (511, 791): 3, (753, 776): 3, (791, 1128): 3, (507, 810): 3, (519, 1129): 3, (566, 1181): 3, (664, 814): 3, (552, 865): 3, (749, 810): 3, (1103, 1161): 3, (572, 756): 3, (361, 753): 3, (367, 753): 3, (907, 1129): 3, (364, 513): 3, (490, 507): 3, (367, 664): 3, (563, 1102): 3, (367, 502): 3, (518, 1103): 3, (743, 756): 3, (563, 741): 3, (507, 572): 3, (569, 741): 3, (517, 1102): 3, (764, 1141): 3, (518, 570): 3, (1124, 1129): 3, (570, 1156): 3, (552, 1184): 3, (750, 1124): 3, (508, 679): 3, (562, 814): 3, (365, 1141): 3, (564, 1145): 3, (679, 1156): 3, (552, 791): 3, (507, 753): 3, (490, 810): 3, (570, 907): 3, (518, 743): 3, (513, 908): 3, (509, 1146): 3, (777, 810): 3, (743, 907): 3, (490, 744): 3, (502, 810): 3, (514, 810): 3, (503, 517): 3, (572, 791): 3, (572, 1102): 3, (504, 516): 3, (572, 829): 3, (507, 517): 3, (749, 756): 3, (508, 519): 3, (363, 741): 3, (504, 518): 3, (514, 671): 3, (791, 1185): 3, (504, 659): 3, (504, 753): 3, (570, 753): 3, (502, 907): 3, (502, 813): 3, (504, 909): 3, (504, 814): 3, (909, 1128): 3, (508, 1104): 3, (514, 1145): 3, (1100, 1145): 3, (513, 571): 3, (749, 1129): 3, (756, 909): 3, (566, 742): 3, (566, 834): 3, (670, 750): 3, (791, 909): 3, (566, 830): 3, (756, 1125): 3, (794, 1124): 3, (744, 794): 3, (794, 1161): 3, (814, 830): 3, (572, 1156): 3, (764, 1104): 3, (744, 862): 2, (571, 1099): 2, (765, 862): 2, (765, 864): 2, (862, 864): 2, (1099, 1101): 2, (1101, 1139): 2, (509, 564): 2, (564, 1099): 2, (679, 1099): 2, (490, 803): 2, (659, 765): 2, (659, 909): 2, (509, 1147): 2, (509, 1138): 2, (1099, 1138): 2, (361, 1186): 2, (518, 553): 2, (518, 568): 2, (518, 571): 2, (907, 1125): 2, (862, 1144): 2, (516, 908): 2, (568, 908): 2, (908, 1099): 2, (659, 813): 2, (366, 509): 2, (777, 1099): 2, (552, 1187): 2, (741, 814): 2, (752, 814): 2, (814, 829): 2, (1116, 1161): 2, (571, 865): 2, (571, 863): 2, (361, 1147): 2, (504, 907): 2, (356, 671): 2, (357, 671): 2, (671, 765): 2, (366, 1102): 2, (517, 765): 2, (517, 803): 2, (517, 1124): 2, (564, 1124): 2, (571, 813): 2, (571, 1124): 2, (659, 744): 2, (659, 803): 2, (659, 810): 2, (659, 1128): 2, (671, 741): 2, (741, 813): 2, (744, 810): 2, (744, 813): 2, (753, 813): 2, (765, 1124): 2, (813, 1124): 2, (519, 1139): 2, (566, 1138): 2, (515, 1185): 2, (829, 1185): 2, (360, 515): 2, (908, 1187): 2, (1102, 1187): 2, (562, 1116): 2, (1116, 1128): 2, (365, 519): 2, (664, 672): 2, (864, 1141): 2, (513, 1103): 2, (742, 1103): 2, (1103, 1185): 2, (507, 1128): 2, (750, 912): 2, (356, 776): 2, (518, 672): 2, (552, 813): 2, (362, 523): 2, (367, 1144): 2, (519, 1147): 2, (1101, 1184): 2, (829, 1101): 2, (514, 911): 2, (508, 1181): 2, (571, 864): 2, (672, 1185): 2, (1185, 1187): 2, (757, 814): 2, (358, 764): 2, (562, 753): 2, (564, 755): 2, (672, 862): 2, (503, 777): 2, (672, 1116): 2, (745, 1116): 2, (517, 863): 2, (514, 863): 2, (569, 744): 2, (572, 744): 2, (764, 1145): 2, (513, 519): 2, (523, 1104): 2, (664, 863): 2, (908, 1185): 2, (359, 518): 2, (503, 908): 2, (863, 1140): 2, (753, 1138): 2, (1125, 1156): 2, (756, 757): 2, (359, 490): 2, (568, 741): 2, (741, 1099): 2, (516, 829): 2, (553, 777): 2, (568, 777): 2, (750, 1099): 2, (829, 1099): 2, (363, 570): 2, (755, 794): 2, (794, 829): 2, (776, 1139): 2, (745, 840): 2, (517, 1181): 2, (552, 1104): 2, (750, 1138): 2, (363, 753): 2, (516, 570): 2, (366, 864): 2, (357, 1146): 2, (741, 1125): 2, (671, 829): 2, (908, 1144): 2, (864, 1100): 2, (776, 1140): 2, (519, 1181): 2, (518, 757): 2, (757, 1116): 2, (363, 670): 2, (366, 670): 2, (753, 1101): 2, (361, 1156): 2, (743, 1152): 2, (776, 1152): 2, (356, 1198): 2, (366, 1198): 2, (659, 1100): 2, (361, 570): 2, (1099, 1102): 2, (358, 1100): 2, (517, 835): 2, (672, 1125): 2, (672, 753): 2, (490, 553): 2, (912, 1144): 2, (572, 672): 2, (664, 909): 2, (741, 863): 2, (367, 908): 2, (357, 741): 2, (776, 1099): 2, (366, 862): 2, (366, 863): 2, (517, 865): 2, (750, 1152): 2, (753, 908): 2, (777, 863): 2, (862, 908): 2, (865, 908): 2, (908, 1152): 2, (366, 1116): 2, (518, 745): 2, (659, 672): 2, (367, 1152): 2, (523, 1199): 2, (366, 755): 2, (809, 862): 2, (862, 912): 2, (863, 1124): 2, (864, 908): 2, (745, 912): 2, (765, 1198): 2, (489, 1186): 2, (745, 1156): 2, (509, 908): 2, (361, 679): 2, (519, 670): 2, (515, 1188): 2, (672, 1141): 2, (563, 1100): 2, (563, 1101): 2, (755, 1181): 2, (776, 1181): 2, (563, 794): 2, (777, 1186): 2, (358, 1104): 2, (757, 776): 2, (744, 791): 2, (513, 777): 2, (742, 1128): 2, (1101, 1128): 2, (362, 489): 2, (829, 1144): 2, (764, 1099): 2, (361, 865): 2, (552, 863): 2, (489, 1138): 2, (777, 1188): 2, (514, 1160): 2, (367, 752): 2, (365, 366): 2, (363, 744): 2, (564, 1144): 2, (553, 742): 2, (553, 862): 2, (745, 1141): 2, (862, 1139): 2, (862, 1146): 2, (1139, 1141): 2, (516, 909): 2, (670, 1152): 2, (553, 671): 2, (671, 679): 2, (1125, 1187): 2, (552, 837): 2, (670, 1161): 2, (502, 1161): 2, (764, 1161): 2, (750, 1128): 2, (1116, 1152): 2, (358, 750): 2, (552, 1139): 2, (907, 1099): 2, (907, 1139): 2, (776, 1124): 2, (368, 908): 2, (516, 1102): 2, (368, 518): 2, (502, 835): 2, (568, 1102): 2, (909, 1187): 2, (502, 1141): 2, (357, 756): 2, (571, 756): 2, (803, 907): 2, (1103, 1147): 2, (1128, 1140): 2, (367, 553): 2, (1125, 1129): 2, (363, 513): 2, (672, 757): 2, (752, 756): 2, (551, 800): 2, (551, 835): 2, (367, 569): 2, (519, 863): 2, (749, 809): 2, (517, 864): 2, (840, 864): 2, (865, 866): 2, (908, 1186): 2, (672, 1146): 2, (1144, 1146): 2, (368, 794): 2, (358, 502): 2, (358, 519): 2, (490, 1128): 2, (361, 757): 2, (503, 507): 2, (513, 809): 2, (366, 756): 2, (366, 1101): 2, (517, 1101): 2, (672, 756): 2, (750, 813): 2, (753, 756): 2, (753, 1103): 2, (515, 1161): 2, (360, 367): 2, (514, 813): 2, (364, 1140): 2, (752, 1129): 2, (523, 800): 2, (504, 1102): 2, (679, 1138): 2, (866, 1104): 2, (517, 664): 2, (517, 1140): 2, (504, 755): 2, (562, 756): 2, (502, 568): 2, (776, 840): 2, (518, 755): 2, (518, 764): 2, (507, 1124): 2, (679, 813): 2, (864, 907): 2, (864, 1101): 2, (750, 864): 2, (672, 864): 2, (517, 757): 2, (566, 1147): 2, (752, 1124): 2, (572, 909): 2, (516, 791): 2, (518, 907): 2, (518, 908): 2, (750, 1144): 2, (572, 659): 2, (670, 776): 2, (670, 908): 2, (670, 1115): 2, (776, 1116): 2, (909, 1156): 2, (1102, 1156): 2, (359, 511): 2, (564, 791): 2, (679, 791): 2, (489, 1146): 2, (794, 1146): 2, (551, 1160): 2, (566, 1188): 2, (753, 1115): 2, (502, 742): 2, (742, 764): 2, (517, 1116): 2, (357, 1139): 2, (504, 1116): 2, (504, 1129): 2, (523, 1129): 2, (840, 1116): 2, (1129, 1161): 2, (742, 1101): 2, (679, 1124): 2, (359, 777): 2, (361, 569): 2, (366, 741): 2, (368, 564): 2, (777, 1141): 2, (568, 794): 2, (502, 1104): 2, (551, 1104): 2, (562, 752): 2, (755, 1104): 2, (504, 1124): 2, (552, 1152): 2, (562, 1156): 2, (1100, 1156): 2, (365, 503): 2, (741, 1152): 2, (814, 1156): 2, (366, 1115): 2, (509, 1103): 2, (517, 1129): 2, (745, 1129): 2, (515, 1181): 2, (744, 814): 2, (679, 865): 2, (364, 552): 2, (360, 514): 2, (572, 753): 2, (519, 1161): 2, (367, 809): 2, (671, 756): 2, (356, 569): 2, (659, 664): 2, (514, 803): 2, (777, 803): 2, (358, 566): 2, (519, 907): 2, (365, 1103): 2, (756, 791): 2, (364, 366): 2, (364, 367): 2, (364, 517): 2, (366, 671): 2, (367, 671): 2, (664, 753): 2, (514, 864): 2, (564, 864): 2, (364, 1185): 2, (568, 864): 2, (745, 863): 2, (741, 1140): 2, (366, 1188): 2, (489, 1140): 2, (357, 1187): 2, (516, 1186): 2, (908, 1181): 2, (514, 1138): 2, (866, 1103): 2, (518, 1102): 2, (794, 837): 2, (570, 863): 2, (750, 1102): 2, (670, 749): 2, (1116, 1144): 2, (753, 907): 2, (356, 1152): 2, (757, 1152): 2, (791, 1152): 2, (518, 752): 2, (518, 1115): 2, (755, 814): 2, (509, 829): 2, (570, 1101): 2, (1100, 1184): 2, (809, 810): 2, (810, 1103): 2, (359, 750): 2, (518, 756): 2, (809, 1128): 2, (364, 566): 2, (756, 1129): 2, (511, 572): 2, (356, 809): 2, (750, 1161): 2, (664, 1124): 2, (503, 776): 2, (742, 776): 2, (750, 1156): 2, (365, 515): 2, (507, 833): 2, (570, 833): 2, (562, 572): 2, (518, 840): 2, (504, 776): 2, (366, 757): 2, (508, 659): 2, (553, 749): 2, (363, 814): 2, (1103, 1104): 2, (514, 1129): 2, (490, 800): 2, (490, 840): 2, (490, 863): 2, (670, 863): 2, (800, 908): 2, (840, 863): 2, (362, 511): 2, (518, 664): 2, (518, 791): 2, (368, 507): 2, (363, 749): 2, (367, 508): 2, (511, 907): 2, (810, 908): 2, (570, 664): 2, (503, 756): 2, (516, 864): 2, (368, 1129): 2, (514, 837): 2, (572, 837): 2, (363, 1100): 2, (508, 756): 2, (490, 513): 2, (659, 670): 2, (514, 744): 2, (518, 741): 2, (518, 749): 2, (519, 810): 2, (764, 810): 2, (507, 518): 2, (511, 570): 2, (518, 776): 2, (513, 749): 2, (519, 1186): 2, (507, 756): 2, (367, 757): 2, (502, 1156): 2, (515, 1104): 2, (503, 1103): 2, (490, 671): 2, (363, 1152): 2, (511, 1152): 2, (490, 1181): 2, (363, 517): 2, (511, 517): 2, (363, 776): 2, (363, 1128): 2, (511, 776): 2, (563, 1128): 2, (509, 912): 2, (671, 764): 2, (502, 1101): 2, (765, 800): 2, (504, 744): 2, (659, 749): 2, (357, 513): 2, (503, 553): 2, (513, 553): 2, (563, 564): 2, (514, 1099): 2, (518, 670): 2, (679, 743): 2, (743, 1100): 2, (741, 1129): 2, (1102, 1129): 2, (361, 777): 2, (672, 909): 2, (672, 1124): 2, (907, 1124): 2, (741, 907): 2, (553, 741): 2, (741, 1139): 2, (741, 1146): 2, (513, 756): 2, (1161, 1181): 2, (908, 1141): 2, (1103, 1160): 2, (508, 564): 2, (513, 679): 2, (569, 570): 2, (572, 810): 2, (1102, 1145): 2, (553, 753): 2, (513, 741): 2, (671, 791): 2, (569, 756): 2, (551, 837): 2, (569, 776): 2, (566, 813): 2, (363, 752): 2, (664, 670): 2, (507, 562): 2, (750, 1186): 2, (570, 1116): 2, (764, 1184): 2, (672, 749): 2, (571, 742): 2, (743, 829): 2, (840, 1156): 2, (1145, 1156): 2, (756, 862): 2, (791, 809): 2, (1124, 1125): 2, (777, 1181): 2, (514, 1104): 2, (503, 659): 2, (829, 1129): 2, (503, 752): 2, (356, 1140): 2, (503, 765): 2, (508, 757): 2, (503, 562): 2, (515, 830): 2, (749, 1156): 2, (489, 800): 2, (744, 809): 2, (749, 814): 2, (513, 568): 2, (756, 765): 2, (756, 912): 2, (361, 863): 2, (749, 1124): 2, (507, 757): 2, (572, 752): 2, (514, 1186): 2, (664, 757): 2, (743, 750): 2, (509, 803): 2, (794, 803): 2, (490, 755): 2, (777, 814): 2, (837, 1145): 2, (749, 791): 2, (515, 864): 2, (907, 1161): 2, (810, 1125): 2, (490, 503): 2, (569, 829): 2, (829, 1104): 2, (791, 907): 2, (1101, 1145): 2, (837, 1100): 2, (361, 1124): 2, (1144, 1147): 2, (1125, 1140): 1, (744, 1138): 1, (513, 1125): 1, (502, 865): 1, (1101, 1146): 1, (1101, 1147): 1, (1101, 1187): 1, (515, 1186): 1, (803, 912): 1, (659, 912): 1, (360, 777): 1, (360, 835): 1, (360, 1100): 1, (366, 835): 1, (366, 1099): 1, (366, 1187): 1, (777, 835): 1, (777, 1187): 1, (741, 1161): 1, (752, 1116): 1, (752, 1161): 1, (829, 1161): 1, (1115, 1161): 1, (865, 912): 1, (361, 743): 1, (672, 743): 1, (743, 1147): 1, (504, 553): 1, (553, 572): 1, (553, 840): 1, (553, 1101): 1, (517, 744): 1, (564, 803): 1, (571, 744): 1, (571, 810): 1, (659, 1124): 1, (671, 744): 1, (671, 803): 1, (671, 810): 1, (671, 813): 1, (671, 1124): 1, (671, 1128): 1, (741, 765): 1, (741, 803): 1, (744, 765): 1, (744, 803): 1, (744, 1124): 1, (753, 803): 1, (753, 810): 1, (753, 1124): 1, (753, 1128): 1, (765, 810): 1, (765, 813): 1, (765, 1128): 1, (803, 810): 1, (803, 813): 1, (803, 1124): 1, (803, 1128): 1, (810, 813): 1, (810, 1124): 1, (810, 1128): 1, (516, 753): 1, (367, 776): 1, (504, 1138): 1, (363, 569): 1, (363, 840): 1, (672, 803): 1, (360, 1102): 1, (360, 1128): 1, (1116, 1187): 1, (840, 1138): 1, (361, 1141): 1, (562, 862): 1, (360, 519): 1, (518, 813): 1, (1101, 1104): 1, (741, 1184): 1, (566, 911): 1, (679, 911): 1, (776, 911): 1, (911, 1101): 1, (362, 1160): 1, (363, 659): 1, (363, 671): 1, (864, 1144): 1, (745, 1185): 1, (358, 755): 1, (358, 864): 1, (359, 755): 1, (359, 764): 1, (359, 864): 1, (752, 864): 1, (755, 864): 1, (367, 1128): 1, (862, 1102): 1, (863, 1188): 1, (744, 840): 1, (744, 1145): 1, (1103, 1186): 1, (564, 1185): 1, (1156, 1185): 1, (503, 672): 1, (503, 863): 1, (672, 1140): 1, (507, 1102): 1, (564, 1186): 1, (829, 1138): 1, (1138, 1156): 1, (508, 1100): 1, (864, 912): 1, (523, 1139): 1, (356, 866): 1, (866, 912): 1, (777, 1147): 1, (829, 1147): 1, (755, 829): 1, (568, 840): 1, (568, 1186): 1, (840, 1186): 1, (517, 1104): 1, (750, 1104): 1, (365, 490): 1, (366, 1145): 1, (362, 753): 1, (517, 791): 1, (360, 551): 1, (356, 749): 1, (516, 749): 1, (518, 1138): 1, (360, 1146): 1, (364, 764): 1, (509, 791): 1, (553, 791): 1, (489, 1187): 1, (764, 1187): 1, (794, 1187): 1, (515, 834): 1, (523, 834): 1, (864, 909): 1, (358, 517): 1, (776, 865): 1, (516, 756): 1, (511, 670): 1, (562, 670): 1, (756, 1104): 1, (519, 755): 1, (659, 755): 1, (361, 1103): 1, (367, 1156): 1, (516, 1156): 1, (755, 909): 1, (743, 776): 1, (743, 909): 1, (743, 1115): 1, (489, 1198): 1, (523, 1198): 1, (908, 1198): 1, (1102, 1138): 1, (365, 517): 1, (489, 1147): 1, (794, 1099): 1, (794, 1147): 1, (553, 810): 1, (659, 835): 1, (810, 835): 1, (840, 1184): 1, (490, 568): 1, (363, 745): 1, (366, 912): 1, (502, 1185): 1, (679, 1185): 1, (741, 909): 1, (741, 1185): 1, (909, 1185): 1, (367, 909): 1, (489, 1104): 1, (553, 1138): 1, (365, 791): 1, (361, 744): 1, (366, 865): 1, (517, 862): 1, (517, 1152): 1, (753, 862): 1, (753, 863): 1, (753, 865): 1, (753, 1152): 1, (829, 1152): 1, (862, 1152): 1, (863, 865): 1, (863, 1152): 1, (865, 1152): 1, (509, 518): 1, (516, 518): 1, (518, 765): 1, (361, 513): 1, (361, 829): 1, (1138, 1141): 1, (515, 1199): 1, (519, 1199): 1, (563, 570): 1, (563, 809): 1, (518, 803): 1, (750, 803): 1, (489, 862): 1, (755, 862): 1, (755, 1103): 1, (357, 511): 1, (361, 511): 1, (1116, 1181): 1, (829, 864): 1, (864, 1124): 1, (516, 1198): 1, (568, 1198): 1, (745, 1198): 1, (750, 1198): 1, (1103, 1198): 1, (358, 490): 1, (507, 670): 1, (670, 755): 1, (490, 1186): 1, (503, 1152): 1, (367, 1102): 1, (367, 1104): 1, (362, 515): 1, (361, 562): 1, (361, 741): 1, (752, 810): 1, (664, 1188): 1, (672, 1188): 1, (829, 1188): 1, (365, 679): 1, (865, 1140): 1, (358, 1181): 1, (359, 1104): 1, (509, 750): 1, (366, 1138): 1, (356, 840): 1, (571, 1201): 1, (1144, 1201): 1, (1186, 1201): 1, (362, 909): 1, (366, 744): 1, (744, 829): 1, (744, 1144): 1, (357, 1156): 1, (517, 912): 1, (864, 865): 1, (564, 1140): 1, (777, 1185): 1, (519, 1184): 1, (553, 1182): 1, (1182, 1187): 1, (511, 1160): 1, (511, 744): 1, (511, 753): 1, (562, 744): 1, (564, 862): 1, (664, 1160): 1, (791, 1160): 1, (794, 1160): 1, (553, 1141): 1, (553, 1188): 1, (568, 742): 1, (568, 862): 1, (568, 1141): 1, (568, 1188): 1, (742, 862): 1, (742, 1139): 1, (742, 1146): 1, (742, 1187): 1, (745, 1188): 1, (862, 1187): 1, (862, 1188): 1, (1139, 1188): 1, (1141, 1146): 1, (1141, 1187): 1, (1146, 1188): 1, (1187, 1188): 1, (361, 862): 1, (516, 743): 1, (743, 745): 1, (743, 765): 1, (357, 835): 1, (571, 835): 1, (519, 902): 1, (777, 902): 1, (1140, 1188): 1, (571, 1101): 1, (912, 1187): 1, (367, 507): 1, (571, 1146): 1, (800, 1146): 1, (810, 1144): 1, (523, 837): 1, (670, 837): 1, (800, 835): 1, (514, 1147): 1, (552, 1147): 1, (1101, 1115): 1, (363, 1181): 1, (363, 1184): 1, (1124, 1152): 1, (523, 836): 1, (551, 836): 1, (552, 836): 1, (664, 836): 1, (516, 862): 1, (516, 907): 1, (552, 1146): 1, (862, 907): 1, (862, 1099): 1, (907, 1146): 1, (1103, 1146): 1, (516, 1138): 1, (361, 1099): 1, (814, 1152): 1, (366, 568): 1, (671, 1100): 1, (1115, 1124): 1, (1115, 1128): 1, (765, 1099): 1, (835, 1102): 1, (502, 1187): 1, (514, 835): 1, (514, 1187): 1, (671, 1125): 1, (364, 502): 1, (364, 776): 1, (553, 909): 1, (568, 909): 1, (361, 518): 1, (742, 1116): 1, (357, 907): 1, (552, 803): 1, (756, 803): 1, (803, 829): 1, (1101, 1186): 1, (1099, 1128): 1, (1128, 1147): 1, (1128, 1187): 1, (745, 1140): 1, (659, 1140): 1, (1138, 1139): 1, (362, 513): 1, (357, 1128): 1, (362, 502): 1, (362, 514): 1, (1125, 1201): 1, (757, 1156): 1, (519, 835): 1, (764, 835): 1, (672, 744): 1, (813, 1156): 1, (502, 800): 1, (864, 1140): 1, (835, 1125): 1, (490, 1101): 1, (749, 1100): 1, (356, 863): 1, (357, 862): 1, (357, 863): 1, (863, 912): 1, (504, 864): 1, (504, 866): 1, (517, 866): 1, (523, 866): 1, (551, 866): 1, (552, 866): 1, (741, 864): 1, (741, 866): 1, (810, 864): 1, (810, 866): 1, (840, 866): 1, (864, 866): 1, (571, 866): 1, (865, 1125): 1, (865, 1186): 1, (866, 908): 1, (866, 1125): 1, (866, 1186): 1, (364, 514): 1, (672, 1144): 1, (1128, 1146): 1, (563, 659): 1, (566, 1141): 1, (367, 1138): 1, (358, 564): 1, (359, 564): 1, (364, 908): 1, (743, 1128): 1, (503, 516): 1, (507, 513): 1, (507, 1140): 1, (507, 1141): 1, (809, 1140): 1, (809, 1141): 1, (366, 1182): 1, (517, 1182): 1, (519, 1182): 1, (523, 1182): 1, (551, 1182): 1, (672, 809): 1, (672, 1182): 1, (745, 809): 1, (745, 1182): 1, (750, 1182): 1, (753, 1182): 1, (756, 813): 1, (756, 1182): 1, (809, 1182): 1, (813, 1182): 1, (1100, 1182): 1, (1101, 1182): 1, (1103, 1182): 1, (507, 671): 1, (671, 752): 1, (1100, 1146): 1, (361, 791): 1, (519, 800): 1, (553, 800): 1, (553, 757): 1, (507, 1129): 1, (517, 800): 1, (366, 508): 1, (866, 1200): 1, (1104, 1200): 1, (569, 755): 1, (755, 840): 1, (569, 1128): 1, (562, 749): 1, (511, 909): 1, (562, 909): 1, (568, 907): 1, (791, 1116): 1, (367, 755): 1, (659, 1188): 1, (750, 1188): 1, (813, 864): 1, (813, 907): 1, (864, 1103): 1, (659, 862): 1, (659, 864): 1, (794, 862): 1, (862, 1125): 1, (359, 659): 1, (364, 523): 1, (516, 1101): 1, (765, 1101): 1, (553, 1144): 1, (365, 1188): 1, (368, 777): 1, (659, 742): 1, (570, 862): 1, (516, 865): 1, (553, 865): 1, (566, 865): 1, (745, 865): 1, (865, 1139): 1, (865, 1147): 1, (361, 564): 1, (569, 671): 1, (562, 1184): 1, (791, 908): 1, (518, 864): 1, (863, 1144): 1, (659, 840): 1, (523, 1156): 1, (670, 1102): 1, (670, 1116): 1, (670, 1156): 1, (776, 1156): 1, (907, 1156): 1, (1115, 1156): 1, (570, 672): 1, (359, 363): 1, (829, 1146): 1, (523, 1146): 1, (664, 765): 1, (664, 1146): 1, (765, 1146): 1, (367, 1160): 1, (777, 1160): 1, (359, 679): 1, (359, 1152): 1, (568, 671): 1, (569, 1116): 1, (572, 1116): 1, (361, 365): 1, (361, 659): 1, (365, 659): 1, (362, 908): 1, (362, 1102): 1, (363, 908): 1, (552, 1124): 1, (360, 679): 1, (367, 1116): 1, (803, 1147): 1, (664, 840): 1, (359, 756): 1, (366, 742): 1, (366, 791): 1, (791, 1141): 1, (366, 836): 1, (489, 1160): 1, (764, 1160): 1, (513, 829): 1, (562, 755): 1, (562, 1104): 1, (679, 1104): 1, (752, 1152): 1, (755, 1152): 1, (1104, 1152): 1, (365, 764): 1, (519, 1152): 1, (744, 1152): 1, (566, 1104): 1, (516, 813): 1, (516, 1129): 1, (672, 1129): 1, (813, 1129): 1, (367, 829): 1, (502, 1181): 1, (679, 1181): 1, (756, 1181): 1, (764, 1181): 1, (744, 776): 1, (753, 814): 1, (776, 814): 1, (519, 862): 1, (519, 865): 1, (523, 865): 1, (672, 865): 1, (813, 862): 1, (813, 865): 1, (813, 1116): 1, (862, 1101): 1, (862, 1116): 1, (865, 1101): 1, (865, 1116): 1, (359, 794): 1, (794, 1184): 1, (562, 908): 1, (489, 1139): 1, (360, 489): 1, (507, 863): 1, (752, 863): 1, (809, 863): 1, (908, 1188): 1, (672, 741): 1, (664, 907): 1, (659, 791): 1, (742, 803): 1, (742, 907): 1, (742, 911): 1, (777, 911): 1, (803, 911): 1, (803, 1103): 1, (803, 1141): 1, (907, 911): 1, (907, 1141): 1, (911, 1103): 1, (911, 1141): 1, (1103, 1141): 1, (363, 756): 1, (776, 1161): 1, (364, 794): 1, (364, 489): 1, (364, 564): 1, (364, 659): 1, (364, 671): 1, (364, 679): 1, (364, 750): 1, (364, 753): 1, (367, 659): 1, (664, 671): 1, (750, 1160): 1, (757, 1160): 1, (367, 864): 1, (553, 756): 1, (553, 863): 1, (568, 756): 1, (568, 863): 1, (750, 1139): 1, (756, 863): 1, (756, 864): 1, (756, 1099): 1, (756, 1139): 1, (756, 1147): 1, (863, 1099): 1, (863, 1139): 1, (863, 1147): 1, (864, 1099): 1, (864, 1139): 1, (864, 1147): 1, (489, 1141): 1, (356, 1187): 1, (571, 1187): 1, (360, 552): 1, (366, 743): 1, (659, 1104): 1, (367, 863): 1, (563, 1152): 1, (356, 1116): 1, (564, 1181): 1, (564, 1184): 1, (741, 1138): 1, (366, 1140): 1, (679, 866): 1, (829, 866): 1, (862, 866): 1, (516, 742): 1, (679, 742): 1, (777, 837): 1, (363, 1116): 1, (562, 1145): 1, (356, 907): 1, (670, 1101): 1, (357, 1116): 1, (366, 909): 1, (765, 1116): 1, (909, 1144): 1, (756, 1152): 1, (517, 907): 1, (664, 749): 1, (562, 659): 1, (356, 570): 1, (356, 757): 1, (356, 791): 1, (516, 1152): 1, (569, 1156): 1, (553, 1129): 1, (755, 1100): 1, (360, 365): 1, (572, 1124): 1, (364, 745): 1, (364, 791): 1, (864, 1128): 1, (568, 1185): 1, (1129, 1156): 1, (570, 810): 1, (362, 570): 1, (362, 809): 1, (359, 517): 1, (367, 1115): 1, (367, 1181): 1, (756, 1128): 1, (562, 907): 1, (367, 509): 1, (741, 1188): 1, (517, 1184): 1, (569, 1125): 1, (742, 1124): 1, (659, 757): 1, (750, 814): 1, (791, 814): 1, (791, 1156): 1, (752, 833): 1, (358, 1152): 1, (362, 367): 1, (750, 1185): 1, (764, 1140): 1, (764, 1185): 1, (364, 756): 1, (756, 1145): 1, (803, 814): 1, (519, 1104): 1, (745, 749): 1, (1116, 1184): 1, (564, 1104): 1, (508, 829): 1, (508, 908): 1, (679, 1184): 1, (1101, 1138): 1, (362, 563): 1, (362, 814): 1, (563, 814): 1, (1104, 1129): 1, (368, 517): 1, (907, 1144): 1, (1129, 1144): 1, (356, 803): 1, (757, 1115): 1, (367, 563): 1, (490, 1145): 1, (490, 1161): 1, (564, 800): 1, (670, 800): 1, (670, 840): 1, (670, 1145): 1, (800, 814): 1, (800, 840): 1, (800, 863): 1, (800, 1145): 1, (800, 1161): 1, (814, 863): 1, (814, 1145): 1, (863, 1145): 1, (863, 1161): 1, (358, 361): 1, (358, 840): 1, (1101, 1156): 1, (518, 1140): 1, (362, 504): 1, (504, 511): 1, (368, 511): 1, (368, 516): 1, (357, 362): 1, (742, 1156): 1, (367, 1145): 1, (367, 810): 1, (364, 365): 1, (840, 1140): 1, (814, 1184): 1, (368, 750): 1, (361, 1116): 1, (1116, 1138): 1, (368, 1103): 1, (756, 1140): 1, (813, 1102): 1, (360, 672): 1, (360, 864): 1, (864, 1187): 1, (356, 1139): 1, (368, 837): 1, (837, 1129): 1, (489, 803): 1, (516, 741): 1, (519, 1145): 1, (360, 566): 1, (361, 1146): 1, (562, 810): 1, (359, 829): 1, (749, 909): 1, (749, 840): 1, (513, 670): 1, (1102, 1152): 1, (366, 1186): 1, (356, 360): 1, (570, 1129): 1, (367, 742): 1, (749, 907): 1, (749, 908): 1, (749, 1101): 1, (813, 912): 1, (749, 1128): 1, (508, 1102): 1, (755, 1102): 1, (364, 519): 1, (518, 744): 1, (518, 810): 1, (764, 1186): 1, (358, 511): 1, (358, 518): 1, (358, 777): 1, (359, 508): 1, (508, 511): 1, (508, 518): 1, (511, 518): 1, (511, 752): 1, (358, 908): 1, (367, 814): 1, (518, 794): 1, (367, 791): 1, (361, 866): 1, (776, 866): 1, (363, 490): 1, (368, 679): 1, (366, 814): 1, (358, 1103): 1, (490, 1104): 1, (357, 504): 1, (368, 814): 1, (368, 829): 1, (368, 907): 1, (513, 671): 1, (368, 571): 1, (569, 571): 1, (508, 517): 1, (518, 659): 1, (570, 1146): 1, (518, 671): 1, (671, 794): 1, (363, 368): 1, (367, 670): 1, (356, 368): 1, (356, 508): 1, (368, 508): 1, (368, 1100): 1, (368, 1101): 1, (490, 569): 1, (490, 837): 1, (511, 1128): 1, (515, 563): 1, (519, 1188): 1, (368, 1145): 1, (659, 863): 1, (671, 776): 1, (671, 863): 1, (757, 1101): 1, (502, 671): 1, (503, 670): 1, (670, 791): 1, (670, 1185): 1, (504, 1115): 1, (744, 1161): 1, (511, 671): 1, (511, 749): 1, (671, 749): 1, (508, 1103): 1, (865, 1138): 1, (562, 745): 1, (357, 503): 1, (357, 749): 1, (503, 749): 1, (357, 1101): 1, (570, 572): 1, (364, 569): 1, (363, 864): 1, (363, 1101): 1, (366, 563): 1, (511, 864): 1, (511, 1101): 1, (511, 1102): 1, (562, 1102): 1, (563, 864): 1, (864, 1102): 1, (517, 1138): 1, (502, 1099): 1, (509, 907): 1, (356, 743): 1, (368, 1115): 1, (840, 1115): 1, (508, 670): 1, (572, 671): 1, (490, 862): 1, (514, 1124): 1, (672, 907): 1, (360, 361): 1, (572, 664): 1, (503, 907): 1, (907, 1140): 1, (509, 741): 1, (757, 1140): 1, (749, 752): 1, (367, 756): 1, (566, 1146): 1, (356, 513): 1, (672, 1186): 1, (367, 744): 1, (517, 568): 1, (513, 518): 1, (742, 908): 1, (515, 837): 1, (357, 1198): 1, (1125, 1198): 1, (1186, 1198): 1, (513, 753): 1, (865, 1144): 1, (514, 1146): 1, (569, 810): 1, (679, 1145): 1, (810, 909): 1, (810, 1100): 1, (810, 1102): 1, (810, 1145): 1, (909, 1145): 1, (361, 1144): 1, (357, 813): 1, (515, 803): 1, (552, 833): 1, (564, 833): 1, (509, 1101): 1, (503, 1102): 1, (357, 569): 1, (518, 837): 1, (507, 1101): 1, (570, 670): 1, (670, 752): 1, (502, 837): 1, (744, 837): 1, (509, 757): 1, (671, 1116): 1, (756, 1156): 1, (664, 1129): 1, (664, 1152): 1, (1129, 1152): 1, (367, 743): 1, (794, 813): 1, (509, 776): 1, (553, 908): 1, (776, 1147): 1, (908, 1147): 1, (1102, 1147): 1, (519, 1124): 1, (366, 1161): 1, (670, 743): 1, (755, 1184): 1, (513, 1156): 1, (502, 1188): 1, (756, 1161): 1, (863, 1128): 1, (569, 814): 1, (569, 753): 1, (507, 1161): 1, (511, 569): 1, (511, 1161): 1, (504, 664): 1, (504, 513): 1, (670, 745): 1, (517, 1188): 1, (511, 745): 1, (563, 743): 1, (490, 742): 1, (513, 672): 1, (863, 1187): 1, (504, 863): 1, (755, 908): 1, (503, 571): 1, (800, 1124): 1, (800, 1128): 1, (1125, 1128): 1, (764, 1146): 1, (777, 1104): 1, (570, 1128): 1, (864, 1156): 1, (764, 1129): 1, (365, 742): 1, (365, 776): 1, (366, 1139): 1, (752, 1140): 1, (356, 503): 1, (356, 742): 1, (742, 765): 1, (765, 1140): 1, (516, 562): 1, (757, 1102): 1, (490, 572): 1, (503, 504): 1, (794, 1139): 1, (514, 866): 1, (570, 866): 1, (752, 866): 1, (809, 866): 1, (866, 1100): 1, (866, 1102): 1, (866, 1115): 1, (552, 830): 1, (809, 830): 1, (659, 1181): 1, (502, 803): 1, (502, 1129): 1, (571, 1129): 1, (803, 908): 1, (803, 1100): 1, (803, 1129): 1, (1124, 1161): 1, (1102, 1181): 1, (570, 744): 1, (744, 908): 1, (744, 909): 1, (744, 1116): 1, (490, 864): 1, (503, 568): 1, (756, 1138): 1, (356, 835): 1, (794, 836): 1, (670, 1144): 1, (513, 750): 1, (750, 1141): 1, (569, 863): 1, (743, 753): 1, (569, 791): 1, (791, 840): 1, (359, 1199): 1, (570, 1199): 1, (752, 1199): 1, (1115, 1199): 1, (744, 1140): 1, (357, 1152): 1, (752, 840): 1, (743, 791): 1, (1116, 1125): 1, (513, 907): 1, (357, 1147): 1, (360, 1186): 1, (509, 1186): 1, (553, 1186): 1, (1099, 1186): 1, (507, 1156): 1, (794, 1200): 1, (664, 809): 1, (363, 1124): 1, (511, 1124): 1, (562, 1124): 1, (563, 1124): 1, (363, 865): 1, (511, 865): 1, (562, 865): 1, (863, 1184): 1, (511, 840): 1, (664, 743): 1, (1128, 1185): 1, (504, 833): 1, (755, 833): 1, (363, 1125): 1, (363, 1185): 1, (1125, 1185): 1, (503, 563): 1, (553, 569): 1, (503, 1188): 1, (366, 1185): 1, (508, 864): 1, (776, 1104): 1, (864, 1104): 1, (864, 1115): 1, (572, 863): 1, (813, 863): 1, (513, 1128): 1, (765, 1187): 1, (504, 1147): 1, (551, 830): 1, (1129, 1139): 1, (568, 803): 1, (564, 1141): 1, (764, 1128): 1, (1156, 1181): 1, (670, 671): 1, (670, 753): 1, (671, 909): 1, (753, 909): 1, (912, 1156): 1, (508, 907): 1, (840, 911): 1, (908, 911): 1, (361, 752): 1, (752, 1156): 1, (363, 803): 1, (670, 803): 1, (764, 803): 1, (563, 791): 1, (361, 1102): 1, (513, 564): 1, (507, 907): 1, (907, 1181): 1, (511, 800): 1, (741, 1156): 1, (742, 814): 1, (513, 866): 1, (679, 803): 1, (504, 749): 1, (503, 1156): 1, (1140, 1156): 1, (489, 830): 1, (519, 743): 1, (519, 830): 1, (743, 830): 1, (361, 909): 1, (813, 909): 1, (511, 810): 1, (511, 908): 1, (777, 830): 1, (830, 907): 1, (830, 1116): 1, (513, 814): 1, (507, 862): 1, (752, 862): 1, (862, 1115): 1, (570, 840): 1, (507, 814): 1, (837, 1103): 1, (791, 1102): 1, (504, 809): 1, (757, 829): 1, (569, 813): 1, (672, 840): 1, (813, 840): 1, (800, 1100): 1, (741, 1101): 1, (357, 840): 1, (840, 1128): 1, (503, 902): 1, (504, 670): 1, (503, 912): 1, (503, 1125): 1, (562, 765): 1, (562, 912): 1, (562, 1125): 1, (765, 809): 1, (809, 912): 1, (809, 1125): 1, (813, 829): 1, (356, 1102): 1, (670, 1129): 1, (863, 1102): 1, (357, 757): 1, (569, 1182): 1, (840, 1182): 1, (1161, 1182): 1, (749, 1116): 1, (564, 837): 1, (837, 908): 1, (837, 1101): 1, (837, 1102): 1, (490, 1124): 1, (794, 800): 1, (503, 834): 1, (503, 1181): 1, (834, 1181): 1, (356, 1124): 1, (912, 1124): 1, (361, 907): 1, (907, 1138): 1, (511, 863): 1, (764, 1147): 1, (1124, 1138): 1, (765, 835): 1, (572, 809): 1, (363, 834): 1, (514, 834): 1, (552, 834): 1, (552, 1160): 1, (563, 834): 1, (834, 1102): 1, (834, 1103): 1, (834, 1128): 1, (834, 1160): 1, (1102, 1160): 1, (1128, 1160): 1, (672, 800): 1, (1125, 1147): 1, (1129, 1138): 1, (563, 749): 1, (563, 1156): 1, (513, 836): 1, (513, 1101): 1, (513, 1102): 1, (742, 1102): 1, (836, 1100): 1, (836, 1101): 1, (836, 1102): 1, (836, 1188): 1, (1101, 1141): 1, (1101, 1188): 1, (1102, 1141): 1, (1102, 1188): 1, (670, 1128): 1, (672, 837): 1, (670, 741): 1, (813, 908): 1, (813, 1125): 1, (813, 1187): 1, (1138, 1187): 1, (363, 791): 1, (829, 1145): 1, (569, 864): 1, (1125, 1146): 1, (834, 1116): 1, (504, 865): 1, (514, 865): 1, (515, 865): 1, (572, 865): 1, (865, 907): 1, (865, 1145): 1, (907, 1145): 1, (563, 863): 1, (571, 814): 1, (745, 814): 1, (765, 814): 1, (489, 1185): 1, (800, 1144): 1, (800, 1186): 1, (907, 1128): 1, (835, 1147): 1, (516, 1141): 1, (562, 1140): 1, (742, 902): 1, (864, 1184): 1, (507, 834): 1, (809, 834): 1, (834, 1104): 1, (741, 791): 1, (361, 1128): 1, (743, 1156): 1, (864, 1129): 1, (756, 1185): 1})\n"
          ]
        }
      ],
      "source": [
        "print(res_dict)"
      ]
    },
    {
      "cell_type": "code",
      "execution_count": null,
      "metadata": {
        "id": "UqPGmgye8237",
        "outputId": "017d949b-17a2-4fa0-bd37-1f7d5b58b67b"
      },
      "outputs": [
        {
          "name": "stdout",
          "output_type": "stream",
          "text": [
            "Всего курсов: 126\n",
            "id всех курсов:\n",
            "[513, 514, 515, 516, 517, 518, 519, 523, 551, 552, 553, 562, 563, 564, 566, 568, 569, 570, 571, 572, 1099, 1100, 1101, 1102, 1103, 1104, 1115, 1116, 1124, 1125, 1128, 1129, 1138, 1139, 1140, 1141, 1144, 1145, 1146, 1147, 1152, 1156, 1160, 1161, 659, 664, 1181, 670, 671, 672, 1185, 1186, 1187, 1184, 1188, 1182, 679, 1198, 1199, 1200, 1201, 741, 742, 743, 744, 745, 749, 750, 752, 753, 755, 756, 757, 764, 765, 776, 777, 791, 794, 800, 803, 809, 810, 813, 814, 829, 830, 833, 834, 835, 836, 837, 840, 862, 863, 864, 865, 866, 356, 357, 358, 359, 360, 361, 362, 363, 364, 365, 366, 367, 368, 902, 907, 908, 909, 911, 912, 489, 490, 502, 503, 504, 507, 508, 509, 511]\n"
          ]
        }
      ],
      "source": [
        "# Использую предыдущий цикл, только применяя ко всему словарю.\n",
        "all_course = []\n",
        "for i in res_dict.items():\n",
        "    if i[1] >= 1:                    # Отсекаю из словаря пары курсов, которые ниже минимально установленного количества.\n",
        "       all_course.append(i[0][0])   # Перебираю id в кортежах пар курсов словаря и добавляю в список заданный список.\n",
        "       all_course.append(i[0][1])\n",
        "all_course = list(set(all_course))  # C помощью set() убираю дубликаты\n",
        "print(f'Всего курсов: {len(all_course)}')\n",
        "print(f'id всех курсов:\\n{all_course}')"
      ]
    },
    {
      "cell_type": "markdown",
      "metadata": {
        "id": "7i87LPu38237"
      },
      "source": [
        "Следующим шагом необходимо получить список курсов - рейтинг курсов из пар курсов, отфильтрованных по условию: count > 6. "
      ]
    },
    {
      "cell_type": "code",
      "execution_count": null,
      "metadata": {
        "id": "MF3gSo-u8238",
        "outputId": "3f237aef-7bf9-4ba4-8c9e-2bde21a9b295"
      },
      "outputs": [
        {
          "name": "stdout",
          "output_type": "stream",
          "text": [
            "Всего курсов в списке рейтинга: 110\n",
            "Рейтинг id курсов:\n",
            "[513, 514, 515, 516, 517, 518, 519, 523, 551, 552, 553, 562, 563, 564, 566, 568, 569, 570, 571, 572, 1099, 1100, 1101, 1102, 1103, 1104, 1115, 1116, 1124, 1125, 1128, 1129, 1138, 1139, 1140, 1141, 1144, 1145, 1146, 1147, 1152, 1156, 1161, 659, 664, 1181, 670, 671, 672, 1185, 1186, 1187, 1184, 1188, 679, 741, 742, 743, 744, 745, 749, 750, 752, 753, 755, 756, 757, 764, 765, 776, 777, 791, 794, 800, 803, 809, 810, 813, 814, 829, 835, 840, 862, 863, 864, 865, 356, 357, 358, 359, 360, 361, 362, 363, 366, 367, 368, 907, 908, 909, 912, 489, 490, 502, 503, 504, 507, 508, 509, 511]\n"
          ]
        }
      ],
      "source": [
        "lst_course = []\n",
        "for i in res_dict.items():\n",
        "    if i[1] > 6:                    # Отсекаю из словаря пары курсов, которые ниже минимально установленного количества.\n",
        "       lst_course.append(i[0][0])   # Перебираю id в кортежах пар курсов словаря и добавляю в заданный список.\n",
        "       lst_course.append(i[0][1])\n",
        "lst_course = list(set(lst_course))  # Очищаю список от дубликатов\n",
        "print(f'Всего курсов в списке рейтинга: {len(lst_course)}')\n",
        "print(f'Рейтинг id курсов:\\n{lst_course}')"
      ]
    },
    {
      "cell_type": "markdown",
      "metadata": {
        "id": "KRJt7t458238"
      },
      "source": [
        "<span style=\"color:#4682B4\">**Ш А Г 2**</span><br>\n",
        "Получение списка id, 1-ой и 2-й рекомендации."
      ]
    },
    {
      "cell_type": "code",
      "execution_count": null,
      "metadata": {
        "id": "ogdvCFjA8238"
      },
      "outputs": [],
      "source": [
        "import random"
      ]
    },
    {
      "cell_type": "code",
      "execution_count": null,
      "metadata": {
        "id": "sHWOVwci8238",
        "outputId": "21f231eb-7dbb-450b-ac5a-0cacac1bec95"
      },
      "outputs": [
        {
          "data": {
            "text/plain": [
              "[((551, 566), 797), ((515, 551), 417)]"
            ]
          },
          "execution_count": 23,
          "metadata": {},
          "output_type": "execute_result"
        }
      ],
      "source": [
        "# Создаём функцию, которая образует пары из смежных курсов и рейтинга.\n",
        "def rec(id):\n",
        "\trec_lst = []\n",
        "\tfor i in res_dict.keys():\n",
        "\t\tif i[0] == id:\n",
        "\t\t\trec_lst.append((i, res_dict[i]))\n",
        "\t\telif i[1] == id:\n",
        "\t\t\trec_lst.append((i, res_dict[i]))\n",
        "\trec_lst_s = sorted(rec_lst, key=lambda x:x[1], reverse = True) # Сортировка пары по рейтингу\n",
        "\treturn rec_lst_s[:2]\n",
        "rec(551)"
      ]
    },
    {
      "cell_type": "code",
      "execution_count": null,
      "metadata": {
        "id": "uCj05fY-8239",
        "outputId": "3b735ffd-1994-471f-9031-4dc08ee54324"
      },
      "outputs": [
        {
          "data": {
            "text/plain": [
              "[(513, 503, 551),\n",
              " (514, 551, 515),\n",
              " (515, 551, 489),\n",
              " (516, 745, 553),\n",
              " (517, 551, 750),\n",
              " (518, 551, 490),\n",
              " (519, 551, 523),\n",
              " (523, 551, 515),\n",
              " (551, 566, 515),\n",
              " (552, 551, 523)]"
            ]
          },
          "execution_count": 24,
          "metadata": {},
          "output_type": "execute_result"
        }
      ],
      "source": [
        "# Подадём на вход функции id курсов списка all_course.\n",
        "import random\n",
        "rec_lst_fin = []\n",
        "for i in all_course:\n",
        "\tif len(rec(i)) == 2:\n",
        "\t\trec_lst_fin.append((i, (set(rec(i)[0][0]) - set([i])).pop(), (set(rec(i)[1][0]) - set([i])).pop()))\n",
        "\telif len(rec(i)) == 1:\n",
        "\t\trec_lst_fin.append((i, (set(rec(i)[0][0]) - set([i])).pop(), random.choice(lst_course))) # Добавляю курсы из рейтинга.\n",
        "rec_lst_fin[:10]"
      ]
    },
    {
      "cell_type": "markdown",
      "metadata": {
        "id": "Zv_LqZqT8239"
      },
      "source": [
        "<span style=\"color:#4682B4\">**Ш А Г 3**</span><br>\n",
        "Создание финальной таблицы через создание списков колонок. <br>\n",
        "Из полученного списка кортежей необходимо извлечь id поочерёдно и вложить в соответсвующий список.\n"
      ]
    },
    {
      "cell_type": "code",
      "execution_count": null,
      "metadata": {
        "id": "znj4jUo_8239",
        "outputId": "79c470af-3327-45b1-e1de-e1f4b07ef6a7"
      },
      "outputs": [
        {
          "name": "stdout",
          "output_type": "stream",
          "text": [
            "[513, 514, 515, 516, 517, 518, 519, 523, 551, 552, 553, 562, 563, 564, 566, 568, 569, 570, 571, 572, 1099, 1100, 1101, 1102, 1103, 1104, 1115, 1116, 1124, 1125, 1128, 1129, 1138, 1139, 1140, 1141, 1144, 1145, 1146, 1147, 1152, 1156, 1160, 1161, 659, 664, 1181, 670, 671, 672, 1185, 1186, 1187, 1184, 1188, 1182, 679, 1198, 1199, 1200, 1201, 741, 742, 743, 744, 745, 749, 750, 752, 753, 755, 756, 757, 764, 765, 776, 777, 791, 794, 800, 803, 809, 810, 813, 814, 829, 830, 833, 834, 835, 836, 837, 840, 862, 863, 864, 865, 866, 356, 357, 358, 359, 360, 361, 362, 363, 364, 365, 366, 367, 368, 902, 907, 908, 909, 911, 912, 489, 490, 502, 503, 504, 507, 508, 509, 511]\n"
          ]
        }
      ],
      "source": [
        "# В первом списке - id курсов, для которых делается рекомендация.\n",
        "lst_1 = []\n",
        "for i in rec_lst_fin:\n",
        "    lst_1.append(i[0])\n",
        "print(lst_1)"
      ]
    },
    {
      "cell_type": "code",
      "execution_count": null,
      "metadata": {
        "id": "DKnfQAY58239",
        "outputId": "a395cac4-f5ba-4582-9aeb-a80e9c2f90a0"
      },
      "outputs": [
        {
          "name": "stdout",
          "output_type": "stream",
          "text": [
            "[503, 551, 551, 745, 551, 551, 551, 551, 566, 551, 745, 363, 562, 523, 551, 745, 572, 752, 1125, 569, 745, 551, 1100, 1100, 551, 752, 570, 564, 1128, 571, 1124, 1100, 361, 745, 503, 513, 571, 840, 745, 745, 551, 566, 562, 840, 551, 551, 752, 490, 659, 551, 1140, 1125, 745, 752, 1141, 553, 551, 571, 523, 866, 571, 551, 1141, 490, 551, 553, 551, 551, 570, 750, 570, 566, 566, 566, 571, 551, 551, 551, 566, 571, 571, 490, 551, 672, 564, 551, 566, 507, 566, 745, 742, 569, 569, 551, 908, 551, 829, 865, 571, 571, 570, 570, 745, 551, 363, 511, 551, 551, 551, 551, 572, 519, 1103, 1100, 523, 514, 571, 551, 566, 551, 551, 572, 570, 507, 745, 363]\n"
          ]
        }
      ],
      "source": [
        "# Во втором списке - id курсов для рекомендации № 1 (самый популярный).\n",
        "lst_2 = []\n",
        "for i in rec_lst_fin:\n",
        "    lst_2.append(i[1])\n",
        "print(lst_2)"
      ]
    },
    {
      "cell_type": "code",
      "execution_count": null,
      "metadata": {
        "id": "S2djWOLm823-",
        "outputId": "eadc9ffa-61e2-418d-b278-5b7c8ca2e40a"
      },
      "outputs": [
        {
          "name": "stdout",
          "output_type": "stream",
          "text": [
            "[551, 515, 489, 553, 750, 490, 523, 515, 515, 523, 516, 511, 363, 551, 794, 553, 840, 507, 357, 504, 568, 908, 552, 1103, 566, 809, 752, 809, 908, 912, 523, 566, 672, 553, 664, 742, 1125, 569, 1139, 553, 490, 551, 563, 569, 750, 503, 570, 566, 750, 745, 503, 571, 553, 507, 513, 1187, 489, 551, 515, 1104, 1144, 566, 503, 757, 566, 516, 515, 566, 507, 551, 752, 551, 551, 551, 1125, 566, 515, 664, 551, 1125, 523, 570, 566, 361, 551, 552, 814, 570, 515, 509, 1141, 840, 572, 552, 1100, 523, 1103, 1104, 357, 356, 752, 358, 516, 1138, 562, 562, 503, 566, 515, 515, 569, 777, 523, 809, 566, 566, 1125, 515, 551, 566, 513, 569, 752, 570, 553, 562]\n"
          ]
        }
      ],
      "source": [
        "# В третьем списке - id курсов для рекомендации № 2 (второй по популярности).\n",
        "lst_3 = []\n",
        "for i in rec_lst_fin:\n",
        "    lst_3.append(i[2])\n",
        "print(lst_3)"
      ]
    },
    {
      "cell_type": "markdown",
      "metadata": {
        "id": "LvmyMPsD823-"
      },
      "source": [
        "**Из списков формируем финальную таблицу с соответствующими колонками.**"
      ]
    },
    {
      "cell_type": "code",
      "execution_count": null,
      "metadata": {
        "id": "Nh4DsoUG823-",
        "outputId": "2aad8e0d-3a5c-42ea-a432-aa182b28958b"
      },
      "outputs": [
        {
          "data": {
            "text/html": [
              "<div>\n",
              "<style scoped>\n",
              "    .dataframe tbody tr th:only-of-type {\n",
              "        vertical-align: middle;\n",
              "    }\n",
              "\n",
              "    .dataframe tbody tr th {\n",
              "        vertical-align: top;\n",
              "    }\n",
              "\n",
              "    .dataframe thead th {\n",
              "        text-align: right;\n",
              "    }\n",
              "</style>\n",
              "<table border=\"1\" class=\"dataframe\">\n",
              "  <thead>\n",
              "    <tr style=\"text-align: right;\">\n",
              "      <th></th>\n",
              "      <th>id_course</th>\n",
              "      <th>recommendation_1</th>\n",
              "      <th>recommendation_2</th>\n",
              "    </tr>\n",
              "  </thead>\n",
              "  <tbody>\n",
              "    <tr>\n",
              "      <th>0</th>\n",
              "      <td>513</td>\n",
              "      <td>503</td>\n",
              "      <td>551</td>\n",
              "    </tr>\n",
              "    <tr>\n",
              "      <th>1</th>\n",
              "      <td>514</td>\n",
              "      <td>551</td>\n",
              "      <td>515</td>\n",
              "    </tr>\n",
              "    <tr>\n",
              "      <th>2</th>\n",
              "      <td>515</td>\n",
              "      <td>551</td>\n",
              "      <td>489</td>\n",
              "    </tr>\n",
              "    <tr>\n",
              "      <th>3</th>\n",
              "      <td>516</td>\n",
              "      <td>745</td>\n",
              "      <td>553</td>\n",
              "    </tr>\n",
              "    <tr>\n",
              "      <th>4</th>\n",
              "      <td>517</td>\n",
              "      <td>551</td>\n",
              "      <td>750</td>\n",
              "    </tr>\n",
              "    <tr>\n",
              "      <th>...</th>\n",
              "      <td>...</td>\n",
              "      <td>...</td>\n",
              "      <td>...</td>\n",
              "    </tr>\n",
              "    <tr>\n",
              "      <th>121</th>\n",
              "      <td>504</td>\n",
              "      <td>572</td>\n",
              "      <td>569</td>\n",
              "    </tr>\n",
              "    <tr>\n",
              "      <th>122</th>\n",
              "      <td>507</td>\n",
              "      <td>570</td>\n",
              "      <td>752</td>\n",
              "    </tr>\n",
              "    <tr>\n",
              "      <th>123</th>\n",
              "      <td>508</td>\n",
              "      <td>507</td>\n",
              "      <td>570</td>\n",
              "    </tr>\n",
              "    <tr>\n",
              "      <th>124</th>\n",
              "      <td>509</td>\n",
              "      <td>745</td>\n",
              "      <td>553</td>\n",
              "    </tr>\n",
              "    <tr>\n",
              "      <th>125</th>\n",
              "      <td>511</td>\n",
              "      <td>363</td>\n",
              "      <td>562</td>\n",
              "    </tr>\n",
              "  </tbody>\n",
              "</table>\n",
              "<p>126 rows × 3 columns</p>\n",
              "</div>"
            ],
            "text/plain": [
              "     id_course  recommendation_1  recommendation_2\n",
              "0          513               503               551\n",
              "1          514               551               515\n",
              "2          515               551               489\n",
              "3          516               745               553\n",
              "4          517               551               750\n",
              "..         ...               ...               ...\n",
              "121        504               572               569\n",
              "122        507               570               752\n",
              "123        508               507               570\n",
              "124        509               745               553\n",
              "125        511               363               562\n",
              "\n",
              "[126 rows x 3 columns]"
            ]
          },
          "execution_count": 28,
          "metadata": {},
          "output_type": "execute_result"
        }
      ],
      "source": [
        "final_df = pd.DataFrame(\n",
        "    {'id_course': lst_1,\n",
        "     'recommendation_1': lst_2,\n",
        "     'recommendation_2': lst_3\n",
        "    })\n",
        "final_df"
      ]
    },
    {
      "cell_type": "code",
      "execution_count": null,
      "metadata": {
        "id": "QJCavLdr823-",
        "outputId": "f817e893-299f-43ae-ce24-48095f2e5b62"
      },
      "outputs": [
        {
          "name": "stdout",
          "output_type": "stream",
          "text": [
            "564\n"
          ]
        }
      ],
      "source": [
        "print(random.choice(lst_course)) # Вывожу для наглядности как выдаётся id из списка рекомендаций."
      ]
    },
    {
      "cell_type": "code",
      "execution_count": null,
      "metadata": {
        "id": "wBT1rCbo823-"
      },
      "outputs": [],
      "source": [
        "# Необходимо проверить на совпадение рекомендаций и исключить совпадения.\n",
        "for i in final_df['recommendation_1']:\n",
        "    for j in final_df['recommendation_2']:\n",
        "        if i == j:\n",
        "            j == random.choice(lst_course) # В случае совпадения, предлагаю замену из списка рейтинга курсов.\n",
        "        else:\n",
        "            continue"
      ]
    },
    {
      "cell_type": "markdown",
      "metadata": {
        "id": "-SXKiFjT823_"
      },
      "source": [
        "<div id=\"header\" align=\"center\"><h1><span style=\"color:red\">В Ы В О Д<span></h1></p>"
      ]
    },
    {
      "cell_type": "markdown",
      "metadata": {
        "id": "LieFmjON823_"
      },
      "source": [
        "\n",
        "<blockquote><p>В ходе работы получена таблица на условиях<br>отбора рейтинга курсов с установлением минимальной границы по значению параметра для пар курсов count =6,<br>\n",
        "использованием для рекомендаций составленного рейтинга курсов (id) и рейтинга пар курсов.</p>"
      ]
    },
    {
      "cell_type": "markdown",
      "metadata": {
        "id": "EvmbvGJY823_"
      },
      "source": [
        "<div id=\"header\" align=\"center\"><h1><span style=\"color:#2F4F4F\">Итоговая таблица</span></h1></p>"
      ]
    },
    {
      "cell_type": "markdown",
      "metadata": {
        "id": "hBhF1HTP823_"
      },
      "source": [
        "<blockquote><p>Итоговая таблица состит из трёх столбцов:<br><br>\n",
        "1. Курс, к которому идёт рекомендация.<br>\n",
        "2. Курс для рекомендации № 1 (самый популярный).<br>\n",
        "3. Курс для рекомендации № 2 (второй по популярности).</p>"
      ]
    },
    {
      "cell_type": "code",
      "execution_count": null,
      "metadata": {
        "id": "Q6yzOmxu823_",
        "outputId": "3b7cc9fc-3d45-4b3d-df23-4a3e4f626f12"
      },
      "outputs": [
        {
          "data": {
            "text/html": [
              "<div>\n",
              "<style scoped>\n",
              "    .dataframe tbody tr th:only-of-type {\n",
              "        vertical-align: middle;\n",
              "    }\n",
              "\n",
              "    .dataframe tbody tr th {\n",
              "        vertical-align: top;\n",
              "    }\n",
              "\n",
              "    .dataframe thead th {\n",
              "        text-align: right;\n",
              "    }\n",
              "</style>\n",
              "<table border=\"1\" class=\"dataframe\">\n",
              "  <thead>\n",
              "    <tr style=\"text-align: right;\">\n",
              "      <th></th>\n",
              "      <th>id_course</th>\n",
              "      <th>recommendation_1</th>\n",
              "      <th>recommendation_2</th>\n",
              "    </tr>\n",
              "  </thead>\n",
              "  <tbody>\n",
              "    <tr>\n",
              "      <th>0</th>\n",
              "      <td>513</td>\n",
              "      <td>503</td>\n",
              "      <td>551</td>\n",
              "    </tr>\n",
              "    <tr>\n",
              "      <th>1</th>\n",
              "      <td>514</td>\n",
              "      <td>551</td>\n",
              "      <td>515</td>\n",
              "    </tr>\n",
              "    <tr>\n",
              "      <th>2</th>\n",
              "      <td>515</td>\n",
              "      <td>551</td>\n",
              "      <td>489</td>\n",
              "    </tr>\n",
              "    <tr>\n",
              "      <th>3</th>\n",
              "      <td>516</td>\n",
              "      <td>745</td>\n",
              "      <td>553</td>\n",
              "    </tr>\n",
              "    <tr>\n",
              "      <th>4</th>\n",
              "      <td>517</td>\n",
              "      <td>551</td>\n",
              "      <td>750</td>\n",
              "    </tr>\n",
              "    <tr>\n",
              "      <th>...</th>\n",
              "      <td>...</td>\n",
              "      <td>...</td>\n",
              "      <td>...</td>\n",
              "    </tr>\n",
              "    <tr>\n",
              "      <th>121</th>\n",
              "      <td>504</td>\n",
              "      <td>572</td>\n",
              "      <td>569</td>\n",
              "    </tr>\n",
              "    <tr>\n",
              "      <th>122</th>\n",
              "      <td>507</td>\n",
              "      <td>570</td>\n",
              "      <td>752</td>\n",
              "    </tr>\n",
              "    <tr>\n",
              "      <th>123</th>\n",
              "      <td>508</td>\n",
              "      <td>507</td>\n",
              "      <td>570</td>\n",
              "    </tr>\n",
              "    <tr>\n",
              "      <th>124</th>\n",
              "      <td>509</td>\n",
              "      <td>745</td>\n",
              "      <td>553</td>\n",
              "    </tr>\n",
              "    <tr>\n",
              "      <th>125</th>\n",
              "      <td>511</td>\n",
              "      <td>363</td>\n",
              "      <td>562</td>\n",
              "    </tr>\n",
              "  </tbody>\n",
              "</table>\n",
              "<p>126 rows × 3 columns</p>\n",
              "</div>"
            ],
            "text/plain": [
              "     id_course  recommendation_1  recommendation_2\n",
              "0          513               503               551\n",
              "1          514               551               515\n",
              "2          515               551               489\n",
              "3          516               745               553\n",
              "4          517               551               750\n",
              "..         ...               ...               ...\n",
              "121        504               572               569\n",
              "122        507               570               752\n",
              "123        508               507               570\n",
              "124        509               745               553\n",
              "125        511               363               562\n",
              "\n",
              "[126 rows x 3 columns]"
            ]
          },
          "execution_count": 31,
          "metadata": {},
          "output_type": "execute_result"
        }
      ],
      "source": [
        "final_df"
      ]
    }
  ],
  "metadata": {
    "colab": {
      "provenance": [],
      "include_colab_link": true
    },
    "kernelspec": {
      "display_name": "Python 3",
      "name": "python3"
    },
    "language_info": {
      "codemirror_mode": {
        "name": "ipython",
        "version": 3
      },
      "file_extension": ".py",
      "mimetype": "text/x-python",
      "name": "python",
      "nbconvert_exporter": "python",
      "pygments_lexer": "ipython3",
      "version": "3.9.7"
    }
  },
  "nbformat": 4,
  "nbformat_minor": 0
}