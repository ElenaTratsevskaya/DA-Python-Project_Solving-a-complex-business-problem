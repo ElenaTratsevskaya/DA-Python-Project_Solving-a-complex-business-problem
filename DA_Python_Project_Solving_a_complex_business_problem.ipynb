{
  "cells": [
    {
      "cell_type": "markdown",
      "metadata": {
        "id": "view-in-github",
        "colab_type": "text"
      },
      "source": [
        "<a href=\"https://colab.research.google.com/github/ElenaTratsevskaya/DA-Python-Project_Solving-a-complex-business-problem/blob/main/DA_Python_Project_Solving_a_complex_business_problem.ipynb\" target=\"_parent\"><img src=\"https://colab.research.google.com/assets/colab-badge.svg\" alt=\"Open In Colab\"/></a>"
      ]
    },
    {
      "cell_type": "markdown",
      "metadata": {
        "id": "W3LLW0c_9kDX"
      },
      "source": [
        "<div id=\"header\" align=\"center\"><h1><span style=\"color:#2F4F4F\">PROJECT: Решение комплексной бизнес-задачи<br> для подготовки рекомендательной системы</p></h1></div>"
      ]
    },
    {
      "cell_type": "markdown",
      "metadata": {
        "id": "QKhv78GH9kDd"
      },
      "source": [
        "<span style=\"color:#2F4F4F\">**Ц Е Л Ь**:</p>\n",
        "Подготовить основу рекомендательной системы для курсов он-лайн школы, благодаря которой можно будет предлагать клиентам интересные им курсы и тем самым повышать средний чек."
      ]
    },
    {
      "cell_type": "markdown",
      "metadata": {
        "id": "m_rKaOUv9kDe"
      },
      "source": [
        "<span style=\"color:#2F4F4F\">**КОНКРЕТНЫЕ ШАГИ (ФОРМАЛИЗОВАННЫЕ ЗАДАЧИ)**:</p><br>\n",
        "\n",
        "1. Познакомиться с датасетом, подготовить и проанализировать данные с помощью SQL.<br>\n",
        "2. Обработать данные средствами Python.<br>\n",
        "3. Составить итоговую таблицу с рекомендациями, снабдив её необходимыми комментариями, и представить отчёт.<br><br>\n",
        "\n",
        "<span style=\"color:#2F4F4F\">**РЕЗУЛЬТАТ ПРОЕКТА**:</p>\n",
        "Итогом работы является файл, содержащий результаты всех промежуточных этапов: скрипты с комментариями, таблица рекомендаций и выводы."
      ]
    },
    {
      "cell_type": "markdown",
      "metadata": {
        "id": "QeT_vuDh9kDe"
      },
      "source": [
        "<span style=\"color:#2F4F4F\">**ИСХОДНЫЕ ДАННЫЕ**:</p><br>\n",
        "<span style=\"color:#2F4F4F\">Таблица **carts** — данные о пользовательских корзинах:</p>\n",
        "<table>\n",
        "<thead>\n",
        "<tr><th>Название поля</th><th>Описание</th></tr>\n",
        "</thead>\n",
        "<tbody>\n",
        "<tr><td>Promo Code ID</td><td>ID промокода, если он есть</td></tr>\n",
        "<tr><td>Purchased At</td><td>дата оплаты</td></tr>\n",
        "<tr><td>User ID</td><td>ID пользователя</td></tr>\n",
        "<tr><td>Created At</td><td>дата создания корзины</td></tr> \n",
        "<tr><td>Updated At</td><td>дата последнего обновления информации</td></tr>\n",
        "<tr><td>ID</td><td>идентификатор корзины</td></tr>\n",
        "<tr><td>State</td><td>состояние оплаты</td></tr>\n",
        "</tbody>\n",
        "</table>\n",
        "\n",
        "<span style=\"color:#2F4F4F\">Таблица **cart items** — данные о курсах, которые пользователи добавили в корзину:</p>\n",
        "<table>\n",
        "<thead>\n",
        "<tr><th>Название поля</th><th>Описание</th></tr>\n",
        "</thead>\n",
        "<tbody>\n",
        "<tr><td>Created At</td><td>дата создания события</td></tr>\n",
        "<tr><td>Resource Type</td><td>тип продукта</td></tr>\n",
        "<tr><td>Resource ID</td><td>ID курса</td></tr>\n",
        "<tr><td>Cart ID</td><td>идентификатор корзины</td></tr> \n",
        "<tr><td>Updated At</td><td>дата последнего обновления информации</td></tr>\n",
        "<tr><td>ID</td><td>идентификатор операции</td></tr>\n",
        "</tbody>\n",
        "</table>\n"
      ]
    },
    {
      "cell_type": "code",
      "execution_count": null,
      "metadata": {
        "id": "_dybvQcQ9kDf",
        "outputId": "909dbbab-607d-4fd3-b8a8-4be8e11a0d58"
      },
      "outputs": [
        {
          "name": "stdout",
          "output_type": "stream",
          "text": [
            "Requirement already satisfied: pip in c:\\users\\user\\anaconda3\\lib\\site-packages (23.0.1)\n"
          ]
        }
      ],
      "source": [
        "!python -m pip install --upgrade pip"
      ]
    },
    {
      "cell_type": "code",
      "execution_count": null,
      "metadata": {
        "id": "2EKXLeJk9kDg",
        "outputId": "ebdd9095-af25-46b6-ea63-2384df4a3dc0"
      },
      "outputs": [
        {
          "name": "stdout",
          "output_type": "stream",
          "text": [
            "Requirement already satisfied: psycopg2 in c:\\users\\user\\anaconda3\\lib\\site-packages (2.9.5)\n"
          ]
        }
      ],
      "source": [
        "! pip install psycopg2 "
      ]
    },
    {
      "cell_type": "code",
      "execution_count": null,
      "metadata": {
        "id": "sUuuV3679kDh"
      },
      "outputs": [],
      "source": [
        "#импортируем библиотеки\n",
        "import pandas as pd\n",
        "import numpy as np\n",
        "import psycopg2\n",
        "import psycopg2.extras\n",
        "from itertools import combinations \n",
        "from collections import Counter\n",
        "import json"
      ]
    },
    {
      "cell_type": "markdown",
      "metadata": {
        "id": "mNMitfJ29kDh"
      },
      "source": [
        "<div id=\"header\" align=\"center\"><h1><span style=\"color:#2F4F4F\">Решение формализованных задач 1-2</p></h1></div>"
      ]
    },
    {
      "cell_type": "markdown",
      "metadata": {
        "id": "efJke0SL9kDh"
      },
      "source": [
        "**Посмотрим сколько клиентов покупали курсы.**"
      ]
    },
    {
      "cell_type": "code",
      "execution_count": null,
      "metadata": {
        "id": "KvmFd3oK9kDi",
        "outputId": "55e5e4c5-9135-45c4-c611-13f5f3770929"
      },
      "outputs": [
        {
          "name": "stdout",
          "output_type": "stream",
          "text": [
            "[(49006,)]\n",
            "PostgreSQL connection is closed\n"
          ]
        }
      ],
      "source": [
        "try:\n",
        "    connection = psycopg2.connect(\n",
        "        user=\"skillfactory\",\n",
        "        password=\"cCkxxLVrDE8EbvjueeMedPKt\",\n",
        "        host=\"84.201.134.129\",\n",
        "        port=\"5432\",\n",
        "        database=\"skillfactory\",\n",
        "    )\n",
        "    cursor = connection.cursor()\n",
        "\n",
        "    create_table_query = '''SELECT \n",
        "    COUNT (DISTINCT user_id) AS quantity\n",
        "    FROM final.carts c\n",
        "    JOIN final.cart_items i ON i.cart_id = c.id\n",
        "    WHERE state = 'successful'\n",
        "    AND resource_type = 'Course'\n",
        "    '''.format()\n",
        "\n",
        "    cursor.execute(create_table_query)\n",
        "    users_count = cursor.fetchall() \n",
        "    connection.commit()\n",
        "    print(users_count)\n",
        "\n",
        "except (Exception, psycopg2.DatabaseError) as error:\n",
        "    print(\"Error while creating PostgreSQL table\", error)\n",
        "finally:\n",
        "    if connection:\n",
        "        cursor.close()\n",
        "        connection.close()\n",
        "        print(\"PostgreSQL connection is closed\")"
      ]
    },
    {
      "cell_type": "markdown",
      "metadata": {
        "id": "J96669xQ9kDi"
      },
      "source": [
        "**Определим колько всего есть различных курсов в он-лайн школе.**"
      ]
    },
    {
      "cell_type": "code",
      "execution_count": null,
      "metadata": {
        "id": "6Qud224u9kDi",
        "outputId": "cd4642be-af63-48d8-e049-9997d7c08095"
      },
      "outputs": [
        {
          "name": "stdout",
          "output_type": "stream",
          "text": [
            "[(127,)]\n",
            "PostgreSQL connection is closed\n"
          ]
        }
      ],
      "source": [
        "try:\n",
        "    connection = psycopg2.connect(\n",
        "        user=\"skillfactory\",\n",
        "        password=\"cCkxxLVrDE8EbvjueeMedPKt\",\n",
        "        host=\"84.201.134.129\",\n",
        "        port=\"5432\",\n",
        "        database=\"skillfactory\",\n",
        "    )\n",
        "    cursor = connection.cursor()\n",
        "\n",
        "    create_table_query = '''SELECT\n",
        "\tCOUNT(DISTINCT resource_id)\n",
        "\tFROM final.cart_items \n",
        "  \tWHERE resource_type = 'Course'\n",
        "    '''.format()\n",
        "\n",
        "    cursor.execute(create_table_query)\n",
        "    n_resource = cursor.fetchall() \n",
        "    connection.commit()\n",
        "    print(n_resource)\n",
        "\n",
        "except (Exception, psycopg2.DatabaseError) as error:\n",
        "    print(\"Error while creating PostgreSQL table\", error)\n",
        "finally:\n",
        "    if connection:\n",
        "        cursor.close()\n",
        "        connection.close()\n",
        "        print(\"PostgreSQL connection is closed\")"
      ]
    },
    {
      "cell_type": "markdown",
      "metadata": {
        "id": "Y88Uiim39kDi"
      },
      "source": [
        "**Опреленим среднее число купленных курсов на одного клиента.**"
      ]
    },
    {
      "cell_type": "code",
      "execution_count": null,
      "metadata": {
        "id": "v7SBSXT79kDj",
        "outputId": "ca59dc26-d463-4e8f-c656-092bc7c1ab9f"
      },
      "outputs": [
        {
          "name": "stdout",
          "output_type": "stream",
          "text": [
            "[(Decimal('1.4402522140146105'),)]\n",
            "PostgreSQL connection is closed\n"
          ]
        }
      ],
      "source": [
        "try:\n",
        "    connection = psycopg2.connect(\n",
        "        user=\"skillfactory\",\n",
        "        password=\"cCkxxLVrDE8EbvjueeMedPKt\",\n",
        "        host=\"84.201.134.129\",\n",
        "        port=\"5432\",\n",
        "        database=\"skillfactory\",\n",
        "    )\n",
        "    cursor = connection.cursor()\n",
        "\n",
        "    create_table_query = '''WITH select_clients AS\n",
        "    (\n",
        "\tSELECT\n",
        "\t\tDISTINCT user_id,\n",
        "\t\tCOUNT(resource_id) as cr\n",
        "\tFROM final.carts c\n",
        "  \tJOIN final.cart_items i on i.cart_id = c.id\n",
        "  \tWHERE state = 'successful'\n",
        "\tAND resource_type = 'Course'\n",
        "\tGROUP BY 1\n",
        ")\n",
        "\n",
        "SELECT \n",
        "\tAVG(cr)\n",
        "\tFROM select_clients\n",
        "    '''.format()\n",
        "\n",
        "    cursor.execute(create_table_query)\n",
        "    avg_resource = cursor.fetchall() \n",
        "    connection.commit()\n",
        "    print(avg_resource)\n",
        "\n",
        "except (Exception, psycopg2.DatabaseError) as error:\n",
        "    print(\"Error while creating PostgreSQL table\", error)\n",
        "finally:\n",
        "    if connection:\n",
        "        cursor.close()\n",
        "        connection.close()\n",
        "        print(\"PostgreSQL connection is closed\")"
      ]
    },
    {
      "cell_type": "markdown",
      "metadata": {
        "id": "incK-wsb9kDj"
      },
      "source": [
        "**Получим данные солько клиентов купили больше одного курса.**"
      ]
    },
    {
      "cell_type": "code",
      "execution_count": null,
      "metadata": {
        "id": "ksOZ_tWP9kDj",
        "outputId": "461bcf36-f30a-420d-c4f4-451716d80fca"
      },
      "outputs": [
        {
          "name": "stdout",
          "output_type": "stream",
          "text": [
            "[(12656,)]\n",
            "PostgreSQL connection is closed\n"
          ]
        }
      ],
      "source": [
        "try:\n",
        "    connection = psycopg2.connect(\n",
        "        user=\"skillfactory\",\n",
        "        password=\"cCkxxLVrDE8EbvjueeMedPKt\",\n",
        "        host=\"84.201.134.129\",\n",
        "        port=\"5432\",\n",
        "        database=\"skillfactory\",\n",
        "    )\n",
        "    cursor = connection.cursor()\n",
        "\n",
        "    create_table_query = '''WITH count_more_one AS \n",
        "(\n",
        "SELECT\n",
        "    user_id,\n",
        "    COUNT (DISTINCT resource_id) \n",
        "FROM final.carts c\n",
        "JOIN final.cart_items i on c.id=i.cart_id\n",
        "WHERE resource_type = 'Course' and state = 'successful'\n",
        "GROUP BY 1\n",
        "HAVING COUNT (distinct resource_id) > 1\n",
        ")\n",
        "\n",
        "SELECT\n",
        "    COUNT(user_id)\n",
        "FROM count_more_one\n",
        "    '''.format()\n",
        "\n",
        "    cursor.execute(create_table_query)\n",
        "    count1_resource = cursor.fetchall() \n",
        "    connection.commit()\n",
        "    print(count1_resource)\n",
        "\n",
        "except (Exception, psycopg2.DatabaseError) as error:\n",
        "    print(\"Error while creating PostgreSQL table\", error)\n",
        "finally:\n",
        "    if connection:\n",
        "        cursor.close()\n",
        "        connection.close()\n",
        "        print(\"PostgreSQL connection is closed\")"
      ]
    },
    {
      "cell_type": "markdown",
      "metadata": {
        "id": "D-Fdz2sz9kDk"
      },
      "source": [
        "**Выведем данные, сколько различных пар курсов встречаются вместе в покупках клиентов.**"
      ]
    },
    {
      "cell_type": "code",
      "execution_count": null,
      "metadata": {
        "id": "OUN6JyZp9kDk",
        "outputId": "c6f51865-16d3-4785-bc7c-d91e08b0871e"
      },
      "outputs": [
        {
          "name": "stdout",
          "output_type": "stream",
          "text": [
            "PostgreSQL connection is closed\n"
          ]
        }
      ],
      "source": [
        "try:\n",
        "    connection = psycopg2.connect(\n",
        "        user=\"skillfactory\",\n",
        "        password=\"cCkxxLVrDE8EbvjueeMedPKt\",\n",
        "        host=\"84.201.134.129\",\n",
        "        port=\"5432\",\n",
        "        database=\"skillfactory\",\n",
        "    )\n",
        "    cursor = connection.cursor()\n",
        "\n",
        "    create_table_query = '''WITH interested_clients AS\n",
        "    (\n",
        "    SELECT user_id,\n",
        "    COUNT (DISTINCT resource_id) AS quantity\n",
        "    FROM final.carts c\n",
        "    JOIN final.cart_items i ON i.cart_id = c.id\n",
        "    WHERE state = 'successful'\n",
        "    AND resource_type = 'Course'\n",
        "    GROUP BY 1\n",
        "    HAVING COUNT (DISTINCT resource_id) > 1\n",
        "    )\n",
        "    SELECT DISTINCT c.user_id, \n",
        "    resource_id\n",
        "    FROM final.carts c\n",
        "    JOIN final.cart_items i ON i.cart_id = c.id\n",
        "    JOIN interested_clients ic ON ic.user_id = c.user_id\n",
        "    WHERE state = 'successful'\n",
        "    AND resource_type = 'Course'\n",
        "    ORDER BY 1\n",
        "    '''.format()\n",
        "\n",
        "    cursor.execute(create_table_query)\n",
        "    mobile_table = cursor.fetchall() \n",
        "    connection.commit()\n",
        "    \n",
        "\n",
        "except (Exception, psycopg2.DatabaseError) as error:\n",
        "    print(\"Error while creating PostgreSQL table\", error)\n",
        "finally:\n",
        "    if connection:\n",
        "        cursor.close()\n",
        "        connection.close()\n",
        "        print(\"PostgreSQL connection is closed\")"
      ]
    },
    {
      "cell_type": "code",
      "execution_count": null,
      "metadata": {
        "id": "fHTYoXqS9kDk",
        "outputId": "192c8f97-ffce-4ad4-bdf5-c0aaef5dcdce"
      },
      "outputs": [
        {
          "data": {
            "text/html": [
              "<div>\n",
              "<style scoped>\n",
              "    .dataframe tbody tr th:only-of-type {\n",
              "        vertical-align: middle;\n",
              "    }\n",
              "\n",
              "    .dataframe tbody tr th {\n",
              "        vertical-align: top;\n",
              "    }\n",
              "\n",
              "    .dataframe thead th {\n",
              "        text-align: right;\n",
              "    }\n",
              "</style>\n",
              "<table border=\"1\" class=\"dataframe\">\n",
              "  <thead>\n",
              "    <tr style=\"text-align: right;\">\n",
              "      <th></th>\n",
              "      <th>0</th>\n",
              "      <th>1</th>\n",
              "    </tr>\n",
              "  </thead>\n",
              "  <tbody>\n",
              "    <tr>\n",
              "      <th>0</th>\n",
              "      <td>51</td>\n",
              "      <td>516</td>\n",
              "    </tr>\n",
              "    <tr>\n",
              "      <th>1</th>\n",
              "      <td>51</td>\n",
              "      <td>1099</td>\n",
              "    </tr>\n",
              "    <tr>\n",
              "      <th>2</th>\n",
              "      <td>6117</td>\n",
              "      <td>356</td>\n",
              "    </tr>\n",
              "    <tr>\n",
              "      <th>3</th>\n",
              "      <td>6117</td>\n",
              "      <td>357</td>\n",
              "    </tr>\n",
              "    <tr>\n",
              "      <th>4</th>\n",
              "      <td>6117</td>\n",
              "      <td>1125</td>\n",
              "    </tr>\n",
              "    <tr>\n",
              "      <th>...</th>\n",
              "      <td>...</td>\n",
              "      <td>...</td>\n",
              "    </tr>\n",
              "    <tr>\n",
              "      <th>34069</th>\n",
              "      <td>2188926</td>\n",
              "      <td>515</td>\n",
              "    </tr>\n",
              "    <tr>\n",
              "      <th>34070</th>\n",
              "      <td>2188926</td>\n",
              "      <td>743</td>\n",
              "    </tr>\n",
              "    <tr>\n",
              "      <th>34071</th>\n",
              "      <td>2190141</td>\n",
              "      <td>756</td>\n",
              "    </tr>\n",
              "    <tr>\n",
              "      <th>34072</th>\n",
              "      <td>2190141</td>\n",
              "      <td>794</td>\n",
              "    </tr>\n",
              "    <tr>\n",
              "      <th>34073</th>\n",
              "      <td>2190141</td>\n",
              "      <td>1185</td>\n",
              "    </tr>\n",
              "  </tbody>\n",
              "</table>\n",
              "<p>34074 rows × 2 columns</p>\n",
              "</div>"
            ],
            "text/plain": [
              "             0     1\n",
              "0           51   516\n",
              "1           51  1099\n",
              "2         6117   356\n",
              "3         6117   357\n",
              "4         6117  1125\n",
              "...        ...   ...\n",
              "34069  2188926   515\n",
              "34070  2188926   743\n",
              "34071  2190141   756\n",
              "34072  2190141   794\n",
              "34073  2190141  1185\n",
              "\n",
              "[34074 rows x 2 columns]"
            ]
          },
          "execution_count": 9,
          "metadata": {},
          "output_type": "execute_result"
        }
      ],
      "source": [
        "# Далее преобразую список кортежей в датафрейм.\n",
        "select_clients_df = pd.DataFrame(mobile_table)\n",
        "select_clients_df"
      ]
    },
    {
      "cell_type": "code",
      "execution_count": null,
      "metadata": {
        "id": "HOhBVREX9kDk",
        "outputId": "ccdf9059-f230-4715-ba35-e6dc85c92da0"
      },
      "outputs": [
        {
          "data": {
            "text/html": [
              "<div>\n",
              "<style scoped>\n",
              "    .dataframe tbody tr th:only-of-type {\n",
              "        vertical-align: middle;\n",
              "    }\n",
              "\n",
              "    .dataframe tbody tr th {\n",
              "        vertical-align: top;\n",
              "    }\n",
              "\n",
              "    .dataframe thead th {\n",
              "        text-align: right;\n",
              "    }\n",
              "</style>\n",
              "<table border=\"1\" class=\"dataframe\">\n",
              "  <thead>\n",
              "    <tr style=\"text-align: right;\">\n",
              "      <th></th>\n",
              "      <th>user_id</th>\n",
              "      <th>resource_id</th>\n",
              "    </tr>\n",
              "  </thead>\n",
              "  <tbody>\n",
              "    <tr>\n",
              "      <th>0</th>\n",
              "      <td>51</td>\n",
              "      <td>516</td>\n",
              "    </tr>\n",
              "    <tr>\n",
              "      <th>1</th>\n",
              "      <td>51</td>\n",
              "      <td>1099</td>\n",
              "    </tr>\n",
              "    <tr>\n",
              "      <th>2</th>\n",
              "      <td>6117</td>\n",
              "      <td>356</td>\n",
              "    </tr>\n",
              "    <tr>\n",
              "      <th>3</th>\n",
              "      <td>6117</td>\n",
              "      <td>357</td>\n",
              "    </tr>\n",
              "    <tr>\n",
              "      <th>4</th>\n",
              "      <td>6117</td>\n",
              "      <td>1125</td>\n",
              "    </tr>\n",
              "    <tr>\n",
              "      <th>...</th>\n",
              "      <td>...</td>\n",
              "      <td>...</td>\n",
              "    </tr>\n",
              "    <tr>\n",
              "      <th>34069</th>\n",
              "      <td>2188926</td>\n",
              "      <td>515</td>\n",
              "    </tr>\n",
              "    <tr>\n",
              "      <th>34070</th>\n",
              "      <td>2188926</td>\n",
              "      <td>743</td>\n",
              "    </tr>\n",
              "    <tr>\n",
              "      <th>34071</th>\n",
              "      <td>2190141</td>\n",
              "      <td>756</td>\n",
              "    </tr>\n",
              "    <tr>\n",
              "      <th>34072</th>\n",
              "      <td>2190141</td>\n",
              "      <td>794</td>\n",
              "    </tr>\n",
              "    <tr>\n",
              "      <th>34073</th>\n",
              "      <td>2190141</td>\n",
              "      <td>1185</td>\n",
              "    </tr>\n",
              "  </tbody>\n",
              "</table>\n",
              "<p>34074 rows × 2 columns</p>\n",
              "</div>"
            ],
            "text/plain": [
              "       user_id  resource_id\n",
              "0           51          516\n",
              "1           51         1099\n",
              "2         6117          356\n",
              "3         6117          357\n",
              "4         6117         1125\n",
              "...        ...          ...\n",
              "34069  2188926          515\n",
              "34070  2188926          743\n",
              "34071  2190141          756\n",
              "34072  2190141          794\n",
              "34073  2190141         1185\n",
              "\n",
              "[34074 rows x 2 columns]"
            ]
          },
          "execution_count": 10,
          "metadata": {},
          "output_type": "execute_result"
        }
      ],
      "source": [
        "# Необходимо ввести название колонок, для последующего обращения к данным из этих колонок.\n",
        "select_clients_df.columns =['user_id', 'resource_id'] \n",
        "select_clients_df"
      ]
    },
    {
      "cell_type": "code",
      "execution_count": null,
      "metadata": {
        "id": "RSGXoLgm9kDl",
        "outputId": "d2f06066-d10b-4984-8fc9-f7c6763a8924"
      },
      "outputs": [
        {
          "data": {
            "text/html": [
              "<div>\n",
              "<style scoped>\n",
              "    .dataframe tbody tr th:only-of-type {\n",
              "        vertical-align: middle;\n",
              "    }\n",
              "\n",
              "    .dataframe tbody tr th {\n",
              "        vertical-align: top;\n",
              "    }\n",
              "\n",
              "    .dataframe thead th {\n",
              "        text-align: right;\n",
              "    }\n",
              "</style>\n",
              "<table border=\"1\" class=\"dataframe\">\n",
              "  <thead>\n",
              "    <tr style=\"text-align: right;\">\n",
              "      <th></th>\n",
              "      <th>user_id</th>\n",
              "      <th>resource_id</th>\n",
              "    </tr>\n",
              "  </thead>\n",
              "  <tbody>\n",
              "    <tr>\n",
              "      <th>0</th>\n",
              "      <td>51</td>\n",
              "      <td>[516, 1099]</td>\n",
              "    </tr>\n",
              "    <tr>\n",
              "      <th>1</th>\n",
              "      <td>6117</td>\n",
              "      <td>[356, 357, 1125]</td>\n",
              "    </tr>\n",
              "    <tr>\n",
              "      <th>2</th>\n",
              "      <td>10275</td>\n",
              "      <td>[553, 1147]</td>\n",
              "    </tr>\n",
              "    <tr>\n",
              "      <th>3</th>\n",
              "      <td>10457</td>\n",
              "      <td>[361, 1138]</td>\n",
              "    </tr>\n",
              "    <tr>\n",
              "      <th>4</th>\n",
              "      <td>17166</td>\n",
              "      <td>[356, 357]</td>\n",
              "    </tr>\n",
              "    <tr>\n",
              "      <th>...</th>\n",
              "      <td>...</td>\n",
              "      <td>...</td>\n",
              "    </tr>\n",
              "    <tr>\n",
              "      <th>12651</th>\n",
              "      <td>2179430</td>\n",
              "      <td>[566, 750]</td>\n",
              "    </tr>\n",
              "    <tr>\n",
              "      <th>12652</th>\n",
              "      <td>2186581</td>\n",
              "      <td>[794, 864, 1129]</td>\n",
              "    </tr>\n",
              "    <tr>\n",
              "      <th>12653</th>\n",
              "      <td>2187601</td>\n",
              "      <td>[356, 553, 571, 765, 912]</td>\n",
              "    </tr>\n",
              "    <tr>\n",
              "      <th>12654</th>\n",
              "      <td>2188926</td>\n",
              "      <td>[515, 743]</td>\n",
              "    </tr>\n",
              "    <tr>\n",
              "      <th>12655</th>\n",
              "      <td>2190141</td>\n",
              "      <td>[756, 794, 1185]</td>\n",
              "    </tr>\n",
              "  </tbody>\n",
              "</table>\n",
              "<p>12656 rows × 2 columns</p>\n",
              "</div>"
            ],
            "text/plain": [
              "       user_id                resource_id\n",
              "0           51                [516, 1099]\n",
              "1         6117           [356, 357, 1125]\n",
              "2        10275                [553, 1147]\n",
              "3        10457                [361, 1138]\n",
              "4        17166                 [356, 357]\n",
              "...        ...                        ...\n",
              "12651  2179430                 [566, 750]\n",
              "12652  2186581           [794, 864, 1129]\n",
              "12653  2187601  [356, 553, 571, 765, 912]\n",
              "12654  2188926                 [515, 743]\n",
              "12655  2190141           [756, 794, 1185]\n",
              "\n",
              "[12656 rows x 2 columns]"
            ]
          },
          "execution_count": 11,
          "metadata": {},
          "output_type": "execute_result"
        }
      ],
      "source": [
        "# Выполняю группировку данных по user_id.\n",
        "df_course = select_clients_df.groupby('user_id')['resource_id'].unique().reset_index()\n",
        "df_course"
      ]
    },
    {
      "cell_type": "code",
      "execution_count": null,
      "metadata": {
        "id": "67J4TQIw9kDl",
        "outputId": "883feb83-22c5-4fb5-fe90-6998aea715cd"
      },
      "outputs": [
        {
          "data": {
            "text/html": [
              "<div>\n",
              "<style scoped>\n",
              "    .dataframe tbody tr th:only-of-type {\n",
              "        vertical-align: middle;\n",
              "    }\n",
              "\n",
              "    .dataframe tbody tr th {\n",
              "        vertical-align: top;\n",
              "    }\n",
              "\n",
              "    .dataframe thead th {\n",
              "        text-align: right;\n",
              "    }\n",
              "</style>\n",
              "<table border=\"1\" class=\"dataframe\">\n",
              "  <thead>\n",
              "    <tr style=\"text-align: right;\">\n",
              "      <th></th>\n",
              "      <th>user_id</th>\n",
              "      <th>resource_id</th>\n",
              "      <th>combinations</th>\n",
              "    </tr>\n",
              "  </thead>\n",
              "  <tbody>\n",
              "    <tr>\n",
              "      <th>0</th>\n",
              "      <td>51</td>\n",
              "      <td>[516, 1099]</td>\n",
              "      <td>[(516, 1099)]</td>\n",
              "    </tr>\n",
              "    <tr>\n",
              "      <th>1</th>\n",
              "      <td>6117</td>\n",
              "      <td>[356, 357, 1125]</td>\n",
              "      <td>[(356, 357), (356, 1125), (357, 1125)]</td>\n",
              "    </tr>\n",
              "    <tr>\n",
              "      <th>2</th>\n",
              "      <td>10275</td>\n",
              "      <td>[553, 1147]</td>\n",
              "      <td>[(553, 1147)]</td>\n",
              "    </tr>\n",
              "    <tr>\n",
              "      <th>3</th>\n",
              "      <td>10457</td>\n",
              "      <td>[361, 1138]</td>\n",
              "      <td>[(361, 1138)]</td>\n",
              "    </tr>\n",
              "    <tr>\n",
              "      <th>4</th>\n",
              "      <td>17166</td>\n",
              "      <td>[356, 357]</td>\n",
              "      <td>[(356, 357)]</td>\n",
              "    </tr>\n",
              "    <tr>\n",
              "      <th>...</th>\n",
              "      <td>...</td>\n",
              "      <td>...</td>\n",
              "      <td>...</td>\n",
              "    </tr>\n",
              "    <tr>\n",
              "      <th>12651</th>\n",
              "      <td>2179430</td>\n",
              "      <td>[566, 750]</td>\n",
              "      <td>[(566, 750)]</td>\n",
              "    </tr>\n",
              "    <tr>\n",
              "      <th>12652</th>\n",
              "      <td>2186581</td>\n",
              "      <td>[794, 864, 1129]</td>\n",
              "      <td>[(794, 864), (794, 1129), (864, 1129)]</td>\n",
              "    </tr>\n",
              "    <tr>\n",
              "      <th>12653</th>\n",
              "      <td>2187601</td>\n",
              "      <td>[356, 553, 571, 765, 912]</td>\n",
              "      <td>[(356, 553), (356, 571), (356, 765), (356, 912...</td>\n",
              "    </tr>\n",
              "    <tr>\n",
              "      <th>12654</th>\n",
              "      <td>2188926</td>\n",
              "      <td>[515, 743]</td>\n",
              "      <td>[(515, 743)]</td>\n",
              "    </tr>\n",
              "    <tr>\n",
              "      <th>12655</th>\n",
              "      <td>2190141</td>\n",
              "      <td>[756, 794, 1185]</td>\n",
              "      <td>[(756, 794), (756, 1185), (794, 1185)]</td>\n",
              "    </tr>\n",
              "  </tbody>\n",
              "</table>\n",
              "<p>12656 rows × 3 columns</p>\n",
              "</div>"
            ],
            "text/plain": [
              "       user_id                resource_id  \\\n",
              "0           51                [516, 1099]   \n",
              "1         6117           [356, 357, 1125]   \n",
              "2        10275                [553, 1147]   \n",
              "3        10457                [361, 1138]   \n",
              "4        17166                 [356, 357]   \n",
              "...        ...                        ...   \n",
              "12651  2179430                 [566, 750]   \n",
              "12652  2186581           [794, 864, 1129]   \n",
              "12653  2187601  [356, 553, 571, 765, 912]   \n",
              "12654  2188926                 [515, 743]   \n",
              "12655  2190141           [756, 794, 1185]   \n",
              "\n",
              "                                            combinations  \n",
              "0                                          [(516, 1099)]  \n",
              "1                 [(356, 357), (356, 1125), (357, 1125)]  \n",
              "2                                          [(553, 1147)]  \n",
              "3                                          [(361, 1138)]  \n",
              "4                                           [(356, 357)]  \n",
              "...                                                  ...  \n",
              "12651                                       [(566, 750)]  \n",
              "12652             [(794, 864), (794, 1129), (864, 1129)]  \n",
              "12653  [(356, 553), (356, 571), (356, 765), (356, 912...  \n",
              "12654                                       [(515, 743)]  \n",
              "12655             [(756, 794), (756, 1185), (794, 1185)]  \n",
              "\n",
              "[12656 rows x 3 columns]"
            ]
          },
          "execution_count": 12,
          "metadata": {},
          "output_type": "execute_result"
        }
      ],
      "source": [
        "# Применяю функцию combinations() модуля itertools, которая возвращает итератор со всеми возможными комбинациями элементов входной последовательности iterable. \n",
        "# Каждая комбинация заключена в кортеж с длинной r элементов, в которой нет повторяющихся элементов. \n",
        "from itertools import combinations\n",
        "df_course['combinations'] = df_course['resource_id'].apply(lambda r: list(combinations(r, 2)))\n",
        "df_course"
      ]
    },
    {
      "cell_type": "code",
      "execution_count": null,
      "metadata": {
        "id": "1NK13XpA9kDl",
        "outputId": "0396f1cb-0fdb-44b7-8a49-87f6fa380eaf"
      },
      "outputs": [
        {
          "name": "stdout",
          "output_type": "stream",
          "text": [
            "Количество  различных пар курсов встречающихся вместе в покупках клиентов: 3989\n"
          ]
        }
      ],
      "source": [
        "# Использую цикл для перебора значений колонки combinations построчно и значений в строках. \n",
        "lst = []\n",
        "for i in df_course['combinations']:\n",
        "    for j in i:\n",
        "        if j not in lst:\n",
        "            lst.append(j)\n",
        "            \n",
        "print(f'Количество  различных пар курсов встречающихся вместе в покупках клиентов: {len(lst)}')"
      ]
    },
    {
      "cell_type": "markdown",
      "metadata": {
        "id": "d5zhGPA19kDm"
      },
      "source": [
        "**Найдём самую популярную пару курсов.**"
      ]
    },
    {
      "cell_type": "code",
      "execution_count": null,
      "metadata": {
        "id": "wGDmU1Ys9kDm"
      },
      "outputs": [],
      "source": [
        "#56.3.7\n",
        "# Перевожу колонку данных combinations в list.\n",
        "pairs_course = df_course['combinations'].tolist()"
      ]
    },
    {
      "cell_type": "code",
      "execution_count": null,
      "metadata": {
        "id": "UWr4QUJa9kDm"
      },
      "outputs": [],
      "source": [
        "# C помощью itertools.Counter() преобразуем данные в словарь, где номера курсов будут ключами итогового словаря, а значениями количество покупок.\n",
        "from collections import Counter\n",
        "from itertools import chain\n",
        "res_dict = Counter(chain(*pairs_course))\n",
        "#print(f'Количество кортежей, присутствующих в списке пар курсов:\\n{res_dict}') "
      ]
    },
    {
      "cell_type": "code",
      "execution_count": null,
      "metadata": {
        "id": "sS8vQl389kDm",
        "outputId": "0bd38cdb-3ab4-4faa-f351-c738e965fe9a"
      },
      "outputs": [
        {
          "name": "stdout",
          "output_type": "stream",
          "text": [
            "Две пары курсов с лучшим рейтингом: [((551, 566), 797), ((515, 551), 417)]\n"
          ]
        }
      ],
      "source": [
        "sorted_dictionary = sorted(res_dict.items(), key=lambda x: -x[1])\n",
        "best_pairs = []\n",
        "for i in sorted_dictionary:\n",
        "    if i == sorted_dictionary[0]:\n",
        "        best_pairs.append(i)\n",
        "    elif i == sorted_dictionary[1]:\n",
        "        best_pairs.append(i)\n",
        "        break\n",
        "print(f'Две пары курсов с лучшим рейтингом: {best_pairs}')"
      ]
    },
    {
      "cell_type": "markdown",
      "metadata": {
        "id": "xHVByCXz9kDm"
      },
      "source": [
        "<span style=\"color:red\">**В Ы В О Д Ы**<span> <span style=\"color:#000000\">по формализованны задачам 1-2:<span>\n",
        "<blockquote>\n",
        "<p>- Всего 49000 клиентов покупали курсы<br>\n",
        "- В он-лайн школе всего 127 различных курсов.<br>\n",
        "- Среднее число купленных курсов на одного клиента: 1.44<br>\n",
        "- 12656 клиентов купили больше одного курса.<br>\n",
        "- Всего в покупках клиентов встречаются вместе 3989 различных пар курсов.<br>\n",
        "- Самая популярная пара курсов с ID: 551, 566\n",
        "</p>"
      ]
    },
    {
      "cell_type": "markdown",
      "metadata": {
        "id": "HNbPtCYj9kDn"
      },
      "source": [
        "<div id=\"header\" align=\"center\"><h1><span style=\"color:#8B0000\">Определение минимальной границы</span></h1></p>какое количество раз считать слишком малым</div>\n"
      ]
    },
    {
      "cell_type": "markdown",
      "metadata": {
        "id": "xH3dFMBA9kDn"
      },
      "source": [
        "<span style=\"color:#8B0000\">**Ш А Г 1**</span><br>\n",
        "Для получения общих статичтических данных создадим датафрейм и выведем общие статистические данные по count с помощью describe()."
      ]
    },
    {
      "cell_type": "code",
      "execution_count": null,
      "metadata": {
        "id": "1dGMPbb19kDn",
        "outputId": "ccb625e7-9715-4853-cf09-e61c791b61d8"
      },
      "outputs": [
        {
          "data": {
            "text/html": [
              "<div>\n",
              "<style scoped>\n",
              "    .dataframe tbody tr th:only-of-type {\n",
              "        vertical-align: middle;\n",
              "    }\n",
              "\n",
              "    .dataframe tbody tr th {\n",
              "        vertical-align: top;\n",
              "    }\n",
              "\n",
              "    .dataframe thead th {\n",
              "        text-align: right;\n",
              "    }\n",
              "</style>\n",
              "<table border=\"1\" class=\"dataframe\">\n",
              "  <thead>\n",
              "    <tr style=\"text-align: right;\">\n",
              "      <th></th>\n",
              "      <th>count</th>\n",
              "    </tr>\n",
              "  </thead>\n",
              "  <tbody>\n",
              "    <tr>\n",
              "      <th>count</th>\n",
              "      <td>3989.000000</td>\n",
              "    </tr>\n",
              "    <tr>\n",
              "      <th>mean</th>\n",
              "      <td>10.031838</td>\n",
              "    </tr>\n",
              "    <tr>\n",
              "      <th>std</th>\n",
              "      <td>26.355998</td>\n",
              "    </tr>\n",
              "    <tr>\n",
              "      <th>min</th>\n",
              "      <td>1.000000</td>\n",
              "    </tr>\n",
              "    <tr>\n",
              "      <th>25%</th>\n",
              "      <td>1.000000</td>\n",
              "    </tr>\n",
              "    <tr>\n",
              "      <th>50%</th>\n",
              "      <td>3.000000</td>\n",
              "    </tr>\n",
              "    <tr>\n",
              "      <th>75%</th>\n",
              "      <td>9.000000</td>\n",
              "    </tr>\n",
              "    <tr>\n",
              "      <th>max</th>\n",
              "      <td>797.000000</td>\n",
              "    </tr>\n",
              "  </tbody>\n",
              "</table>\n",
              "</div>"
            ],
            "text/plain": [
              "             count\n",
              "count  3989.000000\n",
              "mean     10.031838\n",
              "std      26.355998\n",
              "min       1.000000\n",
              "25%       1.000000\n",
              "50%       3.000000\n",
              "75%       9.000000\n",
              "max     797.000000"
            ]
          },
          "execution_count": 17,
          "metadata": {},
          "output_type": "execute_result"
        }
      ],
      "source": [
        "df_course_pairs = pd.DataFrame.from_dict(sorted_dictionary)\n",
        "df_course_pairs.columns =['course_pairs', 'count']\n",
        "df_course_pairs.describe()"
      ]
    },
    {
      "cell_type": "markdown",
      "metadata": {
        "id": "BdlKM38T9kDn"
      },
      "source": [
        "<blockquote><p>Из полученных данных видно, что значения по count в интервале 1-3 составляют половину таблицы, при этом min=Q(25).</p>"
      ]
    },
    {
      "cell_type": "markdown",
      "metadata": {
        "id": "7edoDoVq9kDn"
      },
      "source": [
        "<span style=\"color:#8B0000\">**Ш А Г 2**</span><br>\n",
        "Выведем датафрейм с фильтром по count>3 и вновь посмотрим на статистические данные по count."
      ]
    },
    {
      "cell_type": "code",
      "execution_count": null,
      "metadata": {
        "id": "v-8la71M9kDo",
        "outputId": "95d92b6c-2eb8-4ade-ab33-f8fcede85a9d"
      },
      "outputs": [
        {
          "data": {
            "text/html": [
              "<div>\n",
              "<style scoped>\n",
              "    .dataframe tbody tr th:only-of-type {\n",
              "        vertical-align: middle;\n",
              "    }\n",
              "\n",
              "    .dataframe tbody tr th {\n",
              "        vertical-align: top;\n",
              "    }\n",
              "\n",
              "    .dataframe thead th {\n",
              "        text-align: right;\n",
              "    }\n",
              "</style>\n",
              "<table border=\"1\" class=\"dataframe\">\n",
              "  <thead>\n",
              "    <tr style=\"text-align: right;\">\n",
              "      <th></th>\n",
              "      <th>count</th>\n",
              "    </tr>\n",
              "  </thead>\n",
              "  <tbody>\n",
              "    <tr>\n",
              "      <th>count</th>\n",
              "      <td>1860.000000</td>\n",
              "    </tr>\n",
              "    <tr>\n",
              "      <th>mean</th>\n",
              "      <td>19.665591</td>\n",
              "    </tr>\n",
              "    <tr>\n",
              "      <th>std</th>\n",
              "      <td>36.270041</td>\n",
              "    </tr>\n",
              "    <tr>\n",
              "      <th>min</th>\n",
              "      <td>4.000000</td>\n",
              "    </tr>\n",
              "    <tr>\n",
              "      <th>25%</th>\n",
              "      <td>6.000000</td>\n",
              "    </tr>\n",
              "    <tr>\n",
              "      <th>50%</th>\n",
              "      <td>9.000000</td>\n",
              "    </tr>\n",
              "    <tr>\n",
              "      <th>75%</th>\n",
              "      <td>19.000000</td>\n",
              "    </tr>\n",
              "    <tr>\n",
              "      <th>max</th>\n",
              "      <td>797.000000</td>\n",
              "    </tr>\n",
              "  </tbody>\n",
              "</table>\n",
              "</div>"
            ],
            "text/plain": [
              "             count\n",
              "count  1860.000000\n",
              "mean     19.665591\n",
              "std      36.270041\n",
              "min       4.000000\n",
              "25%       6.000000\n",
              "50%       9.000000\n",
              "75%      19.000000\n",
              "max     797.000000"
            ]
          },
          "execution_count": 18,
          "metadata": {},
          "output_type": "execute_result"
        }
      ],
      "source": [
        "df1_course_pairs = df_course_pairs.loc[df_course_pairs['count'] > 3]\n",
        "df1_course_pairs.describe()"
      ]
    },
    {
      "cell_type": "markdown",
      "metadata": {
        "id": "DQN8WDJR9kDo"
      },
      "source": [
        "\n",
        "<span style=\"color:red\">**В Ы В О Д**<span>\n",
        "<blockquote><p>На основе полученных статистических данных датафрейма считаю возможным установить минимальную границу по значению параметра count =6.</p>"
      ]
    },
    {
      "cell_type": "markdown",
      "metadata": {
        "id": "C1vpu9zh9kDo"
      },
      "source": [
        "<div id=\"header\" align=\"center\"><h1><span style=\"color:#4682B4\">Создание итоговой таблицы</span></h1>\n",
        "\n",
        "решение формализованной задачи 3</p>\n",
        "\n"
      ]
    },
    {
      "cell_type": "markdown",
      "metadata": {
        "id": "JXX9yOnN9kDo"
      },
      "source": [
        "<span style=\"color:#4682B4\">**Ш А Г 1**</span><br>\n",
        "Получение списка id, к которым будут предложены рекомендации."
      ]
    },
    {
      "cell_type": "markdown",
      "metadata": {
        "id": "OJx4BNcQ9kDo"
      },
      "source": [
        "Сначала получим список всех id курсов из словаря res_dict, выведенного ранее."
      ]
    },
    {
      "cell_type": "code",
      "execution_count": null,
      "metadata": {
        "id": "Sk5m8_sH9kDp"
      },
      "outputs": [],
      "source": [
        "#print(res_dict)"
      ]
    },
    {
      "cell_type": "code",
      "execution_count": null,
      "metadata": {
        "id": "EPK1BYNx9kDp",
        "outputId": "c8ef38cc-0639-46d4-b2bc-af1427bb5caf"
      },
      "outputs": [
        {
          "name": "stdout",
          "output_type": "stream",
          "text": [
            "Всего курсов: 126\n",
            "id всех курсов:\n",
            "[513, 514, 515, 516, 517, 518, 519, 523, 551, 552, 553, 562, 563, 564, 566, 568, 569, 570, 571, 572, 1099, 1100, 1101, 1102, 1103, 1104, 1115, 1116, 1124, 1125, 1128, 1129, 1138, 1139, 1140, 1141, 1144, 1145, 1146, 1147, 1152, 1156, 1160, 1161, 659, 664, 1181, 670, 671, 672, 1185, 1186, 1187, 1184, 1188, 1182, 679, 1198, 1199, 1200, 1201, 741, 742, 743, 744, 745, 749, 750, 752, 753, 755, 756, 757, 764, 765, 776, 777, 791, 794, 800, 803, 809, 810, 813, 814, 829, 830, 833, 834, 835, 836, 837, 840, 862, 863, 864, 865, 866, 356, 357, 358, 359, 360, 361, 362, 363, 364, 365, 366, 367, 368, 902, 907, 908, 909, 911, 912, 489, 490, 502, 503, 504, 507, 508, 509, 511]\n"
          ]
        }
      ],
      "source": [
        "# Использую предыдущий цикл, только применяя ко всему словарю.\n",
        "all_course = []\n",
        "for i in res_dict.items():\n",
        "    if i[1] >= 1:                    # Отсекаю из словаря пары курсов, которые ниже минимально установленного количества.\n",
        "       all_course.append(i[0][0])   # Перебираю id в кортежах пар курсов словаря и добавляю в список заданный список.\n",
        "       all_course.append(i[0][1])\n",
        "all_course = list(set(all_course))  # C помощью set() убираю дубликаты\n",
        "print(f'Всего курсов: {len(all_course)}')\n",
        "print(f'id всех курсов:\\n{all_course}')"
      ]
    },
    {
      "cell_type": "markdown",
      "metadata": {
        "id": "95NBuxG09kDp"
      },
      "source": [
        "Следующим шагом необходимо получить список курсов - рейтинг курсов из пар курсов, отфильтрованных по условию: count > 6. "
      ]
    },
    {
      "cell_type": "code",
      "execution_count": null,
      "metadata": {
        "id": "6rpTXXon9kDp",
        "outputId": "ea387582-237e-42b0-9b02-2a73ad5feec5"
      },
      "outputs": [
        {
          "name": "stdout",
          "output_type": "stream",
          "text": [
            "Всего курсов в списке рейтинга: 110\n",
            "Рейтинг id курсов:\n",
            "[513, 514, 515, 516, 517, 518, 519, 523, 551, 552, 553, 562, 563, 564, 566, 568, 569, 570, 571, 572, 1099, 1100, 1101, 1102, 1103, 1104, 1115, 1116, 1124, 1125, 1128, 1129, 1138, 1139, 1140, 1141, 1144, 1145, 1146, 1147, 1152, 1156, 1161, 659, 664, 1181, 670, 671, 672, 1185, 1186, 1187, 1184, 1188, 679, 741, 742, 743, 744, 745, 749, 750, 752, 753, 755, 756, 757, 764, 765, 776, 777, 791, 794, 800, 803, 809, 810, 813, 814, 829, 835, 840, 862, 863, 864, 865, 356, 357, 358, 359, 360, 361, 362, 363, 366, 367, 368, 907, 908, 909, 912, 489, 490, 502, 503, 504, 507, 508, 509, 511]\n"
          ]
        }
      ],
      "source": [
        "lst_course = []\n",
        "for i in res_dict.items():\n",
        "    if i[1] > 6:                    # Отсекаю из словаря пары курсов, которые ниже минимально установленного количества.\n",
        "       lst_course.append(i[0][0])   # Перебираю id в кортежах пар курсов словаря и добавляю в заданный список.\n",
        "       lst_course.append(i[0][1])\n",
        "lst_course = list(set(lst_course))  # Очищаю список от дубликатов\n",
        "print(f'Всего курсов в списке рейтинга: {len(lst_course)}')\n",
        "print(f'Рейтинг id курсов:\\n{lst_course}')"
      ]
    },
    {
      "cell_type": "markdown",
      "metadata": {
        "id": "4gEQGjsp9kDp"
      },
      "source": [
        "<span style=\"color:#4682B4\">**Ш А Г 2**</span><br>\n",
        "Получение списка id, 1-ой и 2-й рекомендации."
      ]
    },
    {
      "cell_type": "code",
      "execution_count": null,
      "metadata": {
        "id": "v5Ye8KGW9kDp"
      },
      "outputs": [],
      "source": [
        "import random"
      ]
    },
    {
      "cell_type": "code",
      "execution_count": null,
      "metadata": {
        "id": "7Fayjr4B9kDq",
        "outputId": "0493ea44-d44b-41f7-f7bb-dafa63962b93"
      },
      "outputs": [
        {
          "data": {
            "text/plain": [
              "[((551, 566), 797), ((515, 551), 417)]"
            ]
          },
          "execution_count": 23,
          "metadata": {},
          "output_type": "execute_result"
        }
      ],
      "source": [
        "# Создаём функцию, которая образует пары из смежных курсов и рейтинга.\n",
        "def rec(id):\n",
        "\trec_lst = []\n",
        "\tfor i in res_dict.keys():\n",
        "\t\tif i[0] == id:\n",
        "\t\t\trec_lst.append((i, res_dict[i]))\n",
        "\t\telif i[1] == id:\n",
        "\t\t\trec_lst.append((i, res_dict[i]))\n",
        "\trec_lst_s = sorted(rec_lst, key=lambda x:x[1], reverse = True) # Сортировка пары по рейтингу\n",
        "\treturn rec_lst_s[:2]\n",
        "rec(551)"
      ]
    },
    {
      "cell_type": "code",
      "execution_count": null,
      "metadata": {
        "id": "Jcha9RUa9kDq",
        "outputId": "cce038bd-39a5-4ac1-98ba-daa5075d1c24"
      },
      "outputs": [
        {
          "data": {
            "text/plain": [
              "[(513, 503, 551),\n",
              " (514, 551, 515),\n",
              " (515, 551, 489),\n",
              " (516, 745, 553),\n",
              " (517, 551, 750),\n",
              " (518, 551, 490),\n",
              " (519, 551, 523),\n",
              " (523, 551, 515),\n",
              " (551, 566, 515),\n",
              " (552, 551, 523)]"
            ]
          },
          "execution_count": 24,
          "metadata": {},
          "output_type": "execute_result"
        }
      ],
      "source": [
        "# Подадём на вход функции id курсов списка all_course.\n",
        "import random\n",
        "rec_lst_fin = []\n",
        "for i in all_course:\n",
        "\tif len(rec(i)) == 2:\n",
        "\t\trec_lst_fin.append((i, (set(rec(i)[0][0]) - set([i])).pop(), (set(rec(i)[1][0]) - set([i])).pop()))\n",
        "\telif len(rec(i)) == 1:\n",
        "\t\trec_lst_fin.append((i, (set(rec(i)[0][0]) - set([i])).pop(), random.choice(lst_course))) # Добавляю курсы из рейтинга.\n",
        "rec_lst_fin[:10]"
      ]
    },
    {
      "cell_type": "markdown",
      "metadata": {
        "id": "uOnXigZi9kDq"
      },
      "source": [
        "<span style=\"color:#4682B4\">**Ш А Г 3**</span><br>\n",
        "Создание финальной таблицы через создание списков колонок. <br>\n",
        "Из полученного списка кортежей необходимо извлечь id поочерёдно и вложить в соответсвующий список.\n"
      ]
    },
    {
      "cell_type": "code",
      "execution_count": null,
      "metadata": {
        "id": "n91_Xz079kDq"
      },
      "outputs": [],
      "source": [
        "# В первом списке - id курсов, для которых делается рекомендация.\n",
        "lst_1 = []\n",
        "for i in rec_lst_fin:\n",
        "    lst_1.append(i[0])\n",
        "#print(lst_1)"
      ]
    },
    {
      "cell_type": "code",
      "execution_count": null,
      "metadata": {
        "id": "g6eVFMDU9kDr"
      },
      "outputs": [],
      "source": [
        "# Во втором списке - id курсов для рекомендации № 1 (самый популярный).\n",
        "lst_2 = []\n",
        "for i in rec_lst_fin:\n",
        "    lst_2.append(i[1])\n",
        "#print(lst_2)"
      ]
    },
    {
      "cell_type": "code",
      "execution_count": null,
      "metadata": {
        "id": "B-_CZsXj9kDs"
      },
      "outputs": [],
      "source": [
        "# В третьем списке - id курсов для рекомендации № 2 (второй по популярности).\n",
        "lst_3 = []\n",
        "for i in rec_lst_fin:\n",
        "    lst_3.append(i[2])\n",
        "#print(lst_3)"
      ]
    },
    {
      "cell_type": "markdown",
      "metadata": {
        "id": "t6DbxfUY9kDs"
      },
      "source": [
        "**Из списков формируем финальную таблицу с соответствующими колонками.**"
      ]
    },
    {
      "cell_type": "code",
      "execution_count": null,
      "metadata": {
        "id": "Z41Cbsnr9kDs",
        "outputId": "272a3e5b-6476-4dca-a344-ce35c69358f5"
      },
      "outputs": [
        {
          "data": {
            "text/html": [
              "<div>\n",
              "<style scoped>\n",
              "    .dataframe tbody tr th:only-of-type {\n",
              "        vertical-align: middle;\n",
              "    }\n",
              "\n",
              "    .dataframe tbody tr th {\n",
              "        vertical-align: top;\n",
              "    }\n",
              "\n",
              "    .dataframe thead th {\n",
              "        text-align: right;\n",
              "    }\n",
              "</style>\n",
              "<table border=\"1\" class=\"dataframe\">\n",
              "  <thead>\n",
              "    <tr style=\"text-align: right;\">\n",
              "      <th></th>\n",
              "      <th>id_course</th>\n",
              "      <th>recommendation_1</th>\n",
              "      <th>recommendation_2</th>\n",
              "    </tr>\n",
              "  </thead>\n",
              "  <tbody>\n",
              "    <tr>\n",
              "      <th>0</th>\n",
              "      <td>513</td>\n",
              "      <td>503</td>\n",
              "      <td>551</td>\n",
              "    </tr>\n",
              "    <tr>\n",
              "      <th>1</th>\n",
              "      <td>514</td>\n",
              "      <td>551</td>\n",
              "      <td>515</td>\n",
              "    </tr>\n",
              "    <tr>\n",
              "      <th>2</th>\n",
              "      <td>515</td>\n",
              "      <td>551</td>\n",
              "      <td>489</td>\n",
              "    </tr>\n",
              "    <tr>\n",
              "      <th>3</th>\n",
              "      <td>516</td>\n",
              "      <td>745</td>\n",
              "      <td>553</td>\n",
              "    </tr>\n",
              "    <tr>\n",
              "      <th>4</th>\n",
              "      <td>517</td>\n",
              "      <td>551</td>\n",
              "      <td>750</td>\n",
              "    </tr>\n",
              "    <tr>\n",
              "      <th>...</th>\n",
              "      <td>...</td>\n",
              "      <td>...</td>\n",
              "      <td>...</td>\n",
              "    </tr>\n",
              "    <tr>\n",
              "      <th>121</th>\n",
              "      <td>504</td>\n",
              "      <td>572</td>\n",
              "      <td>569</td>\n",
              "    </tr>\n",
              "    <tr>\n",
              "      <th>122</th>\n",
              "      <td>507</td>\n",
              "      <td>570</td>\n",
              "      <td>752</td>\n",
              "    </tr>\n",
              "    <tr>\n",
              "      <th>123</th>\n",
              "      <td>508</td>\n",
              "      <td>507</td>\n",
              "      <td>570</td>\n",
              "    </tr>\n",
              "    <tr>\n",
              "      <th>124</th>\n",
              "      <td>509</td>\n",
              "      <td>745</td>\n",
              "      <td>553</td>\n",
              "    </tr>\n",
              "    <tr>\n",
              "      <th>125</th>\n",
              "      <td>511</td>\n",
              "      <td>363</td>\n",
              "      <td>562</td>\n",
              "    </tr>\n",
              "  </tbody>\n",
              "</table>\n",
              "<p>126 rows × 3 columns</p>\n",
              "</div>"
            ],
            "text/plain": [
              "     id_course  recommendation_1  recommendation_2\n",
              "0          513               503               551\n",
              "1          514               551               515\n",
              "2          515               551               489\n",
              "3          516               745               553\n",
              "4          517               551               750\n",
              "..         ...               ...               ...\n",
              "121        504               572               569\n",
              "122        507               570               752\n",
              "123        508               507               570\n",
              "124        509               745               553\n",
              "125        511               363               562\n",
              "\n",
              "[126 rows x 3 columns]"
            ]
          },
          "execution_count": 28,
          "metadata": {},
          "output_type": "execute_result"
        }
      ],
      "source": [
        "final_df = pd.DataFrame(\n",
        "    {'id_course': lst_1,\n",
        "     'recommendation_1': lst_2,\n",
        "     'recommendation_2': lst_3\n",
        "    })\n",
        "final_df"
      ]
    },
    {
      "cell_type": "code",
      "execution_count": null,
      "metadata": {
        "id": "WlhQIYs69kDt",
        "outputId": "871b76f9-866e-4c9e-e299-d42d5098b091"
      },
      "outputs": [
        {
          "name": "stdout",
          "output_type": "stream",
          "text": [
            "829\n"
          ]
        }
      ],
      "source": [
        "print(random.choice(lst_course)) # Вывожу для наглядности как выдаётся id из списка рекомендаций."
      ]
    },
    {
      "cell_type": "code",
      "execution_count": null,
      "metadata": {
        "id": "CEXeeBe-9kDt"
      },
      "outputs": [],
      "source": [
        "# Необходимо проверить на совпадение рекомендаций и исключить совпадения.\n",
        "for i in final_df['recommendation_1']:\n",
        "    for j in final_df['recommendation_2']:\n",
        "        if i == j:\n",
        "            j == random.choice(lst_course) # В случае совпадения, предлагаю замену из списка рейтинга курсов.\n",
        "        else:\n",
        "            continue"
      ]
    },
    {
      "cell_type": "markdown",
      "metadata": {
        "id": "aInHoXMg9kDt"
      },
      "source": [
        "<div id=\"header\" align=\"center\"><h1><span style=\"color:red\">В Ы В О Д<span></h1></p>"
      ]
    },
    {
      "cell_type": "markdown",
      "metadata": {
        "id": "NjGOiRIc9kDu"
      },
      "source": [
        "\n",
        "<blockquote><p>В ходе работы получена таблица на условиях<br>отбора рейтинга курсов с установлением минимальной границы по значению параметра для пар курсов count =6,<br>\n",
        "использованием для рекомендаций составленного рейтинга курсов (id) и рейтинга пар курсов.</p>"
      ]
    },
    {
      "cell_type": "markdown",
      "metadata": {
        "id": "qZqS15pd9kDu"
      },
      "source": [
        "<div id=\"header\" align=\"center\"><h1><span style=\"color:#2F4F4F\">Итоговая таблица</span></h1></p>"
      ]
    },
    {
      "cell_type": "markdown",
      "metadata": {
        "id": "bxStq7Fa9kDu"
      },
      "source": [
        "<blockquote><p>Итоговая таблица состит из трёх столбцов:<br><br>\n",
        "1. Курс, к которому идёт рекомендация.<br>\n",
        "2. Курс для рекомендации № 1 (самый популярный).<br>\n",
        "3. Курс для рекомендации № 2 (второй по популярности).</p>"
      ]
    },
    {
      "cell_type": "code",
      "execution_count": null,
      "metadata": {
        "id": "aAWKd0xF9kDu",
        "outputId": "78c0983c-b521-4de2-f6e1-bed6717877b3"
      },
      "outputs": [
        {
          "data": {
            "text/html": [
              "<div>\n",
              "<style scoped>\n",
              "    .dataframe tbody tr th:only-of-type {\n",
              "        vertical-align: middle;\n",
              "    }\n",
              "\n",
              "    .dataframe tbody tr th {\n",
              "        vertical-align: top;\n",
              "    }\n",
              "\n",
              "    .dataframe thead th {\n",
              "        text-align: right;\n",
              "    }\n",
              "</style>\n",
              "<table border=\"1\" class=\"dataframe\">\n",
              "  <thead>\n",
              "    <tr style=\"text-align: right;\">\n",
              "      <th></th>\n",
              "      <th>id_course</th>\n",
              "      <th>recommendation_1</th>\n",
              "      <th>recommendation_2</th>\n",
              "    </tr>\n",
              "  </thead>\n",
              "  <tbody>\n",
              "    <tr>\n",
              "      <th>0</th>\n",
              "      <td>513</td>\n",
              "      <td>503</td>\n",
              "      <td>551</td>\n",
              "    </tr>\n",
              "    <tr>\n",
              "      <th>1</th>\n",
              "      <td>514</td>\n",
              "      <td>551</td>\n",
              "      <td>515</td>\n",
              "    </tr>\n",
              "    <tr>\n",
              "      <th>2</th>\n",
              "      <td>515</td>\n",
              "      <td>551</td>\n",
              "      <td>489</td>\n",
              "    </tr>\n",
              "    <tr>\n",
              "      <th>3</th>\n",
              "      <td>516</td>\n",
              "      <td>745</td>\n",
              "      <td>553</td>\n",
              "    </tr>\n",
              "    <tr>\n",
              "      <th>4</th>\n",
              "      <td>517</td>\n",
              "      <td>551</td>\n",
              "      <td>750</td>\n",
              "    </tr>\n",
              "    <tr>\n",
              "      <th>...</th>\n",
              "      <td>...</td>\n",
              "      <td>...</td>\n",
              "      <td>...</td>\n",
              "    </tr>\n",
              "    <tr>\n",
              "      <th>121</th>\n",
              "      <td>504</td>\n",
              "      <td>572</td>\n",
              "      <td>569</td>\n",
              "    </tr>\n",
              "    <tr>\n",
              "      <th>122</th>\n",
              "      <td>507</td>\n",
              "      <td>570</td>\n",
              "      <td>752</td>\n",
              "    </tr>\n",
              "    <tr>\n",
              "      <th>123</th>\n",
              "      <td>508</td>\n",
              "      <td>507</td>\n",
              "      <td>570</td>\n",
              "    </tr>\n",
              "    <tr>\n",
              "      <th>124</th>\n",
              "      <td>509</td>\n",
              "      <td>745</td>\n",
              "      <td>553</td>\n",
              "    </tr>\n",
              "    <tr>\n",
              "      <th>125</th>\n",
              "      <td>511</td>\n",
              "      <td>363</td>\n",
              "      <td>562</td>\n",
              "    </tr>\n",
              "  </tbody>\n",
              "</table>\n",
              "<p>126 rows × 3 columns</p>\n",
              "</div>"
            ],
            "text/plain": [
              "     id_course  recommendation_1  recommendation_2\n",
              "0          513               503               551\n",
              "1          514               551               515\n",
              "2          515               551               489\n",
              "3          516               745               553\n",
              "4          517               551               750\n",
              "..         ...               ...               ...\n",
              "121        504               572               569\n",
              "122        507               570               752\n",
              "123        508               507               570\n",
              "124        509               745               553\n",
              "125        511               363               562\n",
              "\n",
              "[126 rows x 3 columns]"
            ]
          },
          "execution_count": 31,
          "metadata": {},
          "output_type": "execute_result"
        }
      ],
      "source": [
        "final_df"
      ]
    }
  ],
  "metadata": {
    "colab": {
      "provenance": [],
      "include_colab_link": true
    },
    "kernelspec": {
      "display_name": "Python 3",
      "name": "python3"
    },
    "language_info": {
      "codemirror_mode": {
        "name": "ipython",
        "version": 3
      },
      "file_extension": ".py",
      "mimetype": "text/x-python",
      "name": "python",
      "nbconvert_exporter": "python",
      "pygments_lexer": "ipython3",
      "version": "3.9.7"
    }
  },
  "nbformat": 4,
  "nbformat_minor": 0
}